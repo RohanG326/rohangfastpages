{
 "cells": [
  {
   "cell_type": "markdown",
   "metadata": {},
   "source": [
    "# Rohan G Class running Fibonacci\n",
    "> Week 5 Class running Fibonacci\n",
    "\n",
    "- toc: true \n",
    "- badges: true\n",
    "- comments: true\n",
    "- categories: [jupyter]\n",
    "- image: images/chart-preview.png"
   ]
  },
  {
   "cell_type": "code",
   "execution_count": 7,
   "metadata": {},
   "outputs": [
    {
     "name": "stdout",
     "output_type": "stream",
     "text": [
      "Hello, World!\n"
     ]
    }
   ],
   "source": [
    "var msg = \"Hello, World!\";\n",
    "console.log(msg)"
   ]
  },
  {
   "cell_type": "code",
   "execution_count": 8,
   "metadata": {},
   "outputs": [
    {
     "name": "stdout",
     "output_type": "stream",
     "text": [
      "Hello, World!\n"
     ]
    }
   ],
   "source": [
    "function logIt(output) {\n",
    "    console.log(output);\n",
    "}\n",
    "logIt(msg);"
   ]
  },
  {
   "cell_type": "code",
   "execution_count": 10,
   "metadata": {},
   "outputs": [
    {
     "name": "stdout",
     "output_type": "stream",
     "text": [
      "Looking at dynamic nature of types in JavaScript\n",
      "string ; hello\n",
      "number ; 2020\n",
      "object ; [ 1, 2, 3 ]\n"
     ]
    }
   ],
   "source": [
    "function logItType(output) {\n",
    "    console.log(typeof output, \";\", output);\n",
    "}\n",
    "console.log(\"Looking at dynamic nature of types in JavaScript\")\n",
    "logItType(\"hello\"); // String\n",
    "logItType(2020);    // Number\n",
    "logItType([1, 2, 3]);"
   ]
  },
  {
   "cell_type": "code",
   "execution_count": 19,
   "metadata": {},
   "outputs": [
    {
     "name": "stdout",
     "output_type": "stream",
     "text": [
      "object ; Event { name: 'Dynamic Planet', day: 'Friday', time: '5-6', role: '' }\n",
      "string ; {\"name\":\"Dynamic Planet\",\"day\":\"Friday\",\"time\":\"5-6\",\"role\":\"\"}\n",
      "object ; Event {\n",
      "  name: 'Dynamic Planet',\n",
      "  day: 'Friday',\n",
      "  time: '5-6',\n",
      "  role: 'Teacher' }\n",
      "string ; {\"name\":\"Dynamic Planet\",\"day\":\"Friday\",\"time\":\"5-6\",\"role\":\"Teacher\"}\n"
     ]
    }
   ],
   "source": [
    "function Event(name, day, time) {\n",
    "    this.name = name;\n",
    "    this.day = day;\n",
    "    this.time = time;\n",
    "    this.role = \"\";\n",
    "}\n",
    "\n",
    "// define a setter for role in Event data\n",
    "Event.prototype.setRole = function(role) {\n",
    "    this.role = role;\n",
    "}\n",
    "\n",
    "// define a JSON conversion \"method\" associated with Event\n",
    "Event.prototype.toJSON = function() {\n",
    "    const obj = {name: this.name, day: this.day, time: this.time, role: this.role};\n",
    "    const json = JSON.stringify(obj);  // json/string is useful when passing data on internet\n",
    "    return json;\n",
    "}\n",
    "\n",
    "// make a new Event and assign to variable geology\n",
    "var geology = new Event(\"Dynamic Planet\", \"Friday\", \"5-6PM\");  // object type is easy to work with in JavaScript\n",
    "logItType(geology);  // before role\n",
    "logItType(geology.toJSON());  // ok to do this even though role is not yet defined\n",
    "\n",
    "// output of Object and JSON/string associated with Teacher\n",
    "geology.setRole(\"Teacher\");   // set the role\n",
    "logItType(geology); \n",
    "logItType(geology.toJSON());"
   ]
  },
  {
   "cell_type": "code",
   "execution_count": 24,
   "metadata": {},
   "outputs": [
    {
     "name": "stdout",
     "output_type": "stream",
     "text": [
      "object ; [ Event {\n",
      "    name: 'Dynamic Planet',\n",
      "    day: 'Friday',\n",
      "    time: '5-6',\n",
      "    role: 'Best' },\n",
      "  Event {\n",
      "    name: 'Rocks and Minerals',\n",
      "    day: 'Tuesday',\n",
      "    time: '5-6PM',\n",
      "    role: 'mid' },\n",
      "  Event {\n",
      "    name: 'Astronomy',\n",
      "    day: 'Tuesday',\n",
      "    time: '6:30-8PM',\n",
      "    role: 'mid' },\n",
      "  Event {\n",
      "    name: 'Forestry',\n",
      "    day: 'Saturday',\n",
      "    time: '10-11AM',\n",
      "    role: 'mid' },\n",
      "  Event {\n",
      "    name: 'Green Generation',\n",
      "    day: 'Sunday',\n",
      "    time: '2-3PM',\n",
      "    role: 'mid' } ]\n",
      "string ; Dynamic Planet\n",
      "string ; {\"name\":\"Dynamic Planet\",\"day\":\"Friday\",\"time\":\"5-6\",\"role\":\"Best\"}\n",
      "object ; { name: 'Dynamic Planet',\n",
      "  day: 'Friday',\n",
      "  time: '5-6',\n",
      "  role: 'Best' }\n"
     ]
    }
   ],
   "source": [
    "var events = [ \n",
    "    new Event(\"Rocks and Minerals\", \"Tuesday\", \"5-6PM\"),\n",
    "    new Event(\"Astronomy\", \"Tuesday\", \"6:30-8PM\"),\n",
    "    new Event(\"Forestry\", \"Saturday\", \"10-11AM\"),\n",
    "    new Event(\"Green Generation\", \"Sunday\", \"2-3PM\"),\n",
    "];\n",
    "\n",
    "// define a classroom and build Classroom objects and json\n",
    "function Classroom(geology, events){ // 1 geology, many student\n",
    "    // start Classroom with Teacher\n",
    "    geology.setRole(\"Best\");\n",
    "    this.geology = geology;\n",
    "    this.classroom = [geology];\n",
    "    // add each Student to Classroom\n",
    "    this.events = events;\n",
    "    this.events.forEach(student => { student.setRole(\"mid\"); this.classroom.push(student); });\n",
    "    // build json/string format of Classroom\n",
    "    this.json = [];\n",
    "    this.classroom.forEach(Event => this.json.push(Event.toJSON()));\n",
    "}\n",
    "\n",
    "// make a CompSci classroom from formerly defined geology and events\n",
    "compsci = new Classroom(geology, events);\n",
    "\n",
    "// output of Objects and JSON in CompSci classroom\n",
    "logItType(compsci.classroom);  // constructed classroom object\n",
    "logItType(compsci.classroom[0].name);  // abstract 1st objects name\n",
    "logItType(compsci.json[0]);  // show json conversion of 1st object to string\n",
    "logItType(JSON.parse(compsci.json[0]));  // show JSON.parse inverse of JSON.stringify"
   ]
  },
  {
   "cell_type": "code",
   "execution_count": 25,
   "metadata": {},
   "outputs": [
    {
     "data": {
      "text/html": [
       "<div style='display:inline-block;border: 2px solid grey;box-shadow: 0.8em 0.4em 0.4em grey;'><table><tr><th><mark>Name</mark></th><th><mark>GitHub ID</mark></th><th><mark>Class Of</mark></th><th><mark>Role</mark></th></tr><tr><td>Dynamic Planet</td><td>Friday</td><td>5-6</td><td>Best</td><tr><tr><td>Rocks and Minerals</td><td>Tuesday</td><td>5-6PM</td><td>mid</td><tr><tr><td>Astronomy</td><td>Tuesday</td><td>6:30-8PM</td><td>mid</td><tr><tr><td>Forestry</td><td>Saturday</td><td>10-11AM</td><td>mid</td><tr><tr><td>Green Generation</td><td>Sunday</td><td>2-3PM</td><td>mid</td><tr></table></div>"
      ]
     },
     "execution_count": 25,
     "metadata": {},
     "output_type": "execute_result"
    }
   ],
   "source": [
    "// define an HTML conversion \"method\" associated with Classroom\n",
    "Classroom.prototype._toHtml = function() {\n",
    "    // HTML Style is build using inline structure\n",
    "    var style = (\n",
    "      \"display:inline-block;\" +\n",
    "      \"border: 2px solid grey;\" +\n",
    "      \"box-shadow: 0.8em 0.4em 0.4em grey;\"\n",
    "    );\n",
    "  \n",
    "    // HTML Body of Table is build as a series of concatenations (+=)\n",
    "    var body = \"\";\n",
    "    // Heading for Array Columns\n",
    "    body += \"<tr>\";\n",
    "    body += \"<th><mark>\" + \"Name\" + \"</mark></th>\";\n",
    "    body += \"<th><mark>\" + \"GitHub ID\" + \"</mark></th>\";\n",
    "    body += \"<th><mark>\" + \"Class Of\" + \"</mark></th>\";\n",
    "    body += \"<th><mark>\" + \"Role\" + \"</mark></th>\";\n",
    "    body += \"</tr>\";\n",
    "    // Data of Array, iterate through each row of compsci.classroom \n",
    "    for (var row in compsci.classroom) {\n",
    "      // tr for each row, a new line\n",
    "      body += \"<tr>\";\n",
    "      // td for each column of data\n",
    "      body += \"<td>\" + compsci.classroom[row].name + \"</td>\";\n",
    "      body += \"<td>\" + compsci.classroom[row].day + \"</td>\";\n",
    "      body += \"<td>\" + compsci.classroom[row].time + \"</td>\";\n",
    "      body += \"<td>\" + compsci.classroom[row].role + \"</td>\";\n",
    "      // tr to end line\n",
    "      body += \"<tr>\";\n",
    "    }\n",
    "  \n",
    "     // Build and HTML fragment of div, table, table body\n",
    "    return (\n",
    "      \"<div style='\" + style + \"'>\" +\n",
    "        \"<table>\" +\n",
    "          body +\n",
    "        \"</table>\" +\n",
    "      \"</div>\"\n",
    "    );\n",
    "  \n",
    "  };\n",
    "  \n",
    "  // IJavaScript HTML processor receive parameter of defined HTML fragment\n",
    "  $$.html(compsci._toHtml());"
   ]
  }
 ],
 "metadata": {
  "kernelspec": {
   "display_name": "JavaScript (Node.js)",
   "language": "javascript",
   "name": "javascript"
  },
  "language_info": {
   "file_extension": ".js",
   "mimetype": "application/javascript",
   "name": "javascript",
   "version": "6.11.2"
  },
  "orig_nbformat": 4
 },
 "nbformat": 4,
 "nbformat_minor": 2
}
