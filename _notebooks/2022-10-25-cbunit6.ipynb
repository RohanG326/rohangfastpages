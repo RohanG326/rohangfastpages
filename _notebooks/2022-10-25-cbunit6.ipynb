{
 "cells": [
  {
   "cell_type": "markdown",
   "metadata": {},
   "source": [
    "# Rohan G CollegeBoard Unit 6 Arrays\n",
    "> Week 9 Arrays\n",
    "\n",
    "- toc: true \n",
    "- badges: true\n",
    "- comments: true\n",
    "- categories: [jupyter]\n",
    "- image: images/chart-preview.png"
   ]
  },
  {
   "cell_type": "code",
   "execution_count": null,
   "metadata": {},
   "outputs": [],
   "source": [
    "// Hack 1\n",
    "int[] arrayOne = {1, 3, 5, 7, 9};\n",
    "for (int i = 0, arrayOne.length, i==) {\n",
    "    \n",
    "}"
   ]
  },
  {
   "cell_type": "markdown",
   "metadata": {},
   "source": [
    "Hack 2\n",
    "Which of the following is FALSE about arrays\n",
    "\n",
    "A. A java array is an object\n",
    "B. Length of array can be changed after creation of array\n",
    "C. Numerical data types of arrays are initialized to 0 to start\n",
    "\n",
    "B."
   ]
  },
  {
   "cell_type": "code",
   "execution_count": null,
   "metadata": {},
   "outputs": [],
   "source": [
    "// Hack 3\n",
    "int[] myNumbers = new int[] {5, 3, 4, 1, 2};\n",
    "\n",
    "Arrays.sort(myNumbers);\n",
    "\n",
    "for (int num: myNumbers) {\n",
    "    System.out.println(num);\n",
    "}"
   ]
  },
  {
   "cell_type": "code",
   "execution_count": null,
   "metadata": {},
   "outputs": [],
   "source": [
    "// Hack 4\n",
    "for ( int k = 0; k < a.length; k++ )\n",
    "{\n",
    "   while ( a[ k ] < temp )\n",
    "   {\n",
    "      a[ k ] *= 2;\n",
    "   }\n",
    "}"
   ]
  },
  {
   "cell_type": "code",
   "execution_count": null,
   "metadata": {},
   "outputs": [],
   "source": [
    "// Hack 5\n",
    "public class ForEachDemo\n",
    "{\n",
    "   public static void main(String[] args)\n",
    "   {\n",
    "     int[] highScores = { 10, 9, 8, 8};\n",
    "     String[] names = {\"Jamal\", \"Emily\", \"Destiny\", \"Mateo\"};\n",
    "     // for each loop with an int array\n",
    "     for (int value : highScores)\n",
    "     {\n",
    "         System.out.println( value );\n",
    "     }\n",
    "     // for each loop with a String array\n",
    "     for (String value : names)\n",
    "     {\n",
    "         System.out.println(value); // this time it's a name!\n",
    "     }\n",
    "   }\n",
    " }"
   ]
  },
  {
   "cell_type": "code",
   "execution_count": null,
   "metadata": {},
   "outputs": [],
   "source": [
    "// Hack 7\n",
    "for ( int k = 0; k < a.length; k++ )\n",
    "{\n",
    "   while ( a[ k ] < temp )\n",
    "   {\n",
    "      a[ k ] *= 2;\n",
    "   }\n",
    "}"
   ]
  },
  {
   "cell_type": "code",
   "execution_count": null,
   "metadata": {},
   "outputs": [],
   "source": [
    "// Computing Sums\n",
    "int[] array = {5, 1, 78}; // intialize\n",
    "\n",
    "int sum  = 0; // variable to keep track of sum\n",
    "\n",
    "for (int number: array) { // iterates over each loop in the array\n",
    "    sum += number; // the number is added to the sum\n",
    "}\n",
    "\n",
    "System.out.println(sum); //expected sum is 84, so 84 should be printed\n"
   ]
  },
  {
   "cell_type": "code",
   "execution_count": null,
   "metadata": {},
   "outputs": [],
   "source": [
    "// from college board\n",
    "\n",
    "private double findMax(double[] values) {\n",
    "    double max = values[0]; // initialize max with first element of array\n",
    "\n",
    "    for(int i=1; i<values.length; i++) { // starting with the second element, iterate over the rest of the array\n",
    "        if (values[i] > max) { // if the current element is greater than the max\n",
    "            max = values[i]; // set the max equal to the greatest value until that point\n",
    "        }\n",
    "    }\n",
    "\n",
    "    return max; \n",
    "}"
   ]
  },
  {
   "cell_type": "code",
   "execution_count": null,
   "metadata": {},
   "outputs": [],
   "source": [
    "private int findEvenNumbers(int[] values) {\n",
    "    int evenCount = 0; // initalize count of even numbers to zero\n",
    "\n",
    "    for(int value: values) { // iterate over every element of array\n",
    "        if(value % 2 == 0) { // use modulus operator to check if value is even\n",
    "            evenCount += 1; // increment evenCount if the value is even\n",
    "        }\n",
    "    }\n",
    "\n",
    "    return evenCount; \n",
    "}"
   ]
  },
  {
   "cell_type": "markdown",
   "metadata": {},
   "source": [
    "Given the following code segment, which of the following will cause an infinite loop? Assume that temp is an int variable initialized to be greater than zero and that a is an array of integers.\n",
    "\n",
    "- A. The values don't matter this will always cause an infinite loop.\n",
    "- B. Whenever a includes a value that is less than or equal to zero.\n",
    "- C. Whenever a has values larger then temp.\n",
    "- D. When all values in a are larger than temp.\n",
    "- E. Whenever a includes a value equal to temp."
   ]
  },
  {
   "cell_type": "markdown",
   "metadata": {},
   "source": [
    "# WE WON THE BINGO!!"
   ]
  },
  {
   "cell_type": "code",
   "execution_count": null,
   "metadata": {},
   "outputs": [],
   "source": [
    "// FRQ\n",
    "public void addMembers(String[] names, int gradYear) {\n",
    "    for (String name : names) {\n",
    "        memberList.add(new MemberInfo(name, gradYear, true));\n",
    "    }\n",
    "}"
   ]
  }
 ],
 "metadata": {
  "kernelspec": {
   "display_name": "Java",
   "language": "java",
   "name": "java"
  },
  "language_info": {
   "name": "java"
  },
  "orig_nbformat": 4
 },
 "nbformat": 4,
 "nbformat_minor": 2
}
