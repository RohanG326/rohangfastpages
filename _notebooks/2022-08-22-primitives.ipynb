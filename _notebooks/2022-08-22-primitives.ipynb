{
 "cells": [
  {
   "cell_type": "markdown",
   "metadata": {},
   "source": [
    "# Rohan G Primitives\n",
    "> Week 1 Primitives\n",
    "\n",
    "- toc: true \n",
    "- badges: true\n",
    "- comments: true\n",
    "- categories: [jupyter]\n",
    "- image: images/chart-preview.png"
   ]
  },
  {
   "cell_type": "code",
   "execution_count": null,
   "metadata": {
    "vscode": {
     "languageId": "java"
    }
   },
   "outputs": [],
   "source": [
    "public class DefinePrimitives {\n",
    "    public static void main(String[] args) {\n",
    "      int anInt = 100;\n",
    "      double aDouble = 89.9;\n",
    "      boolean aBoolean = true;\n",
    "\n",
    "      // not primitives but essential\n",
    "      String aString = \"Hello, World!\";   // wrapper class shortcut assignment\n",
    "      String aStringFormal = new String(\"Greetings, World!\");\n",
    "  \n",
    "      System.out.println(\"anInt: \" + anInt);\n",
    "      System.out.println(\"aDouble: \" + aDouble);\n",
    "      System.out.println(\"aBoolean: \" + aBoolean);\n",
    "      System.out.println(\"aString: \" + aString);\n",
    "      System.out.println(\"aStringFormal: \" + aStringFormal);\n",
    "    }\n",
    "  }\n",
    "  DefinePrimitives.main(null)"
   ]
  },
  {
   "cell_type": "code",
   "execution_count": null,
   "metadata": {
    "vscode": {
     "languageId": "java"
    }
   },
   "outputs": [],
   "source": [
    "// java style to import library\n",
    "import java.util.Scanner;\n",
    "\n",
    "// class must alway have 1st letter as uppercase, CamelCase is Java Class convention\n",
    "public class ScanPrimitives {\n",
    "    public static void main(String[] args) {    \n",
    "        Scanner input;\n",
    "\n",
    "        // primitive int\n",
    "        input = new Scanner(System.in);\n",
    "        System.out.print(\"Enter an integer: \");\n",
    "        try {\n",
    "            int sampleInputInt = input.nextInt();\n",
    "            System.out.println(sampleInputInt);\n",
    "        } catch (Exception e) {  // if not an integer\n",
    "            System.out.println(\"Not an integer (form like 159), \" + e);\n",
    "        }\n",
    "        input.close();\n",
    "\n",
    "        // primitive double\n",
    "        input = new Scanner(System.in);\n",
    "        System.out.print(\"Enter a double: \");\n",
    "        try {\n",
    "            double sampleInputDouble = input.nextDouble();\n",
    "            System.out.println(sampleInputDouble);\n",
    "        } catch (Exception e) {  // if not a number\n",
    "            System.out.println(\"Not an double (form like 9.99), \" + e);\n",
    "        }\n",
    "        input.close();\n",
    "\n",
    "        // primitive boolean\n",
    "        input =  new Scanner(System.in);\n",
    "        System.out.print(\"Enter a boolean: \");\n",
    "        try {\n",
    "            boolean sampleInputBoolean = input.nextBoolean();\n",
    "            System.out.println(sampleInputBoolean);\n",
    "        } catch (Exception e) {  // if not true or false\n",
    "            System.out.println(\"Not an boolean (true or false), \" + e);\n",
    "        }\n",
    "        input.close();\n",
    "\n",
    "        // wrapper class String\n",
    "        input =  new Scanner(System.in);\n",
    "        System.out.print(\"Enter a String: \");\n",
    "        try {\n",
    "            String sampleInputString = input.nextLine();\n",
    "            System.out.println(sampleInputString);\n",
    "        } catch (Exception e) { // this may never happen\n",
    "            System.out.println(\"Not an String, \" + e);\n",
    "        }\n",
    "        input.close();\n",
    "    }\n",
    "}\n",
    "ScanPrimitives.main(null);"
   ]
  },
  {
   "cell_type": "code",
   "execution_count": null,
   "metadata": {
    "vscode": {
     "languageId": "java"
    }
   },
   "outputs": [],
   "source": [
    "public class PrimitiveDivision {\n",
    "    public static void main(String[] args) {\n",
    "        int i1 = 7, i2 = 2;\n",
    "        System.out.println(\"Integer Division\");\n",
    "        System.out.println(\"\\tint output with concatenation: \" + i1 + \"/\" + i2 + \" = \" + i1/i2);\n",
    "        System.out.println(String.format(\"\\tint output with format: %d/%d = %d\",i1, i2, i1/i2));\n",
    "        System.out.printf(\"\\tint output with printf: %d/%d = %d\\n\",i1, i2, i1/i2);\n",
    "\n",
    "        double d1 = 7, d2 = 2;\n",
    "        System.out.println(\"Double Division\");\n",
    "        System.out.println(\"\\tdouble output with concatenation: \" + d1 + \"/\" + d2 + \" = \" + d1/d2);\n",
    "        System.out.println(String.format(\"\\tdouble output with format: %.2f/%.2f = %.2f\",d1, d2, d1/d2));\n",
    "        System.out.printf(\"\\tdouble output with printf: %.2f/%.2f = %.2f\\n\",d1, d2, d1/d2);\n",
    "\n",
    "        System.out.println(\"Casting and Remainders\");\n",
    "        System.out.printf(\"\\tint cast to double on division: %d/%d = %.2f\\n\",i1, i2, i1/(double)i2);\n",
    "        System.out.println(\"\\tint using modulo for remainder: \" + i1 + \"/\" + i2 + \" = \" + i1/i2 + \" remainder \" + i1%i2);\n",
    "    }\n",
    "}\n",
    "PrimitiveDivision.main(null);"
   ]
  },
  {
   "cell_type": "code",
   "execution_count": 29,
   "metadata": {
    "vscode": {
     "languageId": "java"
    }
   },
   "outputs": [
    {
     "name": "stdout",
     "output_type": "stream",
     "text": [
      "Enter a double, 0 to exit: 0.0\n",
      "Average: NaN\n"
     ]
    }
   ],
   "source": [
    "public class GradeCalculator {\n",
    "    // introduction to Double wrapper class (object)\n",
    "    ArrayList<Double> grades;   // similar to Python list\n",
    "\n",
    "    // constructor, initializes ArrayList and call enterGrades method\n",
    "    public GradeCalculator() {\n",
    "        this.grades = new ArrayList<>();\n",
    "        this.enterGrades();\n",
    "    }\n",
    "\n",
    "    // double requires test for zero versus threshold, DO NOT compare to Zero\n",
    "    private boolean isZero(double value){\n",
    "        double threshold = 0.001;\n",
    "        return value >= -threshold && value <= threshold;\n",
    "    }\n",
    "\n",
    "\n",
    "    // enterGrades input method using scanner\n",
    "    private void enterGrades() {\n",
    "        Scanner input;\n",
    "\n",
    "        while (true) {\n",
    "            input = new Scanner(System.in);\n",
    "            System.out.print(\"Enter a double, 0 to exit: \");\n",
    "            try {\n",
    "                double sampleInputDouble = input.nextDouble();\n",
    "                System.out.println(sampleInputDouble);\n",
    "                if (isZero(sampleInputDouble)) break;       // exit loop on isZero\n",
    "                else this.grades.add(sampleInputDouble);    // adding to object, ArrayList grades\n",
    "            } catch (Exception e) {  // if not a number\n",
    "                System.out.println(\"Not an double (form like 9.99), \" + e);\n",
    "            }\n",
    "            input.close();\n",
    "        }\n",
    "    }\n",
    "\n",
    "    // average calculation \n",
    "    public double average() {\n",
    "        double total = 0;   // running total\n",
    "        for (double num : this.grades) {    // enhanced for loop\n",
    "            total += num;   // shortcut add and assign operator\n",
    "        }\n",
    "        return (total / this.grades.size());  // double math, ArrayList grades object maintains its size\n",
    "    }\n",
    "\n",
    "    // static main method, used as driver and tester\n",
    "    public static void main(String[] args) {\n",
    "        GradeCalculator grades = new GradeCalculator(); // calls constructor, creates object, which calls enterGrades\n",
    "        System.out.println(\"Average: \" + String.format(\"%.2f\", grades.average()));  // format used to standardize to two decimal points\n",
    "    }\n",
    "}\n",
    "// IJava activation\n",
    "GradeCalculator.main(null);"
   ]
  },
  {
   "cell_type": "code",
   "execution_count": 46,
   "metadata": {
    "vscode": {
     "languageId": "java"
    }
   },
   "outputs": [
    {
     "name": "stdout",
     "output_type": "stream",
     "text": [
      "How many years\n",
      "What is your interest rate in %?\n",
      "What is your starting amount?\n",
      "After 2 years, you will have $12.100000000000001\n"
     ]
    }
   ],
   "source": [
    "import java.util.Scanner;\n",
    "public class CompoundInterest {\n",
    "    public static void main(String[] args) {\n",
    "      Scanner Year = new Scanner(System.in);\n",
    "      System.out.println(\"How many years\");\n",
    "      int years = Year.nextInt();\n",
    "      Scanner Rate = new Scanner(System.in);\n",
    "      System.out.println(\"What is your interest rate in %?\");\n",
    "      double rate = Rate.nextDouble();\n",
    "      Scanner Start = new Scanner(System.in);\n",
    "      System.out.println(\"What is your starting amount?\");\n",
    "      int start = Start.nextInt();\n",
    "      double finalAmount = start*Math.pow(1 + rate/100, years);\n",
    "      System.out.println(\"After \"+years+\" years, you will have $\"+finalAmount);\n",
    "    }\n",
    "  }\n",
    "  CompoundInterest.main(null)"
   ]
  }
 ],
 "metadata": {
  "kernelspec": {
   "display_name": "Java",
   "language": "java",
   "name": "java"
  },
  "language_info": {
   "codemirror_mode": "java",
   "file_extension": ".jshell",
   "mimetype": "text/x-java-source",
   "name": "Java",
   "pygments_lexer": "java",
   "version": "11.0.16+8-post-Ubuntu-0ubuntu120.04"
  },
  "orig_nbformat": 4,
  "vscode": {
   "interpreter": {
    "hash": "916dbcbb3f70747c44a77c7bcd40155683ae19c65e1c03b4aa3499c5328201f1"
   }
  }
 },
 "nbformat": 4,
 "nbformat_minor": 2
}
