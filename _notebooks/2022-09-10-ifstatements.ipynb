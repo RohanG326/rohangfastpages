{
 "cells": [
  {
   "cell_type": "markdown",
   "metadata": {},
   "source": [
    "# Rohan G If Statements\n",
    "> Week 3 If Statements\n",
    "\n",
    "- toc: true \n",
    "- badges: true\n",
    "- comments: true\n",
    "- categories: [jupyter]\n",
    "- image: images/chart-preview.png"
   ]
  },
  {
   "cell_type": "markdown",
   "metadata": {},
   "source": [
    "# If Statement\n",
    "- an if statement is a conditional piece of code that executes a certain procedure once a condition is met\n"
   ]
  },
  {
   "cell_type": "code",
   "execution_count": null,
   "metadata": {},
   "outputs": [],
   "source": [
    "if (condition) {\n",
    "    //output\n",
    "}\n",
    "else {\n",
    "    //ouput\n",
    "}"
   ]
  },
  {
   "cell_type": "markdown",
   "metadata": {},
   "source": [
    "# Else If Statement\n",
    "- an if else statement is a conditional piece of code as well but if the condition is not met, then it executes a different procedure\n"
   ]
  },
  {
   "cell_type": "code",
   "execution_count": null,
   "metadata": {},
   "outputs": [],
   "source": [
    "if (condition) {\n",
    "    //output\n",
    "}\n",
    "else if (other condition) {\n",
    "    //ouput\n",
    "}"
   ]
  },
  {
   "cell_type": "markdown",
   "metadata": {},
   "source": [
    "# If Elseif Else Statement\n",
    "- an if else-if else is a conditional piece of code that executes a certain procedure but if the condition is not met, it executes a different conditional, but if that is not met either, then it executes the last else\n"
   ]
  },
  {
   "cell_type": "code",
   "execution_count": null,
   "metadata": {},
   "outputs": [],
   "source": [
    "if (condition) {\n",
    "    //output\n",
    "}\n",
    "else if (other condition) {\n",
    "    //ouput\n",
    "}\n",
    "else {\n",
    "    //output\n",
    "}"
   ]
  },
  {
   "cell_type": "markdown",
   "metadata": {},
   "source": [
    "# If Statements CheckAnswer Function"
   ]
  },
  {
   "cell_type": "code",
   "execution_count": 2,
   "metadata": {},
   "outputs": [
    {
     "name": "stdout",
     "output_type": "stream",
     "text": [
      "What is the country of the capital?\n",
      "That is the capital of Peru!\n"
     ]
    }
   ],
   "source": [
    "class CheckAnswer {\n",
    "    public static void main(String[] args) {\n",
    "        Scanner scanner = new Scanner(System.in);\n",
    "        System.out.println(\"What is the country of the capital?\");\n",
    "        String answer = scanner.nextLine();\n",
    "            if (answer.equals (\"Santiago\") ) {\n",
    "                System.out.println(\"That is the capital of Chile!\");\n",
    "            }\n",
    "            else if (answer.equals (\"Bogota\") ) {\n",
    "                System.out.println(\"That is the capital of Columbia!\");\n",
    "            }\n",
    "            else if (answer.equals (\"Lima\") ) {\n",
    "                System.out.println(\"That is the capital of Peru!\");\n",
    "            }\n",
    "            else if (answer.equals (\"Buenos Aires\") ) {\n",
    "                System.out.println(\"That is the capital of Argentina!\");\n",
    "            }\n",
    "            else if (answer.equals (\"Quito\") ) {\n",
    "                System.out.println(\"That is the capital of Ecuador!\");\n",
    "            }\n",
    "            else if (answer.equals (\"Caracas\") ) {\n",
    "                System.out.println(\"That is the capital of Venezuela!\");\n",
    "            }\n",
    "            else {\n",
    "                System.out.println(\"This is not a valid capital!\");\n",
    "            }\n",
    "    } \n",
    "}\n",
    "CheckAnswer.main(null);\n"
   ]
  },
  {
   "cell_type": "markdown",
   "metadata": {},
   "source": [
    "# Switch Case\n",
    "- Switch case is another type of conditional statement that is more prevalent in menus to select a certain value that executes a code. Can also be used for many elseifs all contingent on a singular variable."
   ]
  },
  {
   "cell_type": "code",
   "execution_count": 35,
   "metadata": {},
   "outputs": [
    {
     "name": "stdout",
     "output_type": "stream",
     "text": [
      "Enter a single digit value\n",
      "8\n"
     ]
    }
   ],
   "source": [
    "public class SwitchCase {\n",
    "    public static void main(String[] args) {\n",
    "        Scanner scanner = new Scanner(System.in);\n",
    "        System.out.println(\"Enter a single digit value\"); //user input for array\n",
    "        int x = scanner.nextInt();\n",
    "        switch (x){\n",
    "            case 0:\n",
    "                //If case is 0, this block executes\n",
    "                System.out.println(\"Absolute Value was 0\");\n",
    "                break;\n",
    "            case -1:\n",
    "                //If case is 1, this block executes\n",
    "                System.out.println(\"Absolute Value was 1\");\n",
    "                break;\n",
    "            case -2:\n",
    "                //If case is 2, this block executes\n",
    "                System.out.println(\"Absolute Value was 2\");\n",
    "                break;\n",
    "            case -3:\n",
    "                //If case is 3, this block executes\n",
    "                System.out.println(\"Absolute Value was 3\");\n",
    "                break;\n",
    "            case -4:\n",
    "                //If case is 4, this block executes\n",
    "                System.out.println(\"Absolute Value was 4\");\n",
    "                break;\n",
    "            case -5:\n",
    "                //If case is 5, this block executes\n",
    "                System.out.println(\"Absolute Value was 5\");\n",
    "                break;\n",
    "            case -6:\n",
    "                //If case is 5, this block executes\n",
    "                System.out.println(\"Absolute Value was 5\");\n",
    "                break;\n",
    "            case -7:\n",
    "                //If case is 5, this block executes\n",
    "                System.out.println(\"Absolute Value was 8\");\n",
    "                break;\n",
    "            case -8:\n",
    "                //If case is 5, this block executes\n",
    "                System.out.println(\"Absolute Value was 8\");\n",
    "                break;\n",
    "            case -9:\n",
    "                //If case is 5, this block executes\n",
    "                System.out.println(\"Absolute Value was 9\");\n",
    "                break;\n",
    "            default:\n",
    "                //This block is similar to else statement, is the default operation\n",
    "                System.out.println(x);\n",
    "        }\n",
    "    }\n",
    "}\n",
    "\n",
    "SwitchCase.main(null);"
   ]
  },
  {
   "cell_type": "markdown",
   "metadata": {},
   "source": [
    "# De Morgan's Law\n",
    "- De Morgan's law is an action you can do to a conditional that if you take the not(!) of a condition, it flips all the trues to false and the and(&&) operators to or(||) or vice versa\n"
   ]
  },
  {
   "cell_type": "code",
   "execution_count": null,
   "metadata": {},
   "outputs": [],
   "source": [
    "!(a && b) == (!a || !b)\n",
    "!(a || b) == (!a && !b)"
   ]
  },
  {
   "cell_type": "code",
   "execution_count": 37,
   "metadata": {},
   "outputs": [
    {
     "name": "stdout",
     "output_type": "stream",
     "text": [
      "valid\n"
     ]
    }
   ],
   "source": [
    "if ((true) && !(false)) {\n",
    "    System.out.println(\"valid\");\n",
    "}\n"
   ]
  },
  {
   "cell_type": "markdown",
   "metadata": {},
   "source": [
    "## not operator on the whole expression causes the true and false to flip and the && and || to flip"
   ]
  },
  {
   "cell_type": "code",
   "execution_count": 39,
   "metadata": {},
   "outputs": [
    {
     "name": "stdout",
     "output_type": "stream",
     "text": [
      "opposite demonstrating de morgans law\n"
     ]
    }
   ],
   "source": [
    "if (!(false) || (true)) {\n",
    "    System.out.println(\"opposite demonstrating de morgans law\");\n",
    "}"
   ]
  }
 ],
 "metadata": {
  "kernelspec": {
   "display_name": "Java",
   "language": "java",
   "name": "java"
  },
  "language_info": {
   "codemirror_mode": "java",
   "file_extension": ".jshell",
   "mimetype": "text/x-java-source",
   "name": "java",
   "pygments_lexer": "java",
   "version": "11.0.16+8-post-Ubuntu-0ubuntu120.04"
  },
  "orig_nbformat": 4
 },
 "nbformat": 4,
 "nbformat_minor": 2
}
