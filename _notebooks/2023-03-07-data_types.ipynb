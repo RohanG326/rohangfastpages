{
 "cells": [
  {
   "attachments": {},
   "cell_type": "markdown",
   "metadata": {},
   "source": [
    "# Data Types\n",
    "> This is a deeper review on data types, wrapper classes and classes specific in preparation for using Data Structures.\n",
    "- title: Data Types\n",
    "- toc: true\n",
    "- categories: []\n",
    "- image: /images/data_types.jpeg\n",
    "- type: ap\n",
    "- week: 25"
   ]
  },
  {
   "attachments": {},
   "cell_type": "markdown",
   "metadata": {},
   "source": [
    "## Data Types in Java\n",
    "Before discussing ***Data Structures*** it is important to review ***Data Types*** and the AP ***Methods and Control Structures*** topic.  To begin this discussion I asked ChatGPT, ***\"what are Java data types\"*** and was really happy with the answer ...\n",
    "\n",
    "- In Java, ***data types are used to define the type of data that a variable can hold***. There are two main categories of data types in Java: primitive data types and reference data types.\n",
    "\n",
    "    - Primitive data types:\n",
    "        - byte: 8-bit signed integer (-128 to 127)\n",
    "        - short: 16-bit signed integer (-32,768 to 32,767)\n",
    "        - int: 32-bit signed integer (-2,147,483,648 to 2,147,483,647)\n",
    "        - long: 64-bit signed integer (-9,223,372,036,854,775,808 to 9,223,372,036,854,775,807)\n",
    "        - float: 32-bit floating-point number (1.4e-45 to 3.4e+38)\n",
    "        - double: 64-bit floating-point number (4.9e-324 to 1.8e+308)\n",
    "        - boolean: true or false\n",
    "        - char: 16-bit Unicode character (0 to 65,535)\n",
    "\n",
    "    - Reference data types:\n",
    "        - Objects: instances of classes\n",
    "        - Arrays: a collection of data of the same type.\n",
    "\n",
    "- ***Primitive data types are stored directly in memory***, whereas ***reference data types are stored as a reference to a memory location*** where the actual data is stored.\n",
    "\n",
    "\n",
    "This led to follow up question, ***\"what about Java Wrapper data types\"*** and this answer even corrected my language to say ***wrapper classes*** ...\n",
    "\n",
    "- Java Wrapper classes are classes that provide a way to use primitive data types as objects. ***They are called wrapper classes because they \"wrap\" the primitive data types into an object***.\n",
    "\n",
    "    - There are eight wrapper classes in Java, each corresponding to one of the primitive data types:\n",
    "    - Byte: represents a byte value\n",
    "    - Short: represents a short value\n",
    "    - Integer: represents an int value\n",
    "    - Long: represents a long value\n",
    "    - Float: represents a float value\n",
    "    - Double: represents a double value\n",
    "    - Boolean: represents a boolean value\n",
    "    - Character: represents a char value\n",
    "\n",
    "![](images/java_int_vs_integer.jpeg)\n",
    "\n",
    "- ***Wrapper classes are often used when working with collections*** or other APIs that require objects rather than primitive data types. They also provide methods for converting between primitive data types and their corresponding object types, as well as methods for performing operations on the wrapped values.\n",
    "\n",
    "As an addendum to ChatGPT definition of a Wrapper Class, it is critical to understand assignments.  When you ***assign a value*** to a wrapper class object, Java automatically ***creates a new instance*** of the wrapper class and assigns the value to it. Thus, every assignment is a new object!!! This process is called ***Auto-boxing***. For example, to assign an integer value to an Integer object ...\n",
    "\n",
    "```java\n",
    "// Both of these create new objects\n",
    "Integer n = 5; // Auto-boxing, Integer n = new Integer(5);\n",
    "n += 5;  // Auto-boxing, Integer n = new Integer(n + 5);  \n",
    "```\n",
    "\n",
    "For clarification, for my students I asked, \"define reference data types\".   This added a purpose to the name ***reference*** ...\n",
    "\n",
    "- In Java, ***reference data types are data types that hold references or memory addresses that point to objects.*** These data types do not actually contain the data they refer to, but instead, store a reference to the memory location where the data is stored.  Area in blue is called stack, variables local to the method; area in green is called heap or area used to store objects.\n",
    "\n",
    "![](images/java_primitive_reference.jpeg)\n",
    "\n",
    "- ***Reference data types are used to store complex data structures*** such as objects and arrays. Objects are instances of classes that encapsulate data and behavior, while arrays are collections of data of the same type.\n",
    "\n",
    "- When a reference data type variable is declared, memory is allocated for the reference variable itself, but not for the object or array it refers to. Memory for the object or array is allocated separately using the \"new\" keyword, and the reference variable is assigned the memory address of the object or array.\n",
    "\n",
    "- *****Reference data types are passed by reference***, which means that when a reference variable is passed as a method argument, the method receives a copy of the reference, but both the original reference and the copy point to the same object in memory. ***This allows methods to modify the object or array that the reference points to***.\n",
    "\n",
    "For completeness on this discussion I asked, ***\"define primitive data types\"*** ...\n",
    "\n",
    "- In Java, primitive data types are the basic building blocks of data that can hold a single value of a specific type. They are called ***\"primitive\" because they are not objects*** and do not have any methods or properties like objects do.\n",
    "\n",
    "- There are eight primitive data types in Java:\n",
    "    - byte: 8-bit signed integer (-128 to 127)\n",
    "    - short: 16-bit signed integer (-32,768 to 32,767)\n",
    "    - int: 32-bit signed integer (-2,147,483,648 to 2,147,483,647)\n",
    "    - long: 64-bit signed integer (-9,223,372,036,854,775,808 to 9,223,372,036,854,775,807)\n",
    "    - float: 32-bit floating-point number\n",
    "    - double: 64-bit floating-point number\n",
    "    - boolean: true or false\n",
    "    - char: 16-bit Unicode character (0 to 65,535)\n",
    "\n",
    "- ***Primitive data types are stored directly in memory and are passed by value***, which means that when a primitive data type variable is passed as a method argument, the method receives a copy of the value, not a reference to the original variable. This also means that modifying the value of a primitive data type variable inside a method does not affect the original value of the variable outside the method.\n"
   ]
  },
  {
   "attachments": {},
   "cell_type": "markdown",
   "metadata": {},
   "source": [
    "## Data Types behaviors\n",
    "The ***AP exam will have questions about \"primitives\", \"wrapper classes\", and \"reference\"*** and how they work in relation to \"pass by value\", and \"pass by reference\".\n",
    "\n",
    "### A primitive Data Type \"int\" showing pass by value\n",
    "The primitive ***int*** data type. This code shows behavior as it is passed to method and the value is changed."
   ]
  },
  {
   "cell_type": "code",
   "execution_count": null,
   "metadata": {
    "vscode": {
     "languageId": "java"
    }
   },
   "outputs": [],
   "source": [
    "public class IntByValue {\n",
    "    \n",
    "    public static void changeInt(int n) {\n",
    "        System.out.println(\"In changeInt method\");\n",
    "        System.out.println(\"\\tBefore n += 10: n = \" + n); // prints 5\n",
    "        n = n += 10;\n",
    "        System.out.println(\"\\tAfter n += 10: n = \" + n); // prints 10\n",
    "    }\n",
    "\n",
    "    public static void main(String[] args) {\n",
    "        int n = 5;\n",
    "        System.out.println(\"Main method before changeInt(n): n = \" + n); // prints 5\n",
    "        changeInt(n);\n",
    "        System.out.println(\"Main method after changeInt(n): n = \" + n); // still prints 5\n",
    "    }\n",
    "}\n",
    "IntByValue.main(null);"
   ]
  },
  {
   "attachments": {},
   "cell_type": "markdown",
   "metadata": {},
   "source": [
    "### The wrapper Integer class (by value or reference?)\n",
    "An object wrapper class ***Integer*** for the primitive ***int*** data type. TWhen an Integer object is passed as a parameter to a method, the object is passed as a class.  How does assignment behave in this example?  By value or by reference?  Observe the hashCode(), we will compare it to the next example."
   ]
  },
  {
   "cell_type": "code",
   "execution_count": null,
   "metadata": {
    "vscode": {
     "languageId": "java"
    }
   },
   "outputs": [],
   "source": [
    "public class IntegerByValueOrReference {\n",
    "    \n",
    "    public static void changeInteger(Integer n) {\n",
    "        System.out.println(\"In changeInteger method\");\n",
    "        System.out.println(\"\\tBefore change: n = \" + \n",
    "                            n + // prints 5\n",
    "                            \" hash code = \" + \n",
    "                            n.hashCode()); \n",
    "\n",
    "        n += 10;  // behind the scenes, this is:  n = new Integer(n+10)\n",
    "        \n",
    "        System.out.println(\"\\tAfter change: n = \" + \n",
    "                            n + // prints 15\n",
    "                            \" hash code = \" + \n",
    "                            n.hashCode()); \n",
    "    }\n",
    "\n",
    "    public static void main(String[] args) {\n",
    "        Integer n = 5;\n",
    "        System.out.println(\"Main method before changeInteger(n): n = \" + \n",
    "                            n + // prints 5\n",
    "                            \" hash code = \" + \n",
    "                            n.hashCode()); \n",
    "\n",
    "        changeInteger(n);\n",
    "        \n",
    "        System.out.println(\"Main method after changeInteger(n): n = \" + \n",
    "                            n +  // now prints 15\n",
    "                            \" hash code = \" + \n",
    "                            n.hashCode());     \n",
    "    }\n",
    "}\n",
    "IntegerByValueOrReference.main(null);"
   ]
  },
  {
   "attachments": {},
   "cell_type": "markdown",
   "metadata": {},
   "source": [
    "### The class AtomicInteger\n",
    "A class ***AtomicInteger*** for the primitive ***int*** data type. When an AtomicInteger object is passed as a parameter to a method, the object is passed as a Java class.  The only way to change the data with a class is to use the setters and getters of the Object.  The hashCode() show a unique object number and it maintains consistency through as the referenced data being changed by the setter."
   ]
  },
  {
   "cell_type": "code",
   "execution_count": null,
   "metadata": {
    "vscode": {
     "languageId": "java"
    }
   },
   "outputs": [],
   "source": [
    "import java.util.concurrent.atomic.AtomicInteger;\n",
    "\n",
    "public class PassByReference {\n",
    "    \n",
    "    public static void changeAtomicInteger(AtomicInteger n) {\n",
    "        System.out.println(\"In changeAtomicInteger method\");\n",
    "        System.out.println(\"\\tBefore change: n = \" + \n",
    "                            n + // prints 5\n",
    "                            \" hash code = \" + \n",
    "                            n.hashCode()); \n",
    "        n.set(n.get() + 10);  // at this point, we are clearly working with reference data type\n",
    "        System.out.println(\"\\tAfter change: n = \" + \n",
    "                            n + // prints 15\n",
    "                            \" hash code = \" + \n",
    "                            n.hashCode()); \n",
    "}\n",
    "\n",
    "    public static void main(String[] args) {\n",
    "        AtomicInteger n = new AtomicInteger(5); // unlike conventional wrapper class, this requires new\n",
    "        System.out.println(\"Main method before changeAtomicInteger(n): n = \" + \n",
    "                            n + // prints 5\n",
    "                            \" hash code = \" + \n",
    "                            n.hashCode()); \n",
    "        changeAtomicInteger(n);\n",
    "        System.out.println(\"Main method after changeAtomicInteger(n): n = \" + \n",
    "                            n +  // now prints 15\n",
    "                            \" hash code = \" + \n",
    "                            n.hashCode()); \n",
    "    }\n",
    "}\n",
    "PassByReference.main(null);"
   ]
  },
  {
   "attachments": {},
   "cell_type": "markdown",
   "metadata": {},
   "source": [
    "### Swap by IntByReference\n",
    "Behind the scenes you need to swap values.  This add a little purpose by only swapping if values are out of LowHigh order.  This is a ***Methods and Control Structures*** type of problem!!!\n",
    "\n",
    "What are some elements in this Class that are important to AP CSA exam?  \n",
    "Add a Setter to this Class and make modifications to code."
   ]
  },
  {
   "cell_type": "code",
   "execution_count": null,
   "metadata": {
    "vscode": {
     "languageId": "java"
    }
   },
   "outputs": [],
   "source": [
    "public class IntByReference {\n",
    "    private int value;\n",
    "\n",
    "    public IntByReference(Integer value) {\n",
    "        this.value = value;\n",
    "    }\n",
    "\n",
    "    public String toString() {\n",
    "        return (String.format(\"%d\", this.value));\n",
    "    }\n",
    "\n",
    "    public void swapToLowHighOrder(IntByReference i) {\n",
    "        if (this.value > i.value) {\n",
    "            int tmp = this.value;\n",
    "            this.value = i.value;\n",
    "            i.value = tmp;\n",
    "        }\n",
    "    }\n",
    "\n",
    "    public static void swapper(int n0, int n1) {\n",
    "        IntByReference a = new IntByReference(n0);\n",
    "        IntByReference b = new IntByReference(n1);\n",
    "        System.out.println(\"Before: \" + a + \" \" + b);\n",
    "        a.swapToLowHighOrder(b);  // conditionally build swap method to change values of a, b\n",
    "        System.out.println(\"After: \" + a + \" \" + b);\n",
    "        System.out.println();\n",
    "    }\n",
    "\n",
    "    public static void main(String[] ags) {\n",
    "        IntByReference.swapper(21, 16);\n",
    "        IntByReference.swapper(16, 21);\n",
    "        IntByReference.swapper(16, -1);\n",
    "    }\n",
    "\n",
    "}\n",
    "IntByReference.main(null);"
   ]
  },
  {
   "attachments": {},
   "cell_type": "markdown",
   "metadata": {},
   "source": [
    "## Methods and Control Structures in Java  [2022 AP Video on Method and Control](https://apclassroom.collegeboard.org/8/home?apd=a5t1zfvxkl)\n",
    "> Authority on testing should be considered AP Classroom.  There are a lot of sources out there, some drift according to their bias, just like me drifting toward PBL :).  The video link above goes over test and format, there could be minor changes with electronic vs paper format.   This video covers a lot of fundamentals on testing.\n",
    "\n",
    "- AP Test Format\n",
    "![](images/ap_format.png)\n",
    "\n",
    "- AP FRQ Types\n",
    "![](images/ap_frq_types.png)\n"
   ]
  },
  {
   "attachments": {},
   "cell_type": "markdown",
   "metadata": {},
   "source": [
    "## Hacks\n",
    "Much of this trimester, the Teacher will be introducing topics and then asking the student to do details explorations on these topic according to their need or interest.  This week first the Teacher will expect a pull request related to assignment options between Team and Teacher.  The request will require an ipynb file that is formed like a lesson and exploration into the topic.  Below are some hack options.  They are expected to be done as individuals and reviewed by team for errors and quality.  Do not provide deliverables where Teacher is first reviewer.  I will not announce on this item if it will be silent or live review; likely some combination.\n",
    "\n",
    "* Early seed award\n",
    "    - Write a sample binary addition 1 + 1 = 10\n",
    "    - Have Java Code cell on screen at start of lecture\n",
    "    - Don't tell anyone\n",
    "\n",
    "* Start with some small code excercises\n",
    "    - Write a Jupyter notebook code example on the following primitive types with a code example (4 to 5 lines), preference would be using array and methods like substring and random as applicable: int, double, boolean, char.\n",
    "    - Now convert each of the examples to corresponding Wrapper classes, using arrays.\n",
    "    - Expression of these in Class or PBL forms is an option.  But the review must be easy for me to see work.\n",
    "\n",
    "\n",
    "* Explore Teacher Code: [methodDataTypes]https://github.com/nighthawkcoders/spring_portfolio/tree/master/src/main/java/com/nighthawk/hacks/methodsDataTypes.  I would like a Jupyter Notebook that goes over key concepts in Teacher code and uses background from ChatGPT and from AP Classroom.\n",
    "    - Answer what are Methods and Control Structures\n",
    "    - Explore AP FRQ that teaches us about Methods and Control Structures FRQ\n",
    "    - Look at Diverse Arrays, Matrix in Teacher code and see if you think this is Methods and Control structures.\n",
    "    - Look at Diverse Arrays,Matrix in Teacher code an see if you thing this fits Data Types.\n",
    "    - Math.random is covered in Number, this Teacher code associated with random is critical knowledge when taking the AP Exam.  Random numbers in range like 7 to 9 is very important.\n",
    "    - Review DoNothingByValue, what is key knowledge here?\n",
    "    - Review IntByReference, what is key knowledge here?\n",
    "    - Review Menu code.  Try, Catch, Runnable are used to control program execution.  See if there is a way to get this to work in Jupyter Notebooks.  \n",
    "    - Define \"Method and Control Structures\".  To the Teacher, the Menu Code has the most work of methodDataTypes files that is related to the \"Methods and Control Structures\" topic.  Such exploration would begin by asking \"describe Java Methods and Control structures\".  Are instances of MenuRow and Runnable data types, control structures?  Does Driver have control structures, enumerate them. \n",
    "\n",
    "\n",
    "* Explore AP Classroom.  Look at 1 unique FRQ per team member on AP Classroom that goes over Methods and Control Structures.   Provide me a Jupyter Notebook, Video, and/or Code that cover key concepts.   Make this better than AP Classroom, specifically trying to get these reviews to cover key parts in under Ten minutes.  This option could use your PBL project and concepts if they were tailored to Teaching.\n",
    "    - Explore Testing requirements in AP Classroom Video\n",
    "    - Explore AP FRQ that teaches us about Methods and Control Structures FRQ, 18:10\n",
    "    - Make sure that code runs completely, complete any portion of FRQ that is undone.  Complete FRQs in a Jupyter notebook with markdown description and comments is a requirement.\n",
    "    - Integrate Data Types into the discussion as this is import concept when studying early materials.\n",
    "    - Integrate Definition of Methods and Control Structures in comments and definitions.\n"
   ]
  },
  {
   "attachments": {},
   "cell_type": "markdown",
   "metadata": {},
   "source": [
    "# Hacks"
   ]
  },
  {
   "cell_type": "code",
   "execution_count": null,
   "metadata": {
    "vscode": {
     "languageId": "java"
    }
   },
   "outputs": [],
   "source": [
    "public class SampleAddition {\n",
    "    public static String BinaryAddition(String a, String b) {\n",
    "        return Integer.toBinaryString((Integer.parseInt(a, 2) + Integer.parseInt(b, 2)));\n",
    "    }\n",
    "    public static void main(String[] args) {\n",
    "        System.out.println(BinaryAddition(\"1111111111111111111\", \"1000000000000111111111000\"));\n",
    "    }\n",
    "}\n",
    "SampleAddition.main(null);"
   ]
  },
  {
   "cell_type": "code",
   "execution_count": 19,
   "metadata": {
    "vscode": {
     "languageId": "java"
    }
   },
   "outputs": [
    {
     "name": "stdout",
     "output_type": "stream",
     "text": [
      "Element at index 0 : 6\n",
      "Element at index 1 : 4\n",
      "Element at index 2 : 3\n",
      "Element at index 3 : 19\n",
      "m\n",
      "o\n",
      "r\n",
      "t\n"
     ]
    }
   ],
   "source": [
    "public class PrimitivesTest {\n",
    "public static void main(String[] args) {\n",
    "  int[] array1;\n",
    "  array1 = new int[4];\n",
    "  array1[0] = 6;\n",
    "  array1[1] = 4;\n",
    "  array1[2] = 3;\n",
    "  array1[3] = 19;\n",
    "  for (int i = 0; i < array1.length; i++)\n",
    "  System.out.println(\"Element at index \" + i +  \" : \"+ array1[i]);\n",
    "char[] array2;\n",
    "  array2 = new char[4];\n",
    "  array2[0] = 'm';\n",
    "  array2[1] = 'o';\n",
    "  array2[2] = 'r';\n",
    "  array2[3] = 't';\n",
    "  for (int i = 0; i < array2.length; i++)\n",
    "  System.out.println(array2[i]);\n",
    "}\n",
    "}\n",
    "PrimitivesTest.main(null);"
   ]
  },
  {
   "attachments": {},
   "cell_type": "markdown",
   "metadata": {},
   "source": [
    "# Wrapper Classes"
   ]
  },
  {
   "cell_type": "code",
   "execution_count": 14,
   "metadata": {
    "vscode": {
     "languageId": "java"
    }
   },
   "outputs": [
    {
     "name": "stdout",
     "output_type": "stream",
     "text": [
      "[6, 4, 3, 19, 21, 45]\n"
     ]
    }
   ],
   "source": [
    "public class WrapperTest {\n",
    "    public static void main(String[] args) {\n",
    "        ArrayList<Integer> values = new ArrayList<>(Arrays.asList(6, 4, 3, 19, 21, 45));\n",
    "        System.out.println(values);\n",
    "      }\n",
    "}\n",
    "WrapperTest.main(null);"
   ]
  }
 ],
 "metadata": {
  "kernelspec": {
   "display_name": "Java",
   "language": "java",
   "name": "java"
  },
  "language_info": {
   "codemirror_mode": "java",
   "file_extension": ".jshell",
   "mimetype": "text/x-java-source",
   "name": "Java",
   "pygments_lexer": "java",
   "version": "17.0.5+8-Ubuntu-2ubuntu120.04"
  },
  "orig_nbformat": 4,
  "vscode": {
   "interpreter": {
    "hash": "07efb0c17bd1bebb54bd0de05e4d4c769f7a564dddf5b4c65148f358f9195f99"
   }
  }
 },
 "nbformat": 4,
 "nbformat_minor": 2
}
