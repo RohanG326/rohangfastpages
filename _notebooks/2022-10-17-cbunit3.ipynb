{
 "cells": [
  {
   "cell_type": "markdown",
   "metadata": {},
   "source": [
    "# Rohan G CollegeBoard Unit 3 Boolean Expressions and If Statements\n",
    "> Week 9 Unit 3 Lesson\n",
    "\n",
    "- toc: true \n",
    "- badges: true\n",
    "- comments: true\n",
    "- categories: [jupyter]\n",
    "- image: images/chart-preview.png"
   ]
  },
  {
   "cell_type": "markdown",
   "metadata": {},
   "source": [
    "## Conditionals Exercises 1-20 Even"
   ]
  },
  {
   "cell_type": "code",
   "execution_count": 1,
   "metadata": {},
   "outputs": [
    {
     "name": "stdout",
     "output_type": "stream",
     "text": [
      "-0.20871215252208009\n",
      "-4.7912878474779195\n"
     ]
    }
   ],
   "source": [
    "// Exercise 2\n",
    "int a = 1;\n",
    "int b = 5;\n",
    "int c = 1;\n",
    "double d = Math.pow(b,2) - 4 * a * c;\n",
    "if (d > 0) {\n",
    "    double root1 = (-b + Math.sqrt(d)) / (2 * a);\n",
    "    double root2 = (-b - Math.sqrt(d)) / (2 * a);\n",
    "    System.out.println(root1);\n",
    "    System.out.println(root2);\n",
    "} else {\n",
    "    System.out.println(\"not real\");\n",
    "}"
   ]
  },
  {
   "cell_type": "code",
   "execution_count": 2,
   "metadata": {},
   "outputs": [
    {
     "name": "stdout",
     "output_type": "stream",
     "text": [
      "positive\n"
     ]
    }
   ],
   "source": [
    "// Exercise 4\n",
    "float blah = 25;\n",
    "\n",
    "if (blah == 0) {\n",
    "    System.out.println(\"zero\");\n",
    "}\n",
    "else if (blah > 0) {\n",
    "    System.out.println(\"positive\");\n",
    "} else {\n",
    "    System.out.println(\"negative\");\n",
    "}\n",
    "if (Math.abs(blah) < 1 ) {\n",
    "    System.out.println(\"small\");\n",
    "}\n",
    "if (Math.abs(blah) > 1000000 ) {\n",
    "    System.out.println(\"big\");\n",
    "}"
   ]
  },
  {
   "cell_type": "code",
   "execution_count": 3,
   "metadata": {},
   "outputs": [
    {
     "name": "stdout",
     "output_type": "stream",
     "text": [
      "Input floating-point number: Input floating-point another number: They are different\n"
     ]
    }
   ],
   "source": [
    "// Exercise 6\n",
    "import java.util.Scanner;\n",
    "Scanner in = new Scanner(System.in);\n",
    "\n",
    "System.out.print(\"Input floating-point number: \");\n",
    "double x = in.nextDouble();\n",
    "System.out.print(\"Input floating-point another number: \");\n",
    "double y = in.nextDouble();\n",
    "\n",
    "x = Math.round(x * 1000);\n",
    "x = x / 1000;\n",
    "\n",
    "y = Math.round(y * 1000);\n",
    "y = y / 1000;\n",
    "\n",
    "if (x == y)\n",
    "{\n",
    "    System.out.println(\"They are the same up to three decimal places\");\n",
    "}\n",
    "else\n",
    "{\n",
    "    System.out.println(\"They are different\");\n",
    "}"
   ]
  },
  {
   "cell_type": "code",
   "execution_count": 4,
   "metadata": {},
   "outputs": [
    {
     "name": "stdout",
     "output_type": "stream",
     "text": [
      "Input an alphabet: Input letter is Consonant\n"
     ]
    }
   ],
   "source": [
    "// 8\n",
    "import java.util.Scanner;\n",
    "Scanner in = new Scanner(System.in);\n",
    "\n",
    "System.out.print(\"Input an alphabet: \");\n",
    "String input = in.next().toLowerCase();\n",
    "\n",
    "boolean uppercase = input.charAt(0) >= 65 && input.charAt(0) <= 90;\n",
    "boolean lowercase = input.charAt(0) >= 97 && input.charAt(0) <= 122;\n",
    "boolean vowels = input.equals(\"a\") || input.equals(\"e\") || input.equals(\"i\")\n",
    "        || input.equals(\"o\") || input.equals(\"u\");\n",
    "\n",
    "if (input.length() > 1)\n",
    "{\n",
    "    System.out.println(\"Error. Not a single character.\");\n",
    "}\n",
    "else if (!(uppercase || lowercase))\n",
    "{\n",
    "    System.out.println(\"Error. Not a letter. Enter uppercase or lowercase letter.\");\n",
    "}\n",
    "else if (vowels)\n",
    "{\n",
    "    System.out.println(\"Input letter is Vowel\");\n",
    "}\n",
    "else\n",
    "{\n",
    "    System.out.println(\"Input letter is Consonant\");\n",
    "}"
   ]
  },
  {
   "cell_type": "code",
   "execution_count": 5,
   "metadata": {},
   "outputs": [
    {
     "name": "stdout",
     "output_type": "stream",
     "text": [
      "The first 10 natural numbers are:\n",
      "\n",
      "1\n",
      "2\n",
      "3\n",
      "4\n",
      "5\n",
      "6\n",
      "7\n",
      "8\n",
      "9\n",
      "10\n",
      "\n",
      "\n"
     ]
    }
   ],
   "source": [
    "// 10\n",
    "int i;\n",
    "System.out.println (\"The first 10 natural numbers are:\\n\");\n",
    "for (i=1;i<=10;i++)\n",
    "{      \n",
    "    System.out.println (i);\n",
    "}\n",
    "System.out.println (\"\\n\");"
   ]
  },
  {
   "cell_type": "code",
   "execution_count": 6,
   "metadata": {},
   "outputs": [
    {
     "name": "stdout",
     "output_type": "stream",
     "text": [
      "Input the 5 numbers : \n",
      "The sum of 5 no is : 34\n",
      "The Average is : 6.0\n"
     ]
    }
   ],
   "source": [
    "// 12\n",
    "import java.util.Scanner;\n",
    "\n",
    "int i,n=0,s=0;\n",
    "double avg;\n",
    "{\n",
    "    \n",
    "    System.out.println(\"Input the 5 numbers : \");  \n",
    "        \n",
    "}\n",
    "    for (i=0;i<5;i++)\n",
    "    {\n",
    "        Scanner in = new Scanner(System.in);\n",
    "        n = in.nextInt();\n",
    "        \n",
    "    s +=n;\n",
    "}\n",
    "avg=s/5;\n",
    "System.out.println(\"The sum of 5 no is : \" +s+\"\\nThe Average is : \" +avg);"
   ]
  },
  {
   "cell_type": "code",
   "execution_count": 7,
   "metadata": {},
   "outputs": [
    {
     "name": "stdout",
     "output_type": "stream",
     "text": [
      "Input the number(Table to be calculated): Input number of terms : \n",
      "\n",
      "67 X 0 = 0\n",
      "67 X 1 = 67\n",
      "67 X 2 = 134\n",
      "67 X 3 = 201\n",
      "67 X 4 = 268\n",
      "67 X 5 = 335\n",
      "67 X 6 = 402\n",
      "67 X 7 = 469\n",
      "67 X 8 = 536\n",
      "67 X 9 = 603\n",
      "67 X 10 = 670\n",
      "67 X 11 = 737\n",
      "67 X 12 = 804\n",
      "67 X 13 = 871\n",
      "67 X 14 = 938\n",
      "67 X 15 = 1005\n",
      "67 X 16 = 1072\n",
      "67 X 17 = 1139\n",
      "67 X 18 = 1206\n",
      "67 X 19 = 1273\n",
      "67 X 20 = 1340\n",
      "67 X 21 = 1407\n",
      "67 X 22 = 1474\n",
      "67 X 23 = 1541\n",
      "67 X 24 = 1608\n",
      "67 X 25 = 1675\n",
      "67 X 26 = 1742\n",
      "67 X 27 = 1809\n",
      "67 X 28 = 1876\n",
      "67 X 29 = 1943\n",
      "67 X 30 = 2010\n",
      "67 X 31 = 2077\n",
      "67 X 32 = 2144\n",
      "67 X 33 = 2211\n",
      "67 X 34 = 2278\n",
      "67 X 35 = 2345\n",
      "67 X 36 = 2412\n",
      "67 X 37 = 2479\n",
      "67 X 38 = 2546\n",
      "67 X 39 = 2613\n",
      "67 X 40 = 2680\n",
      "67 X 41 = 2747\n",
      "67 X 42 = 2814\n",
      "67 X 43 = 2881\n",
      "67 X 44 = 2948\n",
      "67 X 45 = 3015\n",
      "67 X 46 = 3082\n",
      "67 X 47 = 3149\n",
      "67 X 48 = 3216\n",
      "67 X 49 = 3283\n",
      "67 X 50 = 3350\n",
      "67 X 51 = 3417\n",
      "67 X 52 = 3484\n",
      "67 X 53 = 3551\n",
      "67 X 54 = 3618\n",
      "67 X 55 = 3685\n",
      "67 X 56 = 3752\n",
      "67 X 57 = 3819\n",
      "67 X 58 = 3886\n",
      "67 X 59 = 3953\n",
      "67 X 60 = 4020\n",
      "67 X 61 = 4087\n",
      "67 X 62 = 4154\n",
      "67 X 63 = 4221\n",
      "67 X 64 = 4288\n",
      "67 X 65 = 4355\n",
      "67 X 66 = 4422\n",
      "67 X 67 = 4489\n"
     ]
    }
   ],
   "source": [
    "// 14\n",
    "import java.util.Scanner;\n",
    "\n",
    "int j,n;\n",
    "\n",
    "System.out.print(\"Input the number(Table to be calculated): \");\n",
    "{\n",
    "System.out.print(\"Input number of terms : \");\n",
    "Scanner in = new Scanner(System.in);\n",
    "        n = in.nextInt();\n",
    "\n",
    "System.out.println (\"\\n\");\n",
    "for(j=0;j<=n;j++)\n",
    "\n",
    "    System.out.println(n+\" X \"+j+\" = \" +n*j);\n",
    "}"
   ]
  },
  {
   "cell_type": "code",
   "execution_count": 8,
   "metadata": {},
   "outputs": [
    {
     "name": "stdout",
     "output_type": "stream",
     "text": [
      "Input number of rows : 1\n",
      "12\n",
      "123\n",
      "1234\n",
      "12345\n"
     ]
    }
   ],
   "source": [
    "// 16\n",
    "import java.util.Scanner;\n",
    "\n",
    "int i,j,n;\n",
    "System.out.print(\"Input number of rows : \");\n",
    "Scanner in = new Scanner(System.in);\n",
    "        n = in.nextInt();\n",
    "\n",
    "for(i=1;i<=n;i++)\n",
    "{\n",
    "for(j=1;j<=i;j++)\n",
    "    System.out.print(j);\n",
    "\n",
    "System.out.println(\"\");\n",
    "}\n"
   ]
  },
  {
   "cell_type": "code",
   "execution_count": 9,
   "metadata": {},
   "outputs": [
    {
     "name": "stdout",
     "output_type": "stream",
     "text": [
      "Input number of rows : 1\n",
      "23\n",
      "456\n"
     ]
    }
   ],
   "source": [
    "// 18\n",
    "import java.util.Scanner;\n",
    "\n",
    "int i,j,n,k=1;\n",
    "\n",
    "System.out.print(\"Input number of rows : \");\n",
    "\n",
    "Scanner in = new Scanner(System.in);\n",
    "    n = in.nextInt();\n",
    "\n",
    "for(i=1;i<=n;i++)\n",
    "{\n",
    "for(j=1;j<=i;j++)\n",
    "System.out.print(k++);\n",
    "System.out.println(\"\");\n",
    "}"
   ]
  },
  {
   "cell_type": "code",
   "execution_count": 10,
   "metadata": {},
   "outputs": [
    {
     "name": "stdout",
     "output_type": "stream",
     "text": [
      "Input number of rows : 1 \n",
      "2 3 \n",
      "4 5 6 \n",
      "7 8 9 10 \n",
      "11 12 13 14 15 \n",
      "16 17 18 19 20 21 \n",
      "22 23 24 25 26 27 28 \n",
      "29 30 31 32 33 34 35 36 \n",
      "37 38 39 40 41 42 43 44 45 \n"
     ]
    }
   ],
   "source": [
    "// 20\n",
    "import java.util.Scanner;\n",
    "\n",
    "int numberOfRows;\n",
    "System.out.print(\"Input number of rows : \");\n",
    "Scanner in = new Scanner(System.in);\n",
    "        numberOfRows = in.nextInt();\n",
    "int number = 1;\n",
    "for (int row = 1; row <= numberOfRows; row++)\n",
    "{\n",
    "for (int column = 1; column <= row; column++)\n",
    "    {\n",
    "    System.out.print(number + \" \");\n",
    "    number++;\n",
    "    }\n",
    "    System.out.println();\n",
    "}"
   ]
  },
  {
   "cell_type": "markdown",
   "metadata": {},
   "source": [
    "## Notes (courtesy of Bailey S)\n",
    "### Truth Tables\n",
    "\n",
    "![Truth Tables](https://www.realdigital.org/img/228d4788d26e286b5706f6d644ddee8b.svg)\n",
    "\n",
    "Truth tables can be used to visualize boolean conditionals. They're useful for evaluating basic boolean expressions as well as more complicated compound boolean expressions, which use multiple kinds of boolean operators inside each other. \n",
    "\n",
    "### De Morgan's Law\n",
    "\n",
    "De Morgan's Law is a bit more mathematical in nature, dealing with set theory, so I'll try my best to describe it here.\n",
    "\n",
    "De Morgan's Law basically explains how certain boolean statements can be rewritten as different expressions, yet essentially be the same. \n",
    "More specifically, it states that \"The complement of the union of two sets is the same as the intersection of their complements\" or \"The \n",
    "complement of the intersection of two sets is the same as the union of their complements\".\n",
    "\n",
    "What the heck does that mean? An easier way to think about it would be like this:\n",
    "- not (A or B) = (not A) and (not B)\n",
    "- not (A and B) = (not A) or (not B)\n",
    "\n",
    "In a more formalalized, mathematical way:\n",
    "\n",
    "![Set Theory Stuff](https://siwimulyoto.files.wordpress.com/2012/11/dmorgan-law2.gif)\n",
    "\n",
    "But even with all that text, it's still pretty confusing, right? So it's probably best to visualize it using an actual image. This one \n",
    "I found online pretty much summarizes it best:\n",
    "\n",
    "![More Set Theory Stuff](https://www.onlinemathlearning.com/image-files/de-morgans-law.png)\n",
    "\n",
    "The green shaded area is basically what's being covered in each equality. Both sides cover the same thing.\n",
    "\n",
    "Finally, let's go through an example of how this would apply in code. Essentially, we'll use a few variables to make a whole bunch of complicated compounded\n",
    "boolean expressions that actually mean the same exact thing:"
   ]
  }
 ],
 "metadata": {
  "kernelspec": {
   "display_name": "Java",
   "language": "java",
   "name": "java"
  },
  "language_info": {
   "codemirror_mode": "java",
   "file_extension": ".jshell",
   "mimetype": "text/x-java-source",
   "name": "java",
   "pygments_lexer": "java",
   "version": "11.0.16+8-post-Ubuntu-0ubuntu120.04"
  },
  "orig_nbformat": 4,
  "vscode": {
   "interpreter": {
    "hash": "916dbcbb3f70747c44a77c7bcd40155683ae19c65e1c03b4aa3499c5328201f1"
   }
  }
 },
 "nbformat": 4,
 "nbformat_minor": 2
}
