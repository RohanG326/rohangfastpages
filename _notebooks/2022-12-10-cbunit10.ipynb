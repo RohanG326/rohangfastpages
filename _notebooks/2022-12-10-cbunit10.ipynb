{
 "cells": [
  {
   "cell_type": "markdown",
   "metadata": {},
   "source": [
    "# Unit 10 Recursion\n",
    "\n",
    "- toc: true \n",
    "- badges: true\n",
    "- comments: true\n",
    "- categories: [jupyter]"
   ]
  },
  {
   "cell_type": "markdown",
   "metadata": {},
   "source": [
    "# Intro to Recursion\n",
    "\n",
    "* 5-7.5% of the AP Exam, mainly in the multiple choice section\n",
    "* A <mark>recursive</mark> method is method that calls itself.\n",
    "* It contains at least one <mark>base case</mark> that halts recursion and once recursive call\n",
    "* Each recursive call has own local variables\n",
    "* Parameter values take progress of recursive process\n",
    "* A recursion can be replaced with an iterative and give the same result\n",
    "* Recursion can traverse String, array, and ArrayList objects"
   ]
  },
  {
   "cell_type": "code",
   "execution_count": null,
   "metadata": {},
   "outputs": [
    {
     "name": "stdout",
     "output_type": "stream",
     "text": [
      "4\n",
      "3\n",
      "2\n",
      "2\n",
      "3\n",
      "4\n"
     ]
    }
   ],
   "source": [
    "public static void simplerRecur(int n) {\n",
    "    System.out.println(n);\n",
    "    \n",
    "    if (n > 2)\n",
    "        simplerRecur(n-1); \n",
    "    System.out.println(n);\n",
    "}\n",
    "simplerRecur(4);"
   ]
  },
  {
   "cell_type": "code",
   "execution_count": null,
   "metadata": {},
   "outputs": [
    {
     "data": {
      "text/plain": [
       "15"
      ]
     },
     "metadata": {},
     "output_type": "display_data"
    }
   ],
   "source": [
    "public static int simpleRecur2(int n) {\n",
    "    if (n == 0)\n",
    "        return 0;\n",
    "    return n + simpleRecur2(n/2);\n",
    "}\n",
    "simpleRecur2(8);"
   ]
  },
  {
   "cell_type": "code",
   "execution_count": null,
   "metadata": {},
   "outputs": [
    {
     "name": "stdout",
     "output_type": "stream",
     "text": [
      "eumc"
     ]
    }
   ],
   "source": [
    "public static void mystery (String s) {\n",
    "    if (s.length() > 1) {\n",
    "        mystery(s.substring(2));\n",
    "        System.out.print(s.substring(0,1));\n",
    "    }\n",
    "}\n",
    "mystery(\"computer\");"
   ]
  },
  {
   "cell_type": "markdown",
   "metadata": {},
   "source": [
    "# Merge Sort\n",
    "\n",
    "- <mark>Merge Sort</mark> can be used to sort ArrayLists\n",
    "\n",
    "- Uses a Divide and Conquer algorithm to Sort ArrayList\n",
    "   - Divides the array into halves, and then calls itself for the two different halves in order to sort them\n",
    "   - merges the two sorted halves into one lists\n",
    "\n",
    "- Merging Values into One Sorted Array\n",
    "   - copy the original elements into a temporary array\n",
    "   - work from left to right in each virtual array to compare element and return them to the correct order in the original array\n",
    "\n",
    "Way to Think About It:\n",
    "mergeSort (myList) {\n",
    "    mergeSort(left);\n",
    "    mergeSort(right);\n",
    "    mergeSort (left & right)\n",
    "}\n",
    "\n",
    "First, the mergeSort function splits the ArrayList into half, and then takes the left side of the list. It then calls mergeSort again and then halves the list, and does this two more times. Eventually, it is left with just 5 after sorting using all of mergeSort(left).\n",
    "\n",
    "![merging1](../images/merging1.png)\n",
    "\n",
    "Then, it goes back to the third step with just the 5 and 25, and looks at the right side of that one section. It compares the two halves, 5 and 25, and then sorts it, keeping the 5 before the 25 and recurses its way back to the ArrayList in the beginning.\n",
    "\n",
    "![merging2](../images/merging2.png)\n",
    "\n",
    "We then go back down one more half where we have the 5, 25, 8, and -9. Because we had already sorted the left side of that list, we then go to the right side with the 8 and -9. We then sort the left side where we get 8 and then the right side with -9.\n",
    "\n",
    "![merging3](../images/merging3.png)\n",
    "\n",
    "After this, the mergeSort() sorts -9 and 8 into the right order, and then recurses it once again 8 and -9 with the sorted -9 and 8 instead.\n",
    "\n",
    "![merging4](../images/merging4.png)\n",
    "\n",
    "Because the four of the numbers for the left side of the original list were not in the correct order overall, mergeSort is once again called and the list is sorted with the correct order for just the left side, now containing -9, 5, 8, 25.\n",
    "\n",
    "![merging5](../images/merging5.png)\n",
    "\n",
    "This process is then repeated, but for the right half of the ArrayList. It keeps slitting the list in half, sorting it, and then bringing it to the level below, where eventually, the ArrayList is sorted and merged together, as shown in the image below.\n",
    "\n",
    "![merging6](../images/merging6.png)\n",
    "\n",
    "This is a code segment that CollegeBoard had provided in order to see the recursion behind mergeSort(). The code calls mergeSort() on itself in order to sort the list and merge the halves until you reach the right order and final list.\n",
    "\n",
    "![merging7](../images/merging7.png)"
   ]
  },
  {
   "cell_type": "markdown",
   "metadata": {},
   "source": [
    "## Recursion Trees\n",
    "\n",
    "<mark>Recursion trees</mark> are a method for visualizing each recursive case (everytime the method is called) until the base case is reached.\n",
    "\n",
    "<mark>Recursive blocks</mark> call themselves. In order for them to finish, there must be some special case in which they don't call themselves. That is the base case, a simpler version of the block's script that doesn't call the block itself.\n",
    "\n",
    "There is usually a conditional with two cases: a base case for the lowest level that stops the recursion from going on forever and a <mark>recursive case</mark> that calls the block itself at lower levels until it reaches the base case.\n",
    "\n",
    "Note: If a block keeps recursively calling itself forever, the program is stuck in an infinite loop meaning that there isn't a base case or it is not accessible. "
   ]
  }
 ],
 "metadata": {
  "kernelspec": {
   "display_name": "Java",
   "language": "java",
   "name": "java"
  },
  "language_info": {
   "name": "java"
  },
  "orig_nbformat": 4
 },
 "nbformat": 4,
 "nbformat_minor": 2
}
