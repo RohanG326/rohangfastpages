{
 "cells": [
  {
   "attachments": {},
   "cell_type": "markdown",
   "metadata": {},
   "source": [
    "# Rohan G Units 6-10 Vocabulary Terms\n",
    "> Week 16 Units 6-10 Vocab Terms Blog\n",
    "\n",
    "- toc: true \n",
    "- badges: true\n",
    "- comments: true\n",
    "- categories: [jupyter]\n",
    "- image: images/chart-preview.png"
   ]
  },
  {
   "attachments": {},
   "cell_type": "markdown",
   "metadata": {},
   "source": [
    "| Unit | Score | Homework and Notes |\n",
    "| --- | --- | ------ |\n",
    "| 6 | 0.9 | [link](https://rohang326.github.io/rohangfastpages/jupyter/2022/10/25/cbunit6.html) |\n",
    "| 7 | 0.95 | [link](https://rohang326.github.io/rohangfastpages/jupyter/2022/12/05/cbunit7.html) |\n",
    "| 8 | 1.1 | [link](https://rohang326.github.io/rohangfastpages/jupyter/2022/12/06/cbunit8.html) |\n",
    "| 9 | 0.95 | [link](https://rohang326.github.io/rohangfastpages/jupyter/2022/12/12/cbunit9.html) |\n",
    "| 10 | 0.9 | Was MC submitted on google form |\n",
    "\n",
    "Overall: 5.8/6"
   ]
  },
  {
   "attachments": {},
   "cell_type": "markdown",
   "metadata": {},
   "source": [
    "## Polymorphism\n",
    "- Polymorphism can be used when we have multiple classes that are related by inheritance. It is utilized when a method is implemented to perform different tasks in different classes. It essentially allows a method to take on multiple “forms” or implementations based on the specific object it is acting upon.\n",
    "- Polymorphism is useful for code reusability, as it re-implements an existing class’s attributes and methods for new classes. A real life example of polymorphism could be a sport. A sport can take on different forms, as it can be soccer, basketball, baseball, etc.\n"
   ]
  }
 ],
 "metadata": {
  "kernelspec": {
   "display_name": "Java",
   "language": "java",
   "name": "java"
  },
  "language_info": {
   "name": "java"
  },
  "orig_nbformat": 4
 },
 "nbformat": 4,
 "nbformat_minor": 2
}
