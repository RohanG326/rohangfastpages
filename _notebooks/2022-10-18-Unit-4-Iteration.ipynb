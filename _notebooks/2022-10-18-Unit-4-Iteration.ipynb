{
 "cells": [
  {
   "cell_type": "markdown",
   "metadata": {},
   "source": [
    "# Unit 4: Iteration\n",
    "\n",
    "- title: Iteration Lesson\n",
    "- toc: true\n",
    "- comments: true\n",
    "- categories: [college board, units]"
   ]
  },
  {
   "cell_type": "markdown",
   "metadata": {},
   "source": [
    "## Iteration in Java\n",
    "\n",
    "Lesson Purpose: Review types of iteration and usages\n",
    "\n",
    "Lesson Objectives: \n",
    "1. review while/for loops\n",
    "2. review string\n",
    "3. nested iteration review\n",
    "\n",
    "Iteration may be one of the most crucial features for any programming language, since they allow computers to do what they do best: do copious amounts of menial tasks quickly and efficiently.\n",
    "\n",
    "Of course, Java can also perform iteration using numerous different structures. Today we'll be going over some of them.\n",
    "\n",
    "First of all, the exam weights Iteration as 17.5-22.5% of the test, with 7-9 MC and part of FRQ 1. This is one of the largest if not the largest unit, so understanding how iteration works is critical to performance on the test as well as in basically all aspects of coding.\n",
    "\n",
    "The overall purpose of iteration is to simplify code by allowing it to repeat. Loops will usually include some sort of conditional to check against, and while that conditional is true, the code within the loop will repeat. "
   ]
  },
  {
   "cell_type": "markdown",
   "metadata": {},
   "source": [
    "## 4.1 <mark>While Loops</mark> (2.B, 3.C)\n",
    "\n",
    "- Repeats lines of code until a certain condition evaluates to false\n",
    "\n",
    "While loops consist of 2 portions: the boolean expression and the brackets which store the looping code inside."
   ]
  },
  {
   "cell_type": "code",
   "execution_count": null,
   "metadata": {},
   "outputs": [],
   "source": [
    "while (condition) {\n",
    "    ...\n",
    "}"
   ]
  },
  {
   "cell_type": "markdown",
   "metadata": {},
   "source": [
    "The boolean expression is checked before the loop is started and every time the loop ends and is about to start anew. Usually, inside the loop something is done that slightly changes the conditions for the boolean expression until it reads false and ends. In the example below, the condition is x > 0, meaning that x has to be changed for the loop to stop. Inside the loop, x is decremented by 1 every time, changing the conditions over and over again until it finally returns false and terminates the while loop. "
   ]
  },
  {
   "cell_type": "code",
   "execution_count": 2,
   "metadata": {},
   "outputs": [
    {
     "name": "stdout",
     "output_type": "stream",
     "text": [
      "5\n",
      "4\n",
      "3\n",
      "2\n",
      "1\n"
     ]
    }
   ],
   "source": [
    "int x = 5;\n",
    "\n",
    "// The boolean expression in this case is x > 0\n",
    "while (x > 0) {\n",
    "    System.out.println(x);\n",
    "    x--;\n",
    "}"
   ]
  },
  {
   "cell_type": "markdown",
   "metadata": {},
   "source": [
    "One of the most basic applications of while loops is its ability to iterate over numerous elements. One such example would be summing up the numbers in an array:"
   ]
  },
  {
   "cell_type": "code",
   "execution_count": 34,
   "metadata": {},
   "outputs": [
    {
     "name": "stdout",
     "output_type": "stream",
     "text": [
      "43\n"
     ]
    }
   ],
   "source": [
    "int[] array = {3, 7, 0, 2, 4, 5, 9, 1, 3, 6, 3};\n",
    "int total = 0;\n",
    "int i = 0;\n",
    "\n",
    "while (i < array.length) {\n",
    "    total += array[i];\n",
    "    i++;\n",
    "}\n",
    "\n",
    "System.out.println(total);"
   ]
  },
  {
   "cell_type": "markdown",
   "metadata": {},
   "source": [
    "One unique application of while loops lie in infinite while loops, loops that run over and over again permanently. This is usually accomplished by setting the boolean condition to be true at all times. The only way to stop these loops are to use a break command, which ends the loop regardless of the conditions present.\n",
    "\n",
    "This can be used for various things, like having a running process at all times or constantly taking in input from the user, like the example below:"
   ]
  },
  {
   "cell_type": "code",
   "execution_count": 3,
   "metadata": {},
   "outputs": [
    {
     "name": "stdout",
     "output_type": "stream",
     "text": [
      "Would you like to continue: \n",
      "Would you like to continue: \n",
      "Would you like to continue: \n"
     ]
    }
   ],
   "source": [
    "import java.util.Scanner;\n",
    "\n",
    "Scanner input = new Scanner(System.in);\n",
    "String choice;\n",
    "\n",
    "while (true) {\n",
    "    System.out.println(\"Would you like to continue: \");\n",
    "    choice = input.nextLine();\n",
    "    if (choice.equals(\"No\")) {\n",
    "        break;\n",
    "    }\n",
    "}"
   ]
  },
  {
   "cell_type": "markdown",
   "metadata": {},
   "source": [
    "### <mark>Do While loop</mark>\n",
    "Do while loops are a variant of the while loop, where the code must be run first and then the condition is checked. In a normal while loop, the condition is checked then the code is run. So, a do while loop is forced to run at least once, which could be useul."
   ]
  },
  {
   "cell_type": "code",
   "execution_count": 7,
   "metadata": {},
   "outputs": [
    {
     "name": "stdout",
     "output_type": "stream",
     "text": [
      "1\n"
     ]
    }
   ],
   "source": [
    "int i=1;    \n",
    "do{    \n",
    "    System.out.println(i);    // forced to run\n",
    "    i++;    \n",
    "}while(i<1);\n",
    "\n"
   ]
  },
  {
   "cell_type": "code",
   "execution_count": 8,
   "metadata": {},
   "outputs": [],
   "source": [
    "int i = 1;\n",
    "while(i<1) { // starts out false\n",
    "    System.out.println(i);    \n",
    "    i++; \n",
    "}"
   ]
  },
  {
   "cell_type": "markdown",
   "metadata": {},
   "source": [
    "### Hacks\n",
    "\n",
    "Say you have a company that makes a profit of $5,450,000 this year. Every year, the company has a profit increase of 5%. Determine how many years it would take to make a profit of at least $30,000,000 using a while loop."
   ]
  },
  {
   "cell_type": "code",
   "execution_count": null,
   "metadata": {},
   "outputs": [],
   "source": [
    "public class WhileLoops {\n",
    "\n",
    "    public static void main(String[] args) {\n",
    "\n",
    "    }\n",
    "}\n",
    "\n",
    "WhileLoops.main(null);"
   ]
  },
  {
   "cell_type": "markdown",
   "metadata": {},
   "source": [
    "## 4.2 <mark>For Loops</mark>\n",
    "\n",
    "- One of the most tested concepts in the APCSA exam\n",
    "- Skills 3.C, 4.C, and 5.C"
   ]
  },
  {
   "cell_type": "markdown",
   "metadata": {},
   "source": [
    "## Three Parts of a For Loop\n",
    "- Initialization of a variable\n",
    "- Test condition "
   ]
  },
  {
   "cell_type": "code",
   "execution_count": null,
   "metadata": {},
   "outputs": [],
   "source": [
    "for (initialize; test condition; change)\n",
    "{\n",
    "   loop body\n",
    "}"
   ]
  },
  {
   "cell_type": "markdown",
   "metadata": {},
   "source": [
    "### Example"
   ]
  },
  {
   "cell_type": "code",
   "execution_count": null,
   "metadata": {},
   "outputs": [
    {
     "name": "stdout",
     "output_type": "stream",
     "text": [
      "1\n",
      "2\n",
      "3\n",
      "4\n",
      "5\n"
     ]
    }
   ],
   "source": [
    "for (int x = 1; x <= 5; x++) {\n",
    "    System.out.println(x);\n",
    "}"
   ]
  },
  {
   "cell_type": "markdown",
   "metadata": {},
   "source": [
    "### Control Flow Diagram\n",
    "![image](https://runestone.academy/ns/books/published/csawesome/_images/ForLoopFlow.png)\n",
    "- The code in the initialization area is executed only one time before the loop begins \n",
    "- the test condition is checked each time through the loop and the loop continues as long as the condition is true\n",
    "- the loop control variable change is done at the end of each execution of the body of the loop\n",
    "- When the loop condition is false, execution will continue at the next statement after the body of the loop."
   ]
  },
  {
   "cell_type": "markdown",
   "metadata": {},
   "source": [
    "### Hacks\n",
    "#### - Change the code above to iterate instead from 1-5 to 10-15. (Print numbers 10-15)\n",
    "#### - Convert 10 numbers of your choice from two temperature units (F to C, C to F, C to K)"
   ]
  },
  {
   "cell_type": "code",
   "execution_count": null,
   "metadata": {},
   "outputs": [],
   "source": [
    "public class ForLoops {\n",
    "\n",
    "    public static void main(String[] args) {\n",
    "\n",
    "    }\n",
    "}\n",
    "\n",
    "ForLoops.main(null);"
   ]
  },
  {
   "cell_type": "markdown",
   "metadata": {},
   "source": [
    "## 4.3 Loops and Strings\n",
    "\n",
    "Strings can also be manipulated through the use of iteration. Strings can actually be thought of as an array of chars, so each char can also be manipulated as well!"
   ]
  },
  {
   "cell_type": "code",
   "execution_count": 38,
   "metadata": {},
   "outputs": [
    {
     "name": "stdout",
     "output_type": "stream",
     "text": [
      "Co\n",
      "de\n",
      "Co\n",
      "de\n",
      "Co\n",
      "de\n"
     ]
    }
   ],
   "source": [
    "String name = \"CodeCodeCode\";\n",
    "\n",
    "for (int i = 0; i < name.length(); i+=2) {\n",
    "    System.out.println(name.substring(i,i+2));\n",
    "}"
   ]
  },
  {
   "cell_type": "markdown",
   "metadata": {},
   "source": [
    "## 4.4 <mark>Nested Iteration</mark>"
   ]
  },
  {
   "cell_type": "markdown",
   "metadata": {},
   "source": [
    "Nested iteration is where there is a loop within a loop. It's kind of similar to the nested conditional that we learned yesterday in syntax.\n",
    "\n",
    "A typical usage of nested looping is for two dimensions, like getting the pixel value of each pixel in an image across the columns and rows of pixels. Or, it can be used to print across these rows and columns to display some text\n",
    "\n",
    "A very common nested iteration is the use of nested for loops, as they are concise enough to be used within each other without getting confused. Here is an example of code that uses nested for loops:"
   ]
  },
  {
   "cell_type": "code",
   "execution_count": 8,
   "metadata": {},
   "outputs": [
    {
     "name": "stdout",
     "output_type": "stream",
     "text": [
      "****\n",
      "****\n",
      "****\n",
      "****\n",
      "****\n"
     ]
    }
   ],
   "source": [
    "for (int row = 0; row < 5; row ++) {\n",
    "    for (int column = 0; column < 4; column++) {\n",
    "        System.out.print('*');\n",
    "    }\n",
    "    System.out.println();\n",
    "}"
   ]
  },
  {
   "cell_type": "markdown",
   "metadata": {},
   "source": [
    "As seen, the code above has an output of 20 stars, with 5 rows and 4 columns. The amount of times the nested iterations loop in total will be the amount the outer one iterates multiplied by the inner one. The inner loop must finish all of its iterations before the outer loop can continue.\n",
    "\n",
    "Question:\n",
    "- What happens if you swap the inner with the outer loop? What change will the output make?\n",
    "\n",
    "There can also be nested while loops, although they are not as practical, having to write out those variables outside of the condition."
   ]
  },
  {
   "cell_type": "code",
   "execution_count": 4,
   "metadata": {},
   "outputs": [
    {
     "name": "stdout",
     "output_type": "stream",
     "text": [
      "\n",
      "Monkey Jumpers Poem in Java with Objects!!!\n",
      "1 little monkey jumping on the bed...\n",
      "ʕง ͠° ͟ل͜ ͡°)ʔ  \n",
      "  \\_⏄_/   \n",
      "  --0--    \n",
      "  ⎛   ⎞    \n",
      "\n",
      "2 little monkey jumping on the bed...\n",
      "ʕง ͠° ͟ل͜ ͡°)ʔ  \n",
      "  \\_⏄_/   \n",
      "  --0--    \n",
      "  ⎛   ⎞    \n",
      "\n",
      " ʕ༼ ◕_◕ ༽ʔ \n",
      "  \\_⎏_/   \n",
      "  ++1++   \n",
      "   ⌋ ⌊    \n",
      "\n",
      "3 little monkey jumping on the bed...\n",
      "ʕง ͠° ͟ل͜ ͡°)ʔ  \n",
      "  \\_⏄_/   \n",
      "  --0--    \n",
      "  ⎛   ⎞    \n",
      "\n",
      " ʕ༼ ◕_◕ ༽ʔ \n",
      "  \\_⎏_/   \n",
      "  ++1++   \n",
      "   ⌋ ⌊    \n",
      "\n",
      " ʕ(▀ ⍡ ▀)ʔ \n",
      "  \\_⎐_/  \n",
      "  <-2->   \n",
      "  〈  〉  \n",
      "\n",
      "Too many monkeys jumping on the bed\n",
      "0000000000000000000000000000000000\n",
      "             THE END              \n"
     ]
    }
   ],
   "source": [
    "import java.util.ArrayList;\n",
    "\n",
    "/*\n",
    " * Creator: Nighthawk Coding Society\n",
    " * Mini Lab Name: Hello Series,featuring Monkey Jumpers\n",
    " */\n",
    "\n",
    "/**\n",
    " * Class for Monkey: a 2D array of Monkey\n",
    " * As well as method to print the Poem\n",
    " */\n",
    "class Monkey {\n",
    "    //The area between class definition and the 1st method is where we keep data for object in Java\n",
    "    private static ArrayList<String[]> monkeyList = new ArrayList<String[]>();    //2D Array: AP CSA Unit 8: 2D array of strings\n",
    "    private String[] monkeyASCII;\n",
    "\n",
    "    /**\n",
    "     * Constructor initializes a 2D array of Monkey\n",
    "     */\n",
    "    public Monkey(String[] monkeyASCII) {\n",
    "        this.monkeyASCII = monkeyASCII;\n",
    "        monkeyList.add(monkeyASCII);\n",
    "    }\n",
    "\n",
    "    /**\n",
    "     * Loop and print monkey in array\n",
    "     * ... repeat until you reach zero  ...\n",
    "     */\n",
    "    public static void printPoem() {\n",
    "        //begin the poem\n",
    "        System.out.println();\n",
    "        System.out.println(\"Monkey Jumpers Poem in Java with Objects!!!\");\n",
    "\n",
    "        // monkey (non-primitive) defined in constructor knows its length\n",
    "        int monkeyCount = monkeyList.size();\n",
    "        for (int i = 1; i <= monkeyCount; i++)  //loops through 2D array length forwards\n",
    "        {\n",
    "\n",
    "            //this print statement shows current count of Monkey\n",
    "            //  concatenation (+) of the loop variable and string to form a countdown message\n",
    "            System.out.println(i + \" little monkey jumping on the bed...\");\n",
    "\n",
    "            //how many separate parts are there in a monkey monkey?\n",
    "            for (int row = 0; row < i; row++) {  //cycles through \"cells\" of 2d array\n",
    "\n",
    "                /*cycles through columns to print\n",
    "                each monkey part by part, will eventually print entire column*/\n",
    "                for (int col = 0; col < monkeyList.get(row).length; col++) {\n",
    "\n",
    "                    // prints specific part of the monkey from the column\n",
    "                    System.out.print(monkeyList.get(row)[col] + \" \");\n",
    "\n",
    "                    //this is new line between separate parts\n",
    "                    System.out.println();\n",
    "                }\n",
    "                \n",
    "                //this new line gives separation between stanza of poem\n",
    "                System.out.println();\n",
    "            }\n",
    "\n",
    "            //countdown for poem, decrementing monkeyCount variable by 1\n",
    "            monkeyCount -= 1;\n",
    "        }\n",
    "\n",
    "        //out of all the loops, prints finishing messages\n",
    "        System.out.println(\"Too many monkeys jumping on the bed\");\n",
    "        System.out.println(\"0000000000000000000000000000000000\");\n",
    "        System.out.println(\"             THE END              \");\n",
    "    }\n",
    "\n",
    "   \n",
    "    /**\n",
    "    * A Java Driver/Test method that is the entry point for execution\n",
    "    */\n",
    "    public static void main(String[] args)  {\n",
    "        Monkey monkey0 = new Monkey(new String[]{\n",
    "            \"ʕง ͠° ͟ل͜ ͡°)ʔ \",      //[0][0] eyes\n",
    "            \"  \\\\_⏄_/  \",      //[0][1] chin\n",
    "            \"  --0--   \",       //[0][2] body\n",
    "            \"  ⎛   ⎞   \"        //[0][3] legs\n",
    "        });\n",
    "        Monkey monkey1 = new Monkey(new String[]{\n",
    "            \" ʕ༼ ◕_◕ ༽ʔ\",       //[1][0]\n",
    "            \"  \\\\_⎏_/  \",\n",
    "            \"  ++1++  \",\n",
    "            \"   ⌋ ⌊   \"\n",
    "        });\n",
    "        Monkey monkey2 = new Monkey(new String[]{\n",
    "            \" ʕ(▀ ⍡ ▀)ʔ\",       //[2][0]\n",
    "            \"  \\\\_⎐_/ \",\n",
    "            \"  <-2->  \",\n",
    "            \"  〈  〉 \"\n",
    "        });\n",
    "        Monkey monkey3 = new Monkey(new String[]{\n",
    "            \"ʕ ͡° ͜ʖ ° ͡ʔ\",        //[3][0]\n",
    "            \"  \\\\_⍾_/  \",\n",
    "            \"  ==3==  \",\n",
    "            \"  _/ \\\\_  \"\n",
    "        });\n",
    "        Monkey monkey4 = new Monkey(new String[]{\n",
    "            \"  (◕‿◕✿) \",          //[4][0]\n",
    "            \"  \\\\_⍾_/ \",          //[4][1]\n",
    "            \"  ==4==  \",          //[4][2]\n",
    "            \"  _/ \\\\_ \"           //[4][3]\n",
    "        });\n",
    "\n",
    "        \n",
    "        Monkey.printPoem();   //a new monkey list and output in one step\n",
    "    }\n",
    "\n",
    "}\n",
    "\n",
    "Monkey.main(null);"
   ]
  },
  {
   "cell_type": "markdown",
   "metadata": {},
   "source": [
    "Some modification to the code has been made, such as making monkeys an object, but the overall idea remains the same. It first iterates into a row on the 2d array, and then iterates through all columns of that row in the 2d array by using the nested iteration.\n",
    "\n",
    "Questions:\n",
    "\n",
    "1. Do you remember how to make it not backwards?\n",
    "2. What would swapping the inner and outer loops do? (assuming that array indices are fixed)\n",
    "3. What if we only wanted to print every other monkey?\n",
    "4. What if we wanted to print every other body part of the monkey?"
   ]
  },
  {
   "cell_type": "code",
   "execution_count": null,
   "metadata": {},
   "outputs": [],
   "source": [
    "public class NestedIteration {\n",
    "\n",
    "    public static void main(String[] args) {\n",
    "\n",
    "    }\n",
    "}\n",
    "\n",
    "NestedIteration.main(null);"
   ]
  },
  {
   "cell_type": "markdown",
   "metadata": {},
   "source": [
    "## For Each Loops or <mark>enhanced for loops</mark>\n",
    "\n"
   ]
  },
  {
   "cell_type": "markdown",
   "metadata": {},
   "source": [
    "### What is a for each loop?\n",
    "\n",
    "As the name suggests, for-each loops are similar to for loops. In Java, the for-each loop is used to iterate through elements of arrays and collections (like ArrayList). It is also known as the enhanced for loop."
   ]
  },
  {
   "cell_type": "markdown",
   "metadata": {},
   "source": [
    "Here is the syntax for a for-each loop:"
   ]
  },
  {
   "cell_type": "code",
   "execution_count": null,
   "metadata": {},
   "outputs": [],
   "source": [
    "for(dataType item : array) {\n",
    "    ...\n",
    "}"
   ]
  },
  {
   "cell_type": "markdown",
   "metadata": {},
   "source": [
    "includes:\n",
    "- array: an array or collection\n",
    "- item: each value in an array or collection\n",
    "- dataType: specify the type of data in the array (int)"
   ]
  },
  {
   "cell_type": "markdown",
   "metadata": {},
   "source": [
    "Example"
   ]
  },
  {
   "cell_type": "code",
   "execution_count": 10,
   "metadata": {},
   "outputs": [],
   "source": [
    "public class ForEachLoops {\n",
    "\n",
    "    public static void main(String[] args) {\n",
    "\n",
    "            // create an array\n",
    "        int[] data = {2, 10, 5, 12};\n",
    "    \n",
    "            // for each loop \n",
    "        for (int number: data) {\n",
    "        System.out.println(number);\n",
    "\n",
    "    }\n",
    "}\n",
    "}"
   ]
  },
  {
   "cell_type": "markdown",
   "metadata": {},
   "source": [
    "Output: \n",
    "\n",
    "2 \n",
    "10\n",
    "5\n",
    "12"
   ]
  },
  {
   "cell_type": "markdown",
   "metadata": {},
   "source": [
    "In this example we used for each loops to iterate through the array, \"data\" and print out each number. The code is saying that for each value in the array, print out the number. "
   ]
  },
  {
   "cell_type": "markdown",
   "metadata": {},
   "source": [
    "So why not just stick to the for loop? What's the purpose?"
   ]
  },
  {
   "cell_type": "code",
   "execution_count": 16,
   "metadata": {},
   "outputs": [
    {
     "name": "stdout",
     "output_type": "stream",
     "text": [
      "m\n",
      "o\n",
      "n\n",
      "k\n",
      "e\n",
      "y\n"
     ]
    }
   ],
   "source": [
    "//For Loop\n",
    "char[] word = {'m', 'o', 'n', 'k', 'e', 'y'};\n",
    "\n",
    "for (int i = 0; i < word.length; ++ i) {\n",
    "  System.out.println(word[i]);\n",
    "}"
   ]
  },
  {
   "cell_type": "code",
   "execution_count": 15,
   "metadata": {},
   "outputs": [
    {
     "name": "stdout",
     "output_type": "stream",
     "text": [
      "m\n",
      "o\n",
      "n\n",
      "k\n",
      "e\n",
      "y\n"
     ]
    }
   ],
   "source": [
    "//For Each Loop\n",
    "char[] word = {'m', 'o', 'n', 'k', 'e', 'y'};\n",
    "  \n",
    "for (char letter: word) {\n",
    "  System.out.println(letter);\n",
    "}"
   ]
  },
  {
   "cell_type": "markdown",
   "metadata": {},
   "source": [
    "Both lines of codes yield the same results but the for-each loop is obviously much simpiler and easier to understand."
   ]
  },
  {
   "cell_type": "markdown",
   "metadata": {},
   "source": [
    "For each iteration, the for-each loop takes each element of the collection and stores it in a loop variable. Thus, it executes the code written in the body of the loop for each element of the array or collection.\n",
    "\n",
    "Most importantly, the traversal happens until the last element of the array or collection. No indexing is involved"
   ]
  },
  {
   "cell_type": "markdown",
   "metadata": {},
   "source": [
    "Pros:\n",
    "- makes code easier to read and understand\n",
    "- eliminates possible coding mistakes\n",
    "\n",
    "Cons:\n",
    "- The drawback of the enhanced for loop (for-each loop) is that it cannot traverse the elements in reverse order. In the for each loop you do not have the option to skip any element because it does not work on an index basis. Moreover, you cannot traverse the odd or even elements only.\n",
    "- limited variability to the collection\n",
    "- situational\n",
    "\n"
   ]
  },
  {
   "cell_type": "markdown",
   "metadata": {},
   "source": [
    "### Hacks"
   ]
  },
  {
   "cell_type": "markdown",
   "metadata": {},
   "source": [
    "Could I use a for-each loop to print out 4 of the 5 elements of an array only?"
   ]
  },
  {
   "cell_type": "markdown",
   "metadata": {},
   "source": [
    "Write a for-each loop that adds up all the values of the array (sum): "
   ]
  },
  {
   "cell_type": "code",
   "execution_count": null,
   "metadata": {},
   "outputs": [],
   "source": [
    "int numbers[] = {2, 5, 7, 12}"
   ]
  },
  {
   "cell_type": "markdown",
   "metadata": {},
   "source": [
    "and print the results"
   ]
  },
  {
   "cell_type": "markdown",
   "metadata": {},
   "source": [
    "## Final Hacks/HOMEWORK\n",
    "\n",
    "Try to write a caesar cipher program that shifts each letter in a message 3 letters forward. Use any of the methods you learned today. Use it to decode the 3 messages we've given you!"
   ]
  },
  {
   "cell_type": "code",
   "execution_count": null,
   "metadata": {},
   "outputs": [],
   "source": [
    "public class CaesarCipher {\n",
    "\n",
    "    public static void main(String[] args) {\n",
    "\n",
    "        String[] letters = {\"a\", \"b\", \"c\", \"d\", \"e\", \"f\", \"g\", \"h\", \"i\", \"j\", \"k\", \"l\", \"m\", \"n\", \"o\", \"p\", \"q\", \"r\", \"s\", \"t\", \"u\", \"v\", \"w\", \"x\", \"y\", \"z\"};\n",
    "        String message1 = \"Kfzb gly!\";\n",
    "        String message2 = \"zlab zlab zlab\";\n",
    "        String message3 = \"prmbozxifcoxdfifpqfzbumfxifalzflrp\";\n",
    "\n",
    "    }\n",
    "}"
   ]
  }
 ],
 "metadata": {
  "kernelspec": {
   "display_name": "Java",
   "language": "java",
   "name": "java"
  },
  "language_info": {
   "codemirror_mode": "java",
   "file_extension": ".jshell",
   "mimetype": "text/x-java-source",
   "name": "java",
   "pygments_lexer": "java",
   "version": "17.0.4+8-Ubuntu-120.04"
  },
  "orig_nbformat": 4
 },
 "nbformat": 4,
 "nbformat_minor": 2
}
