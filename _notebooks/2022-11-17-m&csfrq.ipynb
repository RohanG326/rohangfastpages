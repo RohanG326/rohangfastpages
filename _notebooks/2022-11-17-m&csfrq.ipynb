{
 "cells": [
  {
   "cell_type": "markdown",
   "metadata": {},
   "source": [
    "# Rohan G CollegeBoard Methods and Control Structures FRQ 1\n",
    "> Week 13 Methods and Control Structures FRQ 1 Practice\n",
    "\n",
    "- toc: true \n",
    "- badges: true\n",
    "- comments: true\n",
    "- categories: [jupyter]\n",
    "- image: images/chart-preview.png"
   ]
  },
  {
   "cell_type": "markdown",
   "metadata": {},
   "source": [
    "# Methods and Control Structures FRQ 1\n",
    "- We did the Calendar FRQ and created 5 methods of the class Calendar\n",
    "- First was to determine whether or not a year was a Leap Year\n",
    "- Second was to determine the first Day of each Year\n",
    "- Third was to determine the day of the the week that a date in the year fell on\n",
    "- Fourth was to determine the number of Leap Years in between 2 years\n",
    "- Fifth was to determine the Day of Week a certain day was on in a year"
   ]
  },
  {
   "cell_type": "markdown",
   "metadata": {},
   "source": [
    "## First:\n",
    "- We did this not so complicated use of control structures using if statements and if else statements"
   ]
  },
  {
   "cell_type": "code",
   "execution_count": 1,
   "metadata": {
    "vscode": {
     "languageId": "java"
    }
   },
   "outputs": [],
   "source": [
    "public static boolean isLeapYear(int year) {\n",
    "    // implementation not shown\n",
    "    if (year % 4 == 0 && year % 100 != 0){\n",
    "        return true;\n",
    "    }\n",
    "    else if (year % 400 == 0){\n",
    "        return true;\n",
    "    }\n",
    "    else {\n",
    "        return false;\n",
    "    }\n",
    "}"
   ]
  },
  {
   "cell_type": "markdown",
   "metadata": {},
   "source": [
    "## Second: \n",
    "- as a group we ended up getting really confused because we couldn't get something consistent so we imported java.util and the date package to do it for us :(\n",
    "- I actually had a pretty clever code but it only worked for a few years near the year 2022 but I ended up getting rid of it because it wasn't the correct solution but I regret not keeping it somewhere\n",
    "- Had to change from private to public"
   ]
  },
  {
   "cell_type": "code",
   "execution_count": null,
   "metadata": {
    "vscode": {
     "languageId": "java"
    }
   },
   "outputs": [],
   "source": [
    "public static int firstDayOfYear(int year) {\n",
    "    Date currentDate = new Date(year-1900, 0, 1);\n",
    "\n",
    "    return currentDate.getDay();\n",
    "}"
   ]
  },
  {
   "cell_type": "markdown",
   "metadata": {},
   "source": [
    "## Third:\n",
    "- We collaborated as a group to create a Hashmap for each day and month and then had a total for the day, which we then used our DayOfWeek method to find the specific day of the Week\n",
    "- We also had to change from private to public for the API"
   ]
  },
  {
   "cell_type": "code",
   "execution_count": null,
   "metadata": {
    "vscode": {
     "languageId": "java"
    }
   },
   "outputs": [],
   "source": [
    "public static int dayOfYear(int month, int day, int year) {\n",
    "    int num = 0;\n",
    "    HashMap<Integer, Integer> map = new HashMap<>();\n",
    "    map.put(1, 0);\n",
    "    map.put(2, 31);\n",
    "    map.put(3, 59);\n",
    "    map.put(4, 90);\n",
    "    map.put(5, 120);\n",
    "    map.put(6, 151);\n",
    "    map.put(7, 181);\n",
    "    map.put(8, 212);\n",
    "    map.put(9, 243);\n",
    "    map.put(10, 273);\n",
    "    map.put(11, 304);\n",
    "    map.put(12, 334);\n",
    "    if (isLeapYear(year) && month > 2) {\n",
    "        num = map.get(month) + day + 1;\n",
    "\n",
    "    } else {\n",
    "        num = map.get(month) + day;\n",
    "    }\n",
    "\n",
    "    return num;\n",
    "}"
   ]
  },
  {
   "cell_type": "markdown",
   "metadata": {},
   "source": [
    "## Fourth:\n",
    "- Number of Leap Years was just simple iteration"
   ]
  },
  {
   "cell_type": "code",
   "execution_count": null,
   "metadata": {
    "vscode": {
     "languageId": "java"
    }
   },
   "outputs": [],
   "source": [
    "public static int numberOfLeapYears(int year1, int year2) {\n",
    "    // to be implemented in part (a)\n",
    "    int count = 0;\n",
    "    for (int i = year1; i <= year2; i++) {\n",
    "        if (isLeapYear(i)) {\n",
    "            count++;\n",
    "        }\n",
    "    }\n",
    "    return count;\n",
    "}"
   ]
  },
  {
   "cell_type": "markdown",
   "metadata": {},
   "source": [
    "## Fifth:\n",
    "- DayOfWeek function using java.util and the Date package"
   ]
  },
  {
   "cell_type": "code",
   "execution_count": null,
   "metadata": {
    "vscode": {
     "languageId": "java"
    }
   },
   "outputs": [],
   "source": [
    "public static int dayOfWeek(int month, int day, int year) {\n",
    "    // to be implemented in part (b)\n",
    "    Date today = new Date(year-1900, month-1, day);\n",
    "\n",
    "    return today.getDay();\n",
    "}"
   ]
  },
  {
   "cell_type": "markdown",
   "metadata": {},
   "source": [
    "## Tester"
   ]
  },
  {
   "cell_type": "code",
   "execution_count": null,
   "metadata": {
    "vscode": {
     "languageId": "java"
    }
   },
   "outputs": [],
   "source": [
    "System.out.println(\"firstDayOfYear: \" + APCalendar.firstDayOfYear(2022));\n",
    "System.out.println(\"dayOfYear: \" + APCalendar.dayOfYear(1, 1, 2022));\n",
    "System.out.println(\"isLeapYear: \" + APCalendar.isLeapYear(2022));\n",
    "System.out.println(\"numberOfLeapYears: \" + APCalendar.numberOfLeapYears(2000, 2022));\n",
    "System.out.println(\"dayOfWeek: \" + APCalendar.dayOfWeek(1, 1, 2022));"
   ]
  },
  {
   "cell_type": "markdown",
   "metadata": {},
   "source": [
    "## API Endpoints\n",
    "- We had to make a Day.java as well as Year.java"
   ]
  },
  {
   "cell_type": "code",
   "execution_count": null,
   "metadata": {
    "vscode": {
     "languageId": "java"
    }
   },
   "outputs": [],
   "source": [
    "@GetMapping(\"/firstDayOfYear/{year}\")\n",
    "    public ResponseEntity<JsonNode> getfirstDayOfYear(@PathVariable int year) throws JsonMappingException, JsonProcessingException {\n",
    "      // Backend Year Object\n",
    "      Year year_obj = new Year();\n",
    "      year_obj.setYear(year);  \n",
    "\n",
    "      // Turn Year Object into JSON\n",
    "      ObjectMapper mapper = new ObjectMapper(); \n",
    "      JsonNode json = mapper.readTree(year_obj.firstDayOfYearToString()); // this requires exception handling\n",
    "\n",
    "      return ResponseEntity.ok(json);  // JSON response, see ExceptionHandlerAdvice for throws\n",
    "    }\n",
    "    // add other methods\n",
    "    @GetMapping(\"/dayOfYear/{day}/{month}/{year}\")\n",
    "    public ResponseEntity<JsonNode> getDayInfo(@PathVariable int day, @PathVariable int month, @PathVariable int year) throws JsonMappingException, JsonProcessingException, IOException, InterruptedException, ParseException {\n",
    "      // Backend Day Object\n",
    "      Day day_obj = new Day(day, month, year);\n",
    "\n",
    "      // Turn Year Object into JSON\n",
    "      ObjectMapper mapper = new ObjectMapper(); \n",
    "      JsonNode json = mapper.readTree(day_obj.toJSON()); // this requires exception handling\n",
    "\n",
    "      return ResponseEntity.ok(json);  // JSON response, see ExceptionHandlerAdvice for throws\n",
    "    }\n",
    "\n",
    "     /** GET number of leap years from year1 to year 2\n",
    "     * ObjectMapper throws exceptions on bad JSON\n",
    "     *  @throws JsonProcessingException\n",
    "     *  @throws JsonMappingException\n",
    "     */\n",
    "    @GetMapping(\"/numberOfLeapYears/{year1}/{year2}\")\n",
    "    public ResponseEntity<JsonNode> getLeapYears(@PathVariable int year1, @PathVariable int year2) throws JsonMappingException, JsonProcessingException {\n",
    "      ObjectMapper mapper = new ObjectMapper(); \n",
    "      JsonNode json = mapper.readTree(\"{ \\\"count\\\": \" + APCalendar.numberOfLeapYears(year1, year2) + \" } \"); // this requires exception handling\n",
    "\n",
    "      return ResponseEntity.ok(json);  // JSON response, see ExceptionHandlerAdvice for throws\n",
    "    }"
   ]
  },
  {
   "cell_type": "markdown",
   "metadata": {},
   "source": [
    "## Testing\n",
    "- Used Postman and Spring"
   ]
  }
 ],
 "metadata": {
  "kernelspec": {
   "display_name": "Java",
   "language": "java",
   "name": "java"
  },
  "language_info": {
   "codemirror_mode": "java",
   "file_extension": ".jshell",
   "mimetype": "text/x-java-source",
   "name": "Java",
   "pygments_lexer": "java",
   "version": "11.0.16+8-post-Ubuntu-0ubuntu120.04"
  },
  "orig_nbformat": 4
 },
 "nbformat": 4,
 "nbformat_minor": 2
}
