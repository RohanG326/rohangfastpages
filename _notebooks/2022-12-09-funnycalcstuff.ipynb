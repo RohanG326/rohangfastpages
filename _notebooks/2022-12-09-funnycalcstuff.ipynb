{
 "cells": [
  {
   "cell_type": "markdown",
   "metadata": {},
   "source": [
    "# Rohan G Euler's method but in function form\n",
    "> I am bored I will make a math function\n",
    "\n",
    "- toc: true \n",
    "- badges: true\n",
    "- comments: true\n",
    "- categories: [jupyter]\n",
    "- image: images/chart-preview.png"
   ]
  },
  {
   "cell_type": "code",
   "execution_count": 14,
   "metadata": {
    "vscode": {
     "languageId": "java"
    }
   },
   "outputs": [
    {
     "name": "stdout",
     "output_type": "stream",
     "text": [
      "what is the coefficient of y in dy/dx\n",
      "what is coefficient of x in dy/dx\n",
      "dy/dx = 1x + -1y\n"
     ]
    }
   ],
   "source": [
    "import java.util.*;  \n",
    "class Euler {\n",
    "    public void coordinate() { //coordinate multiplication\n",
    "    }\n",
    "    public static void main(String[] args) {\n",
    "        Scanner in = new Scanner(System.in);  // Create a Scanner object\n",
    "        System.out.println(\"what is the coefficient of y in dy/dx\");\n",
    "        int diffy = in.nextInt();  // Read user input\n",
    "        System.out.println(\"what is coefficient of x in dy/dx\");\n",
    "        int diffx = in.nextInt();  // Read user input\n",
    "        // System.out.println(\"what is the starting x coordinate\");\n",
    "        // int initialx = in.nextInt();  // Read user input\n",
    "        // System.out.println(\"what is the starting y coordinate\");\n",
    "        // int initialy = in.nextInt();  // Read user input\n",
    "        // System.out.println(\"what is the deltax\");\n",
    "        // double deltax = in.nextDouble();  // Read user input\n",
    "        System.out.println(\"dy/dx = \" + diffx + \"x\"  + \" + \" + diffy + \"y\");\n",
    "    }\n",
    "}\n",
    "Euler.main(null);"
   ]
  }
 ],
 "metadata": {
  "kernelspec": {
   "display_name": "Java",
   "language": "java",
   "name": "java"
  },
  "language_info": {
   "codemirror_mode": "java",
   "file_extension": ".jshell",
   "mimetype": "text/x-java-source",
   "name": "Java",
   "pygments_lexer": "java",
   "version": "11.0.16+8-post-Ubuntu-0ubuntu120.04"
  },
  "orig_nbformat": 4
 },
 "nbformat": 4,
 "nbformat_minor": 2
}
