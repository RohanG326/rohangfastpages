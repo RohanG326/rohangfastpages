{
 "cells": [
  {
   "cell_type": "markdown",
   "metadata": {},
   "source": [
    "# Rohan G RapidAPI\n",
    "> Week 6 RapidAPI implementation\n",
    "\n",
    "- toc: true \n",
    "- badges: true\n",
    "- comments: true\n",
    "- categories: [jupyter]\n",
    "- image: images/chart-preview.png"
   ]
  },
  {
   "cell_type": "code",
   "execution_count": 4,
   "metadata": {},
   "outputs": [
    {
     "name": "stdout",
     "output_type": "stream",
     "text": [
      "{\"data\":[{\"id\":14,\"first_name\":\"Ike\",\"height_feet\":null,\"height_inches\":null,\"last_name\":\"Anigbogu\",\"position\":\"C\",\"team\":{\"id\":12,\"abbreviation\":\"IND\",\"city\":\"Indiana\",\"conference\":\"East\",\"division\":\"Central\",\"full_name\":\"Indiana Pacers\",\"name\":\"Pacers\"},\"weight_pounds\":null},{\"id\":25,\"first_name\":\"Ron\",\"height_feet\":null,\"height_inches\":null,\"last_name\":\"Baker\",\"position\":\"G\",\"team\":{\"id\":20,\"abbreviation\":\"NYK\",\"city\":\"New York\",\"conference\":\"East\",\"division\":\"Atlantic\",\"full_name\":\"New York Knicks\",\"name\":\"Knicks\"},\"weight_pounds\":null},{\"id\":47,\"first_name\":\"Jabari\",\"height_feet\":null,\"height_inches\":null,\"last_name\":\"Bird\",\"position\":\"G\",\"team\":{\"id\":2,\"abbreviation\":\"BOS\",\"city\":\"Boston\",\"conference\":\"East\",\"division\":\"Atlantic\",\"full_name\":\"Boston Celtics\",\"name\":\"Celtics\"},\"weight_pounds\":null},{\"id\":67,\"first_name\":\"MarShon\",\"height_feet\":null,\"height_inches\":null,\"last_name\":\"Brooks\",\"position\":\"G\",\"team\":{\"id\":15,\"abbreviation\":\"MEM\",\"city\":\"Memphis\",\"conference\":\"West\",\"division\":\"Southwest\",\"full_name\":\"Memphis Grizzlies\",\"name\":\"Grizzlies\"},\"weight_pounds\":null},{\"id\":71,\"first_name\":\"Lorenzo\",\"height_feet\":null,\"height_inches\":null,\"last_name\":\"Brown\",\"position\":\"G\",\"team\":{\"id\":28,\"abbreviation\":\"TOR\",\"city\":\"Toronto\",\"conference\":\"East\",\"division\":\"Atlantic\",\"full_name\":\"Toronto Raptors\",\"name\":\"Raptors\"},\"weight_pounds\":null},{\"id\":90,\"first_name\":\"Omri\",\"height_feet\":null,\"height_inches\":null,\"last_name\":\"Casspi\",\"position\":\"F\",\"team\":{\"id\":15,\"abbreviation\":\"MEM\",\"city\":\"Memphis\",\"conference\":\"West\",\"division\":\"Southwest\",\"full_name\":\"Memphis Grizzlies\",\"name\":\"Grizzlies\"},\"weight_pounds\":null},{\"id\":1,\"first_name\":\"Alex\",\"height_feet\":6,\"height_inches\":6,\"last_name\":\"Abrines\",\"position\":\"G\",\"team\":{\"id\":21,\"abbreviation\":\"OKC\",\"city\":\"Oklahoma City\",\"conference\":\"West\",\"division\":\"Northwest\",\"full_name\":\"Oklahoma City Thunder\",\"name\":\"Thunder\"},\"weight_pounds\":200},{\"id\":119,\"first_name\":\"Tyler\",\"height_feet\":null,\"height_inches\":null,\"last_name\":\"Davis\",\"position\":\"C\",\"team\":{\"id\":21,\"abbreviation\":\"OKC\",\"city\":\"Oklahoma City\",\"conference\":\"West\",\"division\":\"Northwest\",\"full_name\":\"Oklahoma City Thunder\",\"name\":\"Thunder\"},\"weight_pounds\":null},{\"id\":149,\"first_name\":\"Keenan\",\"height_feet\":null,\"height_inches\":null,\"last_name\":\"Evans\",\"position\":\"G\",\"team\":{\"id\":9,\"abbreviation\":\"DET\",\"city\":\"Detroit\",\"conference\":\"East\",\"division\":\"Central\",\"full_name\":\"Detroit Pistons\",\"name\":\"Pistons\"},\"weight_pounds\":null},{\"id\":179,\"first_name\":\"Marcin\",\"height_feet\":null,\"height_inches\":null,\"last_name\":\"Gortat\",\"position\":\"C\",\"team\":{\"id\":13,\"abbreviation\":\"LAC\",\"city\":\"LA\",\"conference\":\"West\",\"division\":\"Pacific\",\"full_name\":\"LA Clippers\",\"name\":\"Clippers\"},\"weight_pounds\":null},{\"id\":1593,\"first_name\":\"Andrew\",\"height_feet\":null,\"height_inches\":null,\"last_name\":\"Bogut\",\"position\":\"F\",\"team\":{\"id\":10,\"abbreviation\":\"GSW\",\"city\":\"Golden State\",\"conference\":\"West\",\"division\":\"Pacific\",\"full_name\":\"Golden State Warriors\",\"name\":\"Warriors\"},\"weight_pounds\":null},{\"id\":241,\"first_name\":\"Amir\",\"height_feet\":6,\"height_inches\":9,\"last_name\":\"Johnson\",\"position\":\"C-F\",\"team\":{\"id\":23,\"abbreviation\":\"PHI\",\"city\":\"Philadelphia\",\"conference\":\"East\",\"division\":\"Atlantic\",\"full_name\":\"Philadelphia 76ers\",\"name\":\"76ers\"},\"weight_pounds\":240},{\"id\":392,\"first_name\":\"Malachi\",\"height_feet\":null,\"height_inches\":null,\"last_name\":\"Richardson\",\"position\":\"G\",\"team\":{\"id\":29,\"abbreviation\":\"UTA\",\"city\":\"Utah\",\"conference\":\"West\",\"division\":\"Northwest\",\"full_name\":\"Utah Jazz\",\"name\":\"Jazz\"},\"weight_pounds\":null},{\"id\":281,\"first_name\":\"Zach\",\"height_feet\":null,\"height_inches\":null,\"last_name\":\"Lofton\",\"position\":\"G\",\"team\":{\"id\":9,\"abbreviation\":\"DET\",\"city\":\"Detroit\",\"conference\":\"East\",\"division\":\"Central\",\"full_name\":\"Detroit Pistons\",\"name\":\"Pistons\"},\"weight_pounds\":null},{\"id\":263,\"first_name\":\"Kosta\",\"height_feet\":7,\"height_inches\":0,\"last_name\":\"Koufos\",\"position\":\"C\",\"team\":{\"id\":26,\"abbreviation\":\"SAC\",\"city\":\"Sacramento\",\"conference\":\"West\",\"division\":\"Pacific\",\"full_name\":\"Sacramento Kings\",\"name\":\"Kings\"},\"weight_pounds\":245},{\"id\":382,\"first_name\":\"Billy\",\"height_feet\":null,\"height_inches\":null,\"last_name\":\"Preston\",\"position\":\"F\",\"team\":{\"id\":6,\"abbreviation\":\"CLE\",\"city\":\"Cleveland\",\"conference\":\"East\",\"division\":\"Central\",\"full_name\":\"Cleveland Cavaliers\",\"name\":\"Cavaliers\"},\"weight_pounds\":null},{\"id\":384,\"first_name\":\"Zhou\",\"height_feet\":null,\"height_inches\":null,\"last_name\":\"Qi\",\"position\":\"F-C\",\"team\":{\"id\":11,\"abbreviation\":\"HOU\",\"city\":\"Houston\",\"conference\":\"West\",\"division\":\"Southwest\",\"full_name\":\"Houston Rockets\",\"name\":\"Rockets\"},\"weight_pounds\":null},{\"id\":388,\"first_name\":\"Zach\",\"height_feet\":null,\"height_inches\":null,\"last_name\":\"Randolph\",\"position\":\"F\",\"team\":{\"id\":26,\"abbreviation\":\"SAC\",\"city\":\"Sacramento\",\"conference\":\"West\",\"division\":\"Pacific\",\"full_name\":\"Sacramento Kings\",\"name\":\"Kings\"},\"weight_pounds\":null},{\"id\":430,\"first_name\":\"DJ\",\"height_feet\":null,\"height_inches\":null,\"last_name\":\"Stephens\",\"position\":\"G-F\",\"team\":{\"id\":15,\"abbreviation\":\"MEM\",\"city\":\"Memphis\",\"conference\":\"West\",\"division\":\"Southwest\",\"full_name\":\"Memphis Grizzlies\",\"name\":\"Grizzlies\"},\"weight_pounds\":null},{\"id\":437,\"first_name\":\"Milos\",\"height_feet\":null,\"height_inches\":null,\"last_name\":\"Teodosic\",\"position\":\"G\",\"team\":{\"id\":13,\"abbreviation\":\"LAC\",\"city\":\"LA\",\"conference\":\"West\",\"division\":\"Pacific\",\"full_name\":\"LA Clippers\",\"name\":\"Clippers\"},\"weight_pounds\":null},{\"id\":448,\"first_name\":\"Gary\",\"height_feet\":null,\"height_inches\":null,\"last_name\":\"Trent Jr.\",\"position\":\"G\",\"team\":{\"id\":25,\"abbreviation\":\"POR\",\"city\":\"Portland\",\"conference\":\"West\",\"division\":\"Northwest\",\"full_name\":\"Portland Trail Blazers\",\"name\":\"Trail Blazers\"},\"weight_pounds\":null},{\"id\":494,\"first_name\":\"Michael\",\"height_feet\":null,\"height_inches\":null,\"last_name\":\"Smith\",\"position\":\"\",\"team\":{\"id\":2,\"abbreviation\":\"BOS\",\"city\":\"Boston\",\"conference\":\"East\",\"division\":\"Atlantic\",\"full_name\":\"Boston Celtics\",\"name\":\"Celtics\"},\"weight_pounds\":null},{\"id\":495,\"first_name\":\"John\",\"height_feet\":null,\"height_inches\":null,\"last_name\":\"Morton\",\"position\":\"\",\"team\":{\"id\":6,\"abbreviation\":\"CLE\",\"city\":\"Cleveland\",\"conference\":\"East\",\"division\":\"Central\",\"full_name\":\"Cleveland Cavaliers\",\"name\":\"Cavaliers\"},\"weight_pounds\":null},{\"id\":496,\"first_name\":\"Howard\",\"height_feet\":null,\"height_inches\":null,\"last_name\":\"Wright\",\"position\":\"\",\"team\":{\"id\":1,\"abbreviation\":\"ATL\",\"city\":\"Atlanta\",\"conference\":\"East\",\"division\":\"Southeast\",\"full_name\":\"Atlanta Hawks\",\"name\":\"Hawks\"},\"weight_pounds\":null},{\"id\":497,\"first_name\":\"Michael\",\"height_feet\":null,\"height_inches\":null,\"last_name\":\"Ansley\",\"position\":\"\",\"team\":{\"id\":22,\"abbreviation\":\"ORL\",\"city\":\"Orlando\",\"conference\":\"East\",\"division\":\"Southeast\",\"full_name\":\"Orlando Magic\",\"name\":\"Magic\"},\"weight_pounds\":null}],\"meta\":{\"total_pages\":151,\"current_page\":1,\"next_page\":2,\"per_page\":25,\"total_count\":3757}}\n"
     ]
    }
   ],
   "source": [
    "import java.net.URI;\n",
    "import java.net.http.HttpClient;\n",
    "import java.net.http.HttpRequest;\n",
    "import java.net.http.HttpResponse;\n",
    "\n",
    "HttpRequest request = HttpRequest.newBuilder()\n",
    "    .uri(URI.create(\"https://free-nba.p.rapidapi.com/players?page=0&per_page=25\"))\n",
    "    .header(\"X-RapidAPI-Key\", \"35a01f5f74msh20628303ae6dbefp168484jsn83f86e2f8568\")\n",
    "    .header(\"X-RapidAPI-Host\", \"free-nba.p.rapidapi.com\")\n",
    "    .method(\"GET\", HttpRequest.BodyPublishers.noBody())\n",
    "    .build();\n",
    "\n",
    "    HttpResponse<String> response = HttpClient.newHttpClient().send(request, HttpResponse.BodyHandlers.ofString());\n",
    "\n",
    "System.out.println(response.body());"
   ]
  },
  {
   "cell_type": "code",
   "execution_count": 5,
   "metadata": {},
   "outputs": [
    {
     "ename": "CompilationException",
     "evalue": "",
     "output_type": "error",
     "traceback": [
      "\u001b[1m\u001b[30m|   \u001b[1m\u001b[30mimport \u001b[0m\u001b[1m\u001b[30m\u001b[41morg.json.simple.JSONObject\u001b[0m\u001b[1m\u001b[30m;\u001b[0m",
      "\u001b[1m\u001b[31mpackage org.json.simple does not exist\u001b[0m",
      ""
     ]
    }
   ],
   "source": [
    "import java.net.URI;\n",
    "import java.net.http.HttpClient;\n",
    "import java.net.http.HttpRequest;\n",
    "import java.net.http.HttpResponse;\n",
    "import java.util.Date;\n",
    "import java.util.HashMap;\n",
    "\n",
    "import org.json.simple.JSONObject;\n",
    "import org.json.simple.parser.JSONParser;\n",
    "import org.springframework.http.HttpStatus;\n",
    "import org.springframework.http.ResponseEntity;\n",
    "import org.springframework.web.bind.annotation.*;\n",
    "\n",
    "@RestController // annotation to create a RESTful web services\n",
    "@RequestMapping(\"/api/nba\")  //prefix of API\n",
    "public class NbaApiController {\n",
    "    private JSONObject body; //last run result\n",
    "    private HttpStatus status; //last run status\n",
    "    String last_run = null; //last run day of month\n",
    "\n",
    "    // GET Covid 19 Stats\n",
    "    @GetMapping(\"/daily\")   //added to end of prefix as endpoint\n",
    "    public ResponseEntity<JSONObject> getNba() {\n",
    "\n",
    "        //calls API once a day, sets body and status properties\n",
    "        String today = new Date().toString().substring(0,10); \n",
    "        if (last_run == null || !today.equals(last_run))\n",
    "        {\n",
    "            try {  //APIs can fail (ie Internet or Service down)\n",
    "                \n",
    "                //RapidAPI header\n",
    "                HttpRequest request = HttpRequest.newBuilder()\n",
    "                .uri(URI.create(\"https://free-nba.p.rapidapi.com/players?page=0&per_page=25\"))\n",
    "                .header(\"X-RapidAPI-Key\", \"35a01f5f74msh20628303ae6dbefp168484jsn83f86e2f8568\")\n",
    "                .header(\"X-RapidAPI-Host\", \"free-nba.p.rapidapi.com\")\n",
    "                .method(\"GET\", HttpRequest.BodyPublishers.noBody())\n",
    "                .build();\n",
    "\n",
    "                HttpResponse<String> response = HttpClient.newHttpClient().send(request, HttpResponse.BodyHandlers.ofString());\n",
    "\n",
    "                //JSONParser extracts text body and parses to JSONObject\n",
    "                this.body = (JSONObject) new JSONParser().parse(response.body());\n",
    "                this.status = HttpStatus.OK;  //200 success\n",
    "                this.last_run = today;\n",
    "            }\n",
    "            catch (Exception e) {  //capture failure info\n",
    "                HashMap<String, String> status = new HashMap<>();\n",
    "                status.put(\"status\", \"RapidApi failure: \" + e);\n",
    "\n",
    "                //Setup object for error\n",
    "                this.body = (JSONObject) status;\n",
    "                this.status = HttpStatus.INTERNAL_SERVER_ERROR; //500 error\n",
    "                this.last_run = null;\n",
    "            }\n",
    "        }\n",
    "\n",
    "        //return JSONObject in RESTful style\n",
    "        return new ResponseEntity<>(body, status);\n",
    "    }\n",
    "}"
   ]
  }
 ],
 "metadata": {
  "kernelspec": {
   "display_name": "Java",
   "language": "java",
   "name": "java"
  },
  "language_info": {
   "codemirror_mode": "java",
   "file_extension": ".jshell",
   "mimetype": "text/x-java-source",
   "name": "java",
   "pygments_lexer": "java",
   "version": "11.0.16+8-post-Ubuntu-0ubuntu120.04"
  },
  "orig_nbformat": 4,
  "vscode": {
   "interpreter": {
    "hash": "916dbcbb3f70747c44a77c7bcd40155683ae19c65e1c03b4aa3499c5328201f1"
   }
  }
 },
 "nbformat": 4,
 "nbformat_minor": 2
}
