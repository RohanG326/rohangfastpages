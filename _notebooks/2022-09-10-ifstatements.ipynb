{
 "cells": [
  {
   "cell_type": "markdown",
   "metadata": {},
   "source": [
    "# Rohan G If Statements\n",
    "> Week 3 If Statements\n",
    "\n",
    "- toc: true \n",
    "- badges: true\n",
    "- comments: true\n",
    "- categories: [jupyter]\n",
    "- image: images/chart-preview.png"
   ]
  },
  {
   "cell_type": "markdown",
   "metadata": {},
   "source": [
    "# If Statement"
   ]
  },
  {
   "cell_type": "code",
   "execution_count": null,
   "metadata": {
    "vscode": {
     "languageId": "java"
    }
   },
   "outputs": [],
   "source": [
    "if (condition) {\n",
    "    //output\n",
    "}\n",
    "else {\n",
    "    //ouput\n",
    "}"
   ]
  },
  {
   "cell_type": "markdown",
   "metadata": {},
   "source": [
    "# Else If Statement"
   ]
  },
  {
   "cell_type": "code",
   "execution_count": null,
   "metadata": {
    "vscode": {
     "languageId": "java"
    }
   },
   "outputs": [],
   "source": [
    "if (condition) {\n",
    "    //output\n",
    "}\n",
    "else if (other condition) {\n",
    "    //ouput\n",
    "}"
   ]
  },
  {
   "cell_type": "markdown",
   "metadata": {},
   "source": [
    "# If Elseif Else Statement"
   ]
  },
  {
   "cell_type": "code",
   "execution_count": null,
   "metadata": {
    "vscode": {
     "languageId": "java"
    }
   },
   "outputs": [],
   "source": [
    "if (condition) {\n",
    "    //output\n",
    "}\n",
    "else if (other condition) {\n",
    "    //ouput\n",
    "}\n",
    "else {\n",
    "    //output\n",
    "}"
   ]
  },
  {
   "cell_type": "markdown",
   "metadata": {},
   "source": [
    "# If Statements CheckAnswer Function"
   ]
  },
  {
   "cell_type": "code",
   "execution_count": 33,
   "metadata": {
    "vscode": {
     "languageId": "java"
    }
   },
   "outputs": [
    {
     "name": "stdout",
     "output_type": "stream",
     "text": [
      "What is the country of the capital?\n",
      "That is the capital of Ecuador!\n"
     ]
    }
   ],
   "source": [
    "class CheckAnswer {\n",
    "    public static void main(String[] args) {\n",
    "        Scanner scanner = new Scanner(System.in);\n",
    "        System.out.println(\"What is the country of the capital?\");\n",
    "        String answer = scanner.nextLine();\n",
    "            if (answer.equals (\"Santiago\") ) {\n",
    "                System.out.println(\"That is the capital of Chile!\");\n",
    "            }\n",
    "            else if (answer.equals (\"Bogota\") ) {\n",
    "                System.out.println(\"That is the capital of Columbia!\");\n",
    "            }\n",
    "            else if (answer.equals (\"Lima\") ) {\n",
    "                System.out.println(\"That is the capital of Peru!\");\n",
    "            }\n",
    "            else if (answer.equals (\"Buenos Aires\") ) {\n",
    "                System.out.println(\"That is the capital of Argentina!\");\n",
    "            }\n",
    "            else if (answer.equals (\"Quito\") ) {\n",
    "                System.out.println(\"That is the capital of Ecuador!\");\n",
    "            }\n",
    "            else if (answer.equals (\"Caracas\") ) {\n",
    "                System.out.println(\"That is the capital of Venezuela!\");\n",
    "            }\n",
    "            else {\n",
    "                System.out.println(\"This is not a valid capital!\");\n",
    "            }\n",
    "    } \n",
    "}\n",
    "CheckAnswer.main(null);\n"
   ]
  },
  {
   "cell_type": "markdown",
   "metadata": {},
   "source": [
    "# Switch Case"
   ]
  },
  {
   "cell_type": "code",
   "execution_count": 35,
   "metadata": {
    "vscode": {
     "languageId": "java"
    }
   },
   "outputs": [
    {
     "name": "stdout",
     "output_type": "stream",
     "text": [
      "Enter a single digit value\n",
      "8\n"
     ]
    }
   ],
   "source": [
    "public class SwitchCase {\n",
    "    public static void main(String[] args) {\n",
    "        Scanner scanner = new Scanner(System.in);\n",
    "        System.out.println(\"Enter a single digit value\"); //user input for array\n",
    "        int x = scanner.nextInt();\n",
    "        switch (x){\n",
    "            case 0:\n",
    "                //If case is 0, this block executes\n",
    "                System.out.println(\"Absolute Value was 0\");\n",
    "                break;\n",
    "            case -1:\n",
    "                //If case is 1, this block executes\n",
    "                System.out.println(\"Absolute Value was 1\");\n",
    "                break;\n",
    "            case -2:\n",
    "                //If case is 2, this block executes\n",
    "                System.out.println(\"Absolute Value was 2\");\n",
    "                break;\n",
    "            case -3:\n",
    "                //If case is 3, this block executes\n",
    "                System.out.println(\"Absolute Value was 3\");\n",
    "                break;\n",
    "            case -4:\n",
    "                //If case is 4, this block executes\n",
    "                System.out.println(\"Absolute Value was 4\");\n",
    "                break;\n",
    "            case -5:\n",
    "                //If case is 5, this block executes\n",
    "                System.out.println(\"Absolute Value was 5\");\n",
    "                break;\n",
    "            case -6:\n",
    "                //If case is 5, this block executes\n",
    "                System.out.println(\"Absolute Value was 5\");\n",
    "                break;\n",
    "            case -7:\n",
    "                //If case is 5, this block executes\n",
    "                System.out.println(\"Absolute Value was 8\");\n",
    "                break;\n",
    "            case -8:\n",
    "                //If case is 5, this block executes\n",
    "                System.out.println(\"Absolute Value was 8\");\n",
    "                break;\n",
    "            case -9:\n",
    "                //If case is 5, this block executes\n",
    "                System.out.println(\"Absolute Value was 9\");\n",
    "                break;\n",
    "            default:\n",
    "                //This block is similar to else statement, is the default operation\n",
    "                System.out.println(x);\n",
    "        }\n",
    "    }\n",
    "}\n",
    "\n",
    "SwitchCase.main(null);"
   ]
  },
  {
   "cell_type": "markdown",
   "metadata": {},
   "source": [
    "# De Morgan's Law"
   ]
  },
  {
   "cell_type": "code",
   "execution_count": null,
   "metadata": {
    "vscode": {
     "languageId": "java"
    }
   },
   "outputs": [],
   "source": [
    "!(a && b) == (!a || !b)\n",
    "!(a || b) == (!a && !b)"
   ]
  },
  {
   "cell_type": "code",
   "execution_count": 37,
   "metadata": {
    "vscode": {
     "languageId": "java"
    }
   },
   "outputs": [
    {
     "name": "stdout",
     "output_type": "stream",
     "text": [
      "valid\n"
     ]
    }
   ],
   "source": [
    "if ((true) && !(false)) {\n",
    "    System.out.println(\"valid\");\n",
    "}\n"
   ]
  },
  {
   "cell_type": "markdown",
   "metadata": {},
   "source": [
    "## not operator on the whole expression causes the true and false to flip and the && and || to flip"
   ]
  },
  {
   "cell_type": "code",
   "execution_count": 39,
   "metadata": {
    "vscode": {
     "languageId": "java"
    }
   },
   "outputs": [
    {
     "name": "stdout",
     "output_type": "stream",
     "text": [
      "opposite demonstrating de morgans law\n"
     ]
    }
   ],
   "source": [
    "if (!(false) || (true)) {\n",
    "    System.out.println(\"opposite demonstrating de morgans law\");\n",
    "}"
   ]
  }
 ],
 "metadata": {
  "kernelspec": {
   "display_name": "Java",
   "language": "java",
   "name": "java"
  },
  "language_info": {
   "codemirror_mode": "java",
   "file_extension": ".jshell",
   "mimetype": "text/x-java-source",
   "name": "Java",
   "pygments_lexer": "java",
   "version": "11.0.16+8-post-Ubuntu-0ubuntu120.04"
  },
  "orig_nbformat": 4
 },
 "nbformat": 4,
 "nbformat_minor": 2
}
