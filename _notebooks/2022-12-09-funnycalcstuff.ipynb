{
 "cells": [
  {
   "cell_type": "markdown",
   "metadata": {},
   "source": [
    "# Rohan G Euler's method but in function form\n",
    "> I am bored I will make a math function\n",
    "\n",
    "- toc: true \n",
    "- badges: true\n",
    "- comments: true\n",
    "- categories: [jupyter]\n",
    "- image: images/chart-preview.png"
   ]
  },
  {
   "cell_type": "code",
   "execution_count": 61,
   "metadata": {
    "vscode": {
     "languageId": "java"
    }
   },
   "outputs": [
    {
     "name": "stdout",
     "output_type": "stream",
     "text": [
      "what is the coefficient of y in dy/dx = x + y\n",
      "what is coefficient of x in dy/dx = x + y\n",
      "what is the starting x coordinate\n",
      "what is the starting y coordinate\n",
      "what is the final x coordinate\n",
      "how many increments\n",
      "Equation is: dy/dx = 1x + 1y\n",
      "Starting coordinate = (1.0, 1.0)\n",
      "3 increments to get to f(4.0)\n",
      "(x,y) = (1.0, 1.0)   |   Delta x = 1.0   |   dy/dx = 2.0   |   deltax * (dy/dx) = 2.0   |   delta x(dy/dx) = 2.0   |   ((x + dx), (y + dy)) = (1.0, 1.0)\n",
      "(x,y) = (2.0, 4.0)   |   Delta x = 1.0   |   dy/dx = 6.0   |   deltax * (dy/dx) = 6.0   |   delta x(dy/dx) = 6.0   |   ((x + dx), (y + dy)) = (2.0, 4.0)\n",
      "(x,y) = (3.0, 14.0)   |   Delta x = 1.0   |   dy/dx = 17.0   |   deltax * (dy/dx) = 17.0   |   delta x(dy/dx) = 17.0   |   ((x + dx), (y + dy)) = (3.0, 14.0)\n"
     ]
    }
   ],
   "source": [
    "import java.util.*;  \n",
    "class Euler {\n",
    "    public int diffy;\n",
    "    public int diffx;\n",
    "    public double initialx;\n",
    "    public double initialy;\n",
    "    public double finalx;\n",
    "    public int increment;\n",
    "    public double derivative;\n",
    "    public double deltay;\n",
    "    public double tempfinalx;\n",
    "    public double tempfinaly;\n",
    "    public double tempdeltax;\n",
    "    public static void wholethingig() {\n",
    "        Scanner in = new Scanner(System.in);  // Create a Scanner object\n",
    "        System.out.println(\"what is the coefficient of y in dy/dx = x + y\");\n",
    "        int diffy = in.nextInt();  // Read user input\n",
    "        System.out.println(\"what is coefficient of x in dy/dx = x + y\");\n",
    "        int diffx = in.nextInt();  // Read user input\n",
    "        System.out.println(\"what is the starting x coordinate\");\n",
    "        double initialx = in.nextDouble();  // Read user input\n",
    "        System.out.println(\"what is the starting y coordinate\");\n",
    "        double initialy = in.nextDouble();  // Read user input\n",
    "        System.out.println(\"what is the final x coordinate\");\n",
    "        double finalx = in.nextDouble();  // Read user input\n",
    "        System.out.println(\"how many increments\");\n",
    "        int increment = in.nextInt();\n",
    "        System.out.println(\"Equation is: dy/dx = \" + diffx + \"x\"  + \" + \" + diffy + \"y\");\n",
    "        System.out.println(\"Starting coordinate = \" + \"(\" + initialx + \", \" + initialy + \")\");\n",
    "        System.out.println(increment + \" increments to get to f(\" + finalx + \")\");\n",
    "        double deltax = (finalx - initialx)/increment;\n",
    "        for (int i = 0; i < increment; i++ ) {\n",
    "            double derivative = (initialx * diffx) + (initialy * diffy);\n",
    "            double deltay = derivative * deltax;\n",
    "            System.out.println(\"(x,y) = \" + \"(\" + initialx + \", \" + initialy + \")   |   \" + \"Delta x = \" + deltax + \"   |   \" + \"dy/dx = \" + derivative + \"   |   \" + \"deltax * (dy/dx) = \" + deltay + \"   |   \" + \"delta x(dy/dx) = \" + deltay + \"   |   \" + \"((x + dx), (y + dy))\" + \" = (\" + initialx + \", \" + initialy + \")\"); \n",
    "            // System.out.println(\"Delta x = \" + deltax + \".\");\n",
    "            // System.out.println(\"dy/dx = \" + derivative + \".\");\n",
    "            // System.out.println(\"delta x(dy/dx) = \" + deltay + \".\");\n",
    "            // System.out.println(\"((x + dx), (y + dy))\" + \" = (\" + initialx + \", \" + initialy + \")\");\n",
    "            // System.out.println(deltax);\n",
    "            initialy += initialy + deltay;\n",
    "            initialx = initialx + deltax; \n",
    "            // System.out.println(\"diffx = \" + diffx);\n",
    "            // System.out.println(\"diffy = \" + diffy);\n",
    "            // System.out.println(\"derivative = \" + derivative);\n",
    "            // System.out.println(\"finalx = \" + initialx);\n",
    "        }\n",
    "    }\n",
    "    public static void main(String[] args) {\n",
    "        wholethingig();\n",
    "        // getDeltaX();\n",
    "    }\n",
    "}\n",
    "Euler.main(null);"
   ]
  }
 ],
 "metadata": {
  "kernelspec": {
   "display_name": "Java",
   "language": "java",
   "name": "java"
  },
  "language_info": {
   "codemirror_mode": "java",
   "file_extension": ".jshell",
   "mimetype": "text/x-java-source",
   "name": "Java",
   "pygments_lexer": "java",
   "version": "11.0.16+8-post-Ubuntu-0ubuntu120.04"
  },
  "orig_nbformat": 4
 },
 "nbformat": 4,
 "nbformat_minor": 2
}
