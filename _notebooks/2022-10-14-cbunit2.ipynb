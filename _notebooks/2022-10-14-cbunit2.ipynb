{
 "cells": [
  {
   "cell_type": "markdown",
   "metadata": {},
   "source": [
    "# Rohan G CollegeBoard Unit 2 Using Objects\n",
    "> Week 9 Using Objects\n",
    "\n",
    "- toc: true \n",
    "- badges: true\n",
    "- comments: true\n",
    "- categories: [jupyter]\n",
    "- image: images/chart-preview.png"
   ]
  },
  {
   "cell_type": "code",
   "execution_count": 2,
   "metadata": {},
   "outputs": [
    {
     "ename": "CompilationException",
     "evalue": "",
     "output_type": "error",
     "traceback": [
      "\u001b[1m\u001b[30m|   \u001b[1m\u001b[30mpublic int scoreGuess(String guess)\u001b[0m\u001b[1m\u001b[30m\u001b[41m\u001b[0m\u001b[1m\u001b[30m\u001b[0m",
      "\u001b[1m\u001b[31m';' expected\u001b[0m",
      "",
      "\u001b[1m\u001b[30m|   \u001b[1m\u001b[30mpublic String findBetterGuess(String guess1, String guess2)\u001b[0m\u001b[1m\u001b[30m\u001b[41m\u001b[0m\u001b[1m\u001b[30m\u001b[0m",
      "\u001b[1m\u001b[31m';' expected\u001b[0m",
      ""
     ]
    }
   ],
   "source": [
    "public class WordMatch\n",
    "{\n",
    "/** The secret string. */\n",
    "private String secret;\n",
    "/** Constructs a WordMatch object with the given secret string of lowercase letters. */\n",
    "public WordMatch(String word)\n",
    "{\n",
    "/* implementation not shown */\n",
    "}\n",
    "/** Returns a score for guess, as described in part (a).\n",
    "* Precondition: 0 < guess.length() <= secret.length()\n",
    "*/\n",
    "public int scoreGuess(String guess)\n",
    "{ /* to be implemented in part (a) */ }\n",
    "/** Returns the better of two guesses, as determined by scoreGuess and the rules for a\n",
    "* tie-breaker that are described in part (b).\n",
    "* Precondition: guess1 and guess2 contain all lowercase letters.\n",
    "* guess1 is not the same as guess2.\n",
    "*/\n",
    "public String findBetterGuess(String guess1, String guess2)\n",
    "{ /* to be implemented in part (b) */ }\n",
    "}"
   ]
  },
  {
   "cell_type": "code",
   "execution_count": 3,
   "metadata": {},
   "outputs": [
    {
     "name": "stdout",
     "output_type": "stream",
     "text": [
      "8\n",
      "121\n",
      "nation\n",
      "con\n"
     ]
    }
   ],
   "source": [
    "public class WordMatch\n",
    "{\n",
    "/** The secret string. */\n",
    "private String secret;\n",
    "/** Constructs a WordMatch object with the given secret string of lowercase letters. */\n",
    "public WordMatch(String word)\n",
    "{\n",
    "    this.secret = word;\n",
    "}\n",
    "/** Returns a score for guess, as described in part (a).\n",
    "* Precondition: 0 < guess.length() <= secret.length()\n",
    "*/\n",
    "public int scoreGuess(String guess)\n",
    "{\n",
    "  int times = 0;\n",
    "  // initializes the occurences\n",
    "  for(int i = 0; i < secret.length(); i++) {\n",
    "    // for as long as i is not greater than the length of the secret word, it will iterate\n",
    "    int x = i + guess.length();\n",
    "    // x is the end length of the guess\n",
    "    if(x <= secret.length() && secret.substring(i, x).equals(guess))\n",
    "// if x is shorter than the the secret of the word, then it will keep going\n",
    "      times++;\n",
    "    // increments if the guess matches the substring secret\n",
    "  }\n",
    "  return times * (guess.length() * guess.length());\n",
    "}\n",
    "/** Returns the better of two guesses, as determined by scoreGuess and the rules for a\n",
    "* tie-breaker that are described in part (b).\n",
    "* Precondition: guess1 and guess2 contain all lowercase letters.\n",
    "* guess1 is not the same as guess2.\n",
    "*/\n",
    "public String findBetterGuess(String guess1, String guess2) {\n",
    "  int score1 = scoreGuess(guess1);\n",
    "  // each of the guesses are put into the method before it to yield two integers\n",
    "  int score2 = scoreGuess(guess2);\n",
    "  \n",
    "  //compares the ints using conditionals to return the word with a greater value\n",
    "  if(score1 > score2)\n",
    "    return guess1;\n",
    "  else if(score2 > score1)\n",
    "    return guess2;\n",
    "  else {\n",
    "  // returns the guess that is a longer amount of characters if they are the same\n",
    "    if(guess1.compareTo(guess2) > 0)\n",
    "      return guess1;\n",
    "    else\n",
    "      return guess2;\n",
    "  }\n",
    "}\n",
    "public static void main(String[] args) {\n",
    "\n",
    "    WordMatch testA = new WordMatch(\"mississippi\");\n",
    "    System.out.println(testA.scoreGuess(\"is\"));\n",
    "    System.out.println(testA.scoreGuess(\"mississippi\"));\n",
    "\n",
    "    WordMatch testB = new WordMatch(\"concatenation\");\n",
    "    System.out.println(testB.findBetterGuess(\"ten\" , \"nation\"));\n",
    "    System.out.println(testB.findBetterGuess(\"con\", \"cat\"));\n",
    "}\n",
    "} \n",
    "WordMatch.main(null)"
   ]
  }
 ],
 "metadata": {
  "kernelspec": {
   "display_name": "Java",
   "language": "java",
   "name": "java"
  },
  "language_info": {
   "codemirror_mode": "java",
   "file_extension": ".jshell",
   "mimetype": "text/x-java-source",
   "name": "java",
   "pygments_lexer": "java",
   "version": "11.0.16+8-post-Ubuntu-0ubuntu120.04"
  },
  "orig_nbformat": 4
 },
 "nbformat": 4,
 "nbformat_minor": 2
}
