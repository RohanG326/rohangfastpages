{
 "cells": [
  {
   "cell_type": "markdown",
   "metadata": {},
   "source": [
    "# Rohan G CollegeBoard Writing Classes\n",
    "> Week 9 Writing Classes\n",
    "\n",
    "- toc: true \n",
    "- badges: true\n",
    "- comments: true\n",
    "- categories: [jupyter]\n",
    "- image: images/chart-preview.png"
   ]
  },
  {
   "cell_type": "code",
   "execution_count": null,
   "metadata": {},
   "outputs": [],
   "source": [
    "// Hack 1\n",
    "int[] arrayOne = {1, 3, 5, 7, 9};\n",
    "for (int i = 0, arrayOne.length, i==) {\n",
    "    \n",
    "}"
   ]
  },
  {
   "cell_type": "markdown",
   "metadata": {},
   "source": [
    "Hack 2\n",
    "Which of the following is FALSE about arrays\n",
    "\n",
    "A. A java array is an object\n",
    "B. Length of array can be changed after creation of array\n",
    "C. Numerical data types of arrays are initialized to 0 to start\n",
    "\n",
    "B."
   ]
  },
  {
   "cell_type": "code",
   "execution_count": null,
   "metadata": {},
   "outputs": [],
   "source": [
    "// Hack 7\n",
    "for ( int k = 0; k < a.length; k++ )\n",
    "{\n",
    "   while ( a[ k ] < temp )\n",
    "   {\n",
    "      a[ k ] *= 2;\n",
    "   }\n",
    "}"
   ]
  },
  {
   "cell_type": "markdown",
   "metadata": {},
   "source": [
    "Given the following code segment, which of the following will cause an infinite loop? Assume that temp is an int variable initialized to be greater than zero and that a is an array of integers.\n",
    "\n",
    "- A. The values don't matter this will always cause an infinite loop.\n",
    "- B. Whenever a includes a value that is less than or equal to zero.\n",
    "- C. Whenever a has values larger then temp.\n",
    "- D. When all values in a are larger than temp.\n",
    "- E. Whenever a includes a value equal to temp."
   ]
  },
  {
   "cell_type": "code",
   "execution_count": null,
   "metadata": {},
   "outputs": [],
   "source": [
    "// FRQ\n",
    "public void addMembers(String[] names, int gradYear) {\n",
    "    for (String name : names) {\n",
    "        memberList.add(new MemberInfo(name, gradYear, true));\n",
    "    }\n",
    "}"
   ]
  }
 ],
 "metadata": {
  "kernelspec": {
   "display_name": "Java",
   "language": "java",
   "name": "java"
  },
  "language_info": {
   "name": "java"
  },
  "orig_nbformat": 4
 },
 "nbformat": 4,
 "nbformat_minor": 2
}
