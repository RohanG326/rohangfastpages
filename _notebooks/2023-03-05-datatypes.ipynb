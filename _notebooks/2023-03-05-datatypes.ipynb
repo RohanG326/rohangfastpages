{
 "cells": [
  {
   "attachments": {},
   "cell_type": "markdown",
   "metadata": {},
   "source": [
    "# Data Types Lecture\n",
    "> Week 25 Data Types AP Test Prep\n",
    "\n",
    "- toc: true \n",
    "- badges: true\n",
    "- comments: true\n",
    "- categories: [jupyter]\n",
    "- image: images/chart-preview.png"
   ]
  },
  {
   "cell_type": "code",
   "execution_count": 27,
   "metadata": {
    "vscode": {
     "languageId": "java"
    }
   },
   "outputs": [
    {
     "name": "stdout",
     "output_type": "stream",
     "text": [
      "11010011\n"
     ]
    }
   ],
   "source": [
    "public class SampleAddition {\n",
    "    public static String BinaryAddition(String a, String b) {\n",
    "        return Integer.toBinaryString((Integer.parseInt(a, 2) + Integer.parseInt(b, 2)));\n",
    "    }\n",
    "    public static void main(String[] args) {\n",
    "        System.out.println(BinaryAddition(\"101100\", \"10100111\"));\n",
    "    }\n",
    "}\n",
    "SampleAddition.main(null);"
   ]
  }
 ],
 "metadata": {
  "kernelspec": {
   "display_name": "Java",
   "language": "java",
   "name": "java"
  },
  "language_info": {
   "codemirror_mode": "java",
   "file_extension": ".jshell",
   "mimetype": "text/x-java-source",
   "name": "Java",
   "pygments_lexer": "java",
   "version": "17.0.5+8-Ubuntu-2ubuntu120.04"
  },
  "orig_nbformat": 4,
  "vscode": {
   "interpreter": {
    "hash": "916dbcbb3f70747c44a77c7bcd40155683ae19c65e1c03b4aa3499c5328201f1"
   }
  }
 },
 "nbformat": 4,
 "nbformat_minor": 2
}
