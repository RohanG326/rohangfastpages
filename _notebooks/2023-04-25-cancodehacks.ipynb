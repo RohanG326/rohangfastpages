{
 "cells": [
  {
   "attachments": {},
   "cell_type": "markdown",
   "metadata": {},
   "source": [
    "# Cancode Hacks\n",
    "> Cancode Hacks \n",
    "\n",
    "- title: Cancode Hacks\n",
    "- toc: true\n",
    "- categories: []\n",
    "- image: /images/collection.jpg"
   ]
  },
  {
   "attachments": {},
   "cell_type": "markdown",
   "metadata": {},
   "source": [
    "// Unit 5 Hacks\n",
    "public class Main {\n",
    "    public int count;\n",
    "    static int babieskilled = 0;\n",
    "    public String title;\n",
    "    private String monkey;\n",
    "    \n",
    "    public Main(int count, String title) {\n",
    "        this.count = count;\n",
    "        this.title = title;\n",
    "        babieskilled++;\n",
    "        }\n",
    "        \n",
    "        public void setMonkey(String newMonkey) {\n",
    "        this.monkey = newMonkey;\n",
    "        }\n",
    "        public String getMonkey() {\n",
    "        return monkey;\n",
    "        }\n",
    "        \n",
    "        public String toString1() {\n",
    "        return(\"title = \" + this.title + \" count = \" + this.count + \" monkey = \" + this.monkey);\n",
    "        }\n",
    "        public static void main(String[] args) {\n",
    "        Main idk = new Main(5, \"idk\");\n",
    "        Main idk2 = new Main(2, \"hii\");\n",
    "        idk2.setMonkey(\"germaine\");\n",
    "        System.out.println(babieskilled);\n",
    "        System.out.println(idk.toString1());\n",
    "        System.out.println(idk2.toString1());\n",
    "        }\n",
    "        }\n",
    "        Main.main(null);"
   ]
  },
  {
   "cell_type": "code",
   "execution_count": null,
   "metadata": {
    "vscode": {
     "languageId": "java"
    }
   },
   "outputs": [],
   "source": [
    "// Unit 9\n",
    "public class Monkey extends Main {\n",
    "    private String food;\n",
    "    public Monkey(int count, String title, String food) {\n",
    "    super(count, title);\n",
    "    this.food = food;\n",
    "    }\n",
    "    public String toString1() {\n",
    "        return(\"mwahhahahaha monkey \" + this.title + this.count + this.food);\n",
    "    }\n",
    "    public static void main(String[] args) {\n",
    "    Main hahamonkey = new Monkey(8, \"blah\", \"bananannana\");\n",
    "    System.out.println(hahamonkey.toString1());\n",
    "    }\n",
    "    }\n",
    "Monkey.main(null);"
   ]
  },
  {
   "cell_type": "code",
   "execution_count": 1,
   "metadata": {
    "vscode": {
     "languageId": "java"
    }
   },
   "outputs": [
    {
     "data": {
      "text/plain": [
       "34"
      ]
     },
     "execution_count": 1,
     "metadata": {},
     "output_type": "execute_result"
    }
   ],
   "source": [
    "// Unit 10\n",
    "public long fibonacci(long monkey) {\n",
    "    if (monkey<= 1) {\n",
    "        return monkey;\n",
    "    } else {\n",
    "        return fibonacci(monkey-1) + fibonacci(monkey -2);\n",
    "    }\n",
    "    }\n",
    "    fibonacci((long)(9));"
   ]
  }
 ],
 "metadata": {
  "kernelspec": {
   "display_name": "Java",
   "language": "java",
   "name": "java"
  },
  "language_info": {
   "codemirror_mode": "java",
   "file_extension": ".jshell",
   "mimetype": "text/x-java-source",
   "name": "Java",
   "pygments_lexer": "java",
   "version": "17.0.6+10-Ubuntu-0ubuntu120.04.1"
  },
  "orig_nbformat": 4
 },
 "nbformat": 4,
 "nbformat_minor": 2
}
