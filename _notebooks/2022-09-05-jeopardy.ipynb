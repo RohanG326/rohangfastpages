{
 "cells": [
  {
   "cell_type": "markdown",
   "metadata": {},
   "source": [
    "# Rohan G Jeopardy Trivia Class\n",
    "> Start of N@TM Final Jeopardy Class\n",
    "\n",
    "- toc: true \n",
    "- badges: true\n",
    "- comments: true\n",
    "- categories: [jupyter]\n",
    "- image: images/chart-preview.png"
   ]
  },
  {
   "cell_type": "code",
   "execution_count": 12,
   "metadata": {
    "vscode": {
     "languageId": "java"
    }
   },
   "outputs": [
    {
     "name": "stdout",
     "output_type": "stream",
     "text": [
      "{Who is Rohan Gaikwad's Favorite Artist=Taylor Swift, What is the capital of Chile?=Santiago}\n",
      "true\n",
      "[Who is Rohan Gaikwad's Favorite Artist, What is the capital of Chile?]\n",
      "[Taylor Swift, Santiago]\n",
      "2\n",
      "{Who is Rohan Gaikwad's Favorite Artist=Taylor Swift, What is the capital of Chile?=Santiago}\n",
      "0\n",
      "0\n",
      "0\n",
      "0\n",
      "10\n"
     ]
    }
   ],
   "source": [
    "import java.util.Dictionary;\n",
    "import java.util.Hashtable;\n",
    "\n",
    "public class Jeopardy {\n",
    "\n",
    "\n",
    "       public static void main(String[] args) {\n",
    "        int score = 0;\n",
    "        int total = 0;\n",
    "        int count = 0;\n",
    "        int correct = 0;\n",
    "           Dictionary Jeopardy = new Hashtable();\n",
    "\n",
    "           // put() method\n",
    "           Jeopardy.put(\"What is the capital of Chile?\", \"Santiago\");\n",
    "           Jeopardy.put(\"Who is Rohan Gaikwad's Favorite Artist\", \"Taylor Swift\");\n",
    "\n",
    "           //print out Hashtable out\n",
    "           System.out.println(Jeopardy);\n",
    "\n",
    "           //Is there a record with the \"Johnny Walker\" key?\n",
    "           System.out.println(((Hashtable) Jeopardy).containsKey(\"Who is Rohan Gaikwad's Favorite Artist\"));\n",
    "           //all keys of the Hashtable\n",
    "           System.out.println(((Hashtable) Jeopardy).keySet());\n",
    "           //values from Hashtable\n",
    "           System.out.println(((Hashtable) Jeopardy).values());\n",
    "\n",
    "           //the quantity of records\n",
    "           System.out.println(Jeopardy.size());\n",
    "           //removing one record\n",
    "           System.out.println(Jeopardy);\n",
    "           System.out.println(score);\n",
    "           System.out.println(total);\n",
    "           System.out.println(count);\n",
    "           System.out.println(correct);\n",
    "           System.out.println(score + 10);\n",
    "\n",
    "        //    private void CheckAnswer() {\n",
    "        //     if this.value() = this.guess() {\n",
    "        //         int score = score + 1;\n",
    "        //     }\n",
    "        //    }\n",
    "       }\n",
    "   }\n",
    "   Jeopardy.main(null)"
   ]
  }
 ],
 "metadata": {
  "kernelspec": {
   "display_name": "Java",
   "language": "java",
   "name": "java"
  },
  "language_info": {
   "codemirror_mode": "java",
   "file_extension": ".jshell",
   "mimetype": "text/x-java-source",
   "name": "Java",
   "pygments_lexer": "java",
   "version": "11.0.16+8-post-Ubuntu-0ubuntu120.04"
  },
  "orig_nbformat": 4,
  "vscode": {
   "interpreter": {
    "hash": "916dbcbb3f70747c44a77c7bcd40155683ae19c65e1c03b4aa3499c5328201f1"
   }
  }
 },
 "nbformat": 4,
 "nbformat_minor": 2
}
