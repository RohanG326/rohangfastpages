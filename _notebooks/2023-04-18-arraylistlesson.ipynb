{
 "cells": [
  {
   "attachments": {},
   "cell_type": "markdown",
   "metadata": {},
   "source": [
    "# Arrays, 2D Arrays, and ArrayLists\n",
    "> CB Units 6, 7, 8\n",
    "\n",
    "- toc: true \n",
    "- badges: true\n",
    "- comments: true\n",
    "- categories: [jupyter]"
   ]
  },
  {
   "attachments": {},
   "cell_type": "markdown",
   "metadata": {},
   "source": [
    "If you'd like, you can follow along with the lessons at this link. \n",
    "- [2D arrays and Arrays](https://github.com/CalrethonOfMirkwood/tri3_arraygrouplesson/blob/master/arrayslesson.ipynb)\n",
    "- [ArrayLists](https://saathvika-ajith.github.io/APCSA-Fastpages/fastpages/jupyter/2023/03/14/arraylistlesson.html)\n",
    "\n",
    "Clone this repo (``git clone https://github.com/Rebecca-123/rmr-tri3``) and work on the hacks below. You can transfer these hacks to your personal fastpages once you're finished. "
   ]
  },
  {
   "attachments": {},
   "cell_type": "markdown",
   "metadata": {},
   "source": [
    "# ArrayList Hacks"
   ]
  },
  {
   "attachments": {},
   "cell_type": "markdown",
   "metadata": {},
   "source": [
    "## Hack 1"
   ]
  },
  {
   "cell_type": "code",
   "execution_count": 23,
   "metadata": {
    "vscode": {
     "languageId": "java"
    }
   },
   "outputs": [
    {
     "name": "stdout",
     "output_type": "stream",
     "text": [
      "[true, false, true]\n",
      "[string 0, string 1, string 2, string 3, string 4, string 5, string 6, string 7, string 8, string 9]\n"
     ]
    }
   ],
   "source": [
    "import java.util.ArrayList;\n",
    "// create ArrayLists that satisfy the following\n",
    "// a) that stores Boolean values\n",
    "ArrayList<Boolean> boolarray = new ArrayList<Boolean>(3);\n",
    "boolarray.add(true);\n",
    "boolarray.add(false);\n",
    "boolarray.add(true);\n",
    "System.out.println(boolarray);\n",
    "\n",
    "// b) that stores Turtle Objects\n",
    "ArrayList<String> turtlearray = new ArrayList<String>(2);\n",
    "\n",
    "// c) that initializes with 10 Strings\n",
    "ArrayList<String> stringarray = new ArrayList<String>(10);\n",
    "for (int i = 0; i<10; i++) {\n",
    "    stringarray.add(\"string \" + i);\n",
    "}\n",
    "System.out.println(stringarray);"
   ]
  },
  {
   "attachments": {},
   "cell_type": "markdown",
   "metadata": {},
   "source": [
    "## Hack 2\n",
    "Choose 3 different methods from above to change around this sample ArrayList:"
   ]
  },
  {
   "cell_type": "code",
   "execution_count": 5,
   "metadata": {
    "vscode": {
     "languageId": "java"
    }
   },
   "outputs": [
    {
     "name": "stdout",
     "output_type": "stream",
     "text": [
      "ArrayList: [1, 4, 7, 12, 23]\n",
      "[4, 4, 7, 12, 3]\n"
     ]
    }
   ],
   "source": [
    "import java.util.ArrayList;\n",
    "import java.lang.Math;\n",
    "\n",
    "public class Hack2 {\n",
    "    public static void main(Integer[] args) {\n",
    "        ArrayList<Integer> randomNumbers = new ArrayList<Integer>();\n",
    "        randomNumbers.add(1);\n",
    "        randomNumbers.add(4);\n",
    "        randomNumbers.add(7);\n",
    "        randomNumbers.add(12);\n",
    "        randomNumbers.add(23);\n",
    "        System.out.println(\"ArrayList: \" + randomNumbers);\n",
    "        ArrayList<Integer> a = randomNumbers;\n",
    "        int c = (int)(Math.random()*10);\n",
    "        a.set(0, c);\n",
    "        int d = (int)(Math.random()*10);\n",
    "        a.set(4, d);\n",
    "        System.out.println(randomNumbers);\n",
    "        ;\n",
    "        ;\n",
    "    }\n",
    "}\n",
    "Hack2.main(null);"
   ]
  },
  {
   "attachments": {},
   "cell_type": "markdown",
   "metadata": {},
   "source": [
    "## Hack 3\n",
    "Here is some sample code for the total sum of integers. Finish the loop!"
   ]
  },
  {
   "cell_type": "code",
   "execution_count": null,
   "metadata": {
    "vscode": {
     "languageId": "java"
    }
   },
   "outputs": [],
   "source": [
    "public class Hack3 {\n",
    "    public static void main(ArrayList<Integer> values) {\n",
    "        ArrayList<Integer> values = new ArrayList<Integer>();\n",
    "        values.add(1);\n",
    "        values.add(4);\n",
    "        values.add(7);\n",
    "        values.add(12);\n",
    "        values.add(23);\n",
    "        System.out.println(\"ArrayList: \" + values);\n",
    "        \n",
    "        int total = 0;\n",
    "\n",
    "            for (int i=0; i < values.size(); i++) {\n",
    "                ;\n",
    "            }\n",
    "    }\n",
    "}\n",
    "Hack3.main(null);"
   ]
  },
  {
   "attachments": {},
   "cell_type": "markdown",
   "metadata": {},
   "source": [
    "## Hack 4\n",
    "Complete the Selection sort sample code by writing code for a swap of elements."
   ]
  },
  {
   "cell_type": "code",
   "execution_count": null,
   "metadata": {
    "vscode": {
     "languageId": "java"
    }
   },
   "outputs": [],
   "source": [
    "for (int i = 0; i < arr.length; i++) {\n",
    " \n",
    "    // nested loop 1 index ahead\n",
    "    for (int j = i + 1; j < arr.length; j++) {\n",
    "\n",
    "        // comparing elements\n",
    "        int temp = 0;\n",
    "        if (arr[j] < arr[i]) {\n",
    "\n",
    "            // write the swap code!\n",
    "            ;\n",
    "        }\n",
    "    }\n",
    "\n",
    "    // Printing sorted array \n",
    "    System.out.print(arr[i] + \" \");\n",
    "}"
   ]
  },
  {
   "attachments": {},
   "cell_type": "markdown",
   "metadata": {},
   "source": [
    "# Array and 2D Array Hacks"
   ]
  },
  {
   "attachments": {},
   "cell_type": "markdown",
   "metadata": {},
   "source": [
    "## Hack 5\n",
    "Make an array and iterate through it to only print the elements with even indexes (this includes 0). Then iterate through it again to only print the odd indexes."
   ]
  },
  {
   "cell_type": "code",
   "execution_count": null,
   "metadata": {
    "vscode": {
     "languageId": "java"
    }
   },
   "outputs": [],
   "source": [
    "// code here"
   ]
  },
  {
   "attachments": {},
   "cell_type": "markdown",
   "metadata": {},
   "source": [
    "## Hack 6\n",
    "Create a 2D array and iterate through it to print all of its elements."
   ]
  },
  {
   "cell_type": "code",
   "execution_count": null,
   "metadata": {
    "vscode": {
     "languageId": "java"
    }
   },
   "outputs": [],
   "source": [
    "// code here"
   ]
  },
  {
   "attachments": {},
   "cell_type": "markdown",
   "metadata": {},
   "source": [
    "## Hack 7\n",
    "Find the sum of the values on the diagonal of the 2D array. Print the sum."
   ]
  },
  {
   "cell_type": "code",
   "execution_count": null,
   "metadata": {
    "vscode": {
     "languageId": "java"
    }
   },
   "outputs": [],
   "source": [
    "public class Test1\n",
    "{\n",
    "\n",
    "    public static void main(String[] args)\n",
    "    {\n",
    "        int[][] array = { {1,2,3},{-1,-2,-3},{4,5,6} };\n",
    "\n",
    "        //ADD CODE HERE\n",
    "\n",
    "    }\n",
    "}"
   ]
  },
  {
   "attachments": {},
   "cell_type": "markdown",
   "metadata": {},
   "source": [
    "## Hack 8\n",
    "Given an int array, return true if the array contains 2 twice, or 3 twice. The array will be length 0, 1, or 2.\n",
    "\n",
    "\n",
    "double23([2, 2]) → true\n",
    "double23([3, 3]) → true\n",
    "double23([2, 3]) → false"
   ]
  },
  {
   "cell_type": "code",
   "execution_count": null,
   "metadata": {
    "vscode": {
     "languageId": "java"
    }
   },
   "outputs": [],
   "source": [
    "// code here\n",
    "public boolean double23(int[] nums) {\n",
    "  \n",
    "}"
   ]
  },
  {
   "attachments": {},
   "cell_type": "markdown",
   "metadata": {},
   "source": [
    "## Hack 9\n",
    "Write a class to count how many of a number ``n`` is in a 2d array ``int[][] x``"
   ]
  },
  {
   "cell_type": "code",
   "execution_count": null,
   "metadata": {
    "vscode": {
     "languageId": "java"
    }
   },
   "outputs": [],
   "source": [
    "// code here"
   ]
  },
  {
   "attachments": {},
   "cell_type": "markdown",
   "metadata": {},
   "source": [
    "# Homework!\n",
    "\n",
    "Write a seating chart program for your group. Meet the following requirements:\n",
    "- A 2D array, array, or ArrayList\n",
    "- A minimum of 3 methods to manipulate the seating chart (ex. alphabetize, shuffle seats, add/replace/delete people)\n",
    "- Print results\n",
    "\n",
    "\n",
    "You will be graded on:\n",
    "- Completion of at least 5 of the above hacks (you can complete these during the in-class activity)\n",
    "- Completion of the homework\n",
    "- Extra credit if you complete a College Board FRQ involving arrays/ArrayLists\n",
    "\n",
    "Complete the hacks/homework on your personal fastpages. "
   ]
  }
 ],
 "metadata": {
  "kernelspec": {
   "display_name": "Java",
   "language": "java",
   "name": "java"
  },
  "language_info": {
   "codemirror_mode": "java",
   "file_extension": ".jshell",
   "mimetype": "text/x-java-source",
   "name": "Java",
   "pygments_lexer": "java",
   "version": "17.0.6+10-Ubuntu-0ubuntu120.04.1"
  },
  "orig_nbformat": 4
 },
 "nbformat": 4,
 "nbformat_minor": 2
}
