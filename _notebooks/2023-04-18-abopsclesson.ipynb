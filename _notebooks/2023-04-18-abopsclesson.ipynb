{
 "cells": [
  {
   "attachments": {},
   "cell_type": "markdown",
   "metadata": {},
   "source": [
    "# ABopsC Lessons Hacks\n",
    "> Rohan Gaikwad and Shreya Ahuja ABopsC Lessons Hacks\n",
    "\n",
    "- title: Generics Types and Collections\n",
    "- toc: true\n",
    "- categories: []\n",
    "- image: /images/collection.jpg"
   ]
  },
  {
   "attachments": {},
   "cell_type": "markdown",
   "metadata": {},
   "source": [
    "# Lesson\n",
    "\n",
    "## Unit 1\n",
    "\n",
    "\n",
    "You are a teenager who has their license and wants to find a car to buy. When you go to the car dealership, you realize that there are many different things you have to keep track of. You have to keep track of the car brands you look at, the prices of the cars, phone numbers of different sales representatives, etc. \n",
    "\n",
    "To make it easy on yourself, you want to develop a computerized code that is able to sort through different prices, car brands, etc. \n",
    "\n",
    "The first step to doing this is through storing these different variables just mentioned as data types - primitive data types. You use variables to store data in Java. Types of primitive data include integers, doubles, booleans, etc.\n",
    "\n",
    "Now, there are so many things you need to make when buying a car: price, brand, milage, color, etc. We can set the price of a car can be stored as a double, the car brand as a strings. If you want to store whether you like a car or not, you can store that information as a boolean data type. "
   ]
  },
  {
   "cell_type": "code",
   "execution_count": 1,
   "metadata": {
    "vscode": {
     "languageId": "java"
    }
   },
   "outputs": [],
   "source": [
    "public class Car {\n",
    "    public static void main(String[] args) {\n",
    "        int year = 2023;\n",
    "        double price = 30000.00;\n",
    "        boolean isElectric = true;\n",
    "        \n",
    "        System.out.println(\"Year: \" + year);\n",
    "        System.out.println(\"Price: $\" + price);\n",
    "        System.out.println(\"Is Electric: \" + isElectric);\n",
    "    }\n",
    "}"
   ]
  },
  {
   "attachments": {},
   "cell_type": "markdown",
   "metadata": {},
   "source": [
    "There are operators like the modulo operator where the remainder is computed or there's division and multiplication. If you ever want to compare car prices, you can set up a code with scanner input which is also a very common with consoles.\n",
    "\n",
    "![Arthimetic Operators](https://github.com/iriisyang/Iris-Yang/blob/master/images/arithmeticoperators.png?raw=true)"
   ]
  },
  {
   "cell_type": "code",
   "execution_count": 2,
   "metadata": {
    "vscode": {
     "languageId": "java"
    }
   },
   "outputs": [],
   "source": [
    "import java.util.Scanner;\n",
    "\n",
    "public class CarPrice {\n",
    "    public static void main(String[] args) {\n",
    "        Scanner scanner = new Scanner(System.in);\n",
    "\n",
    "        System.out.print(\"Enter the price of the car: \");\n",
    "        double price = scanner.nextDouble();\n",
    "\n",
    "        System.out.println(\"The price of the car is $\" + price);\n",
    "\n",
    "        scanner.close();\n",
    "    }\n",
    "}\n"
   ]
  },
  {
   "cell_type": "markdown",
   "metadata": {},
   "source": [
    "We can also use compound operators which follows the form a += 1 or age ++ in order to indicate a = a + 1. For example, if you want to model the amount of cars that have entered the highway. Each time the light turns green the number of cars is car += 2."
   ]
  },
  {
   "cell_type": "code",
   "execution_count": 3,
   "metadata": {
    "vscode": {
     "languageId": "java"
    }
   },
   "outputs": [
    {
     "name": "stdout",
     "output_type": "stream",
     "text": [
      "Number of cars on highway: 2\n",
      "Number of cars on highway: 4\n",
      "Number of cars on highway: 6\n",
      "Number of cars on highway: 8\n",
      "Number of cars on highway: 10\n"
     ]
    }
   ],
   "source": [
    "int cars = 0; // starting number of cars\n",
    "int numCarsEntering = 2; // number of cars entering at a time\n",
    "int numIterations = 5; // number of times to loop\n",
    "\n",
    "for (int i = 0; i < numIterations; i++) {\n",
    "    cars += numCarsEntering; // use compound operator to add cars\n",
    "    System.out.println(\"Number of cars on highway: \" + cars);\n",
    "}\n"
   ]
  },
  {
   "cell_type": "markdown",
   "metadata": {},
   "source": [
    "### Hack 1\n",
    "\n",
    "Make a code segment that calculates the number of wheels of x number of cars"
   ]
  },
  {
   "cell_type": "code",
   "execution_count": 4,
   "metadata": {
    "vscode": {
     "languageId": "java"
    }
   },
   "outputs": [
    {
     "name": "stdout",
     "output_type": "stream",
     "text": [
      "Number of cars on highway: 2\n",
      "total number of wheels = 8\n",
      "Number of cars on highway: 4\n",
      "total number of wheels = 16\n",
      "Number of cars on highway: 6\n",
      "total number of wheels = 24\n",
      "Number of cars on highway: 8\n",
      "total number of wheels = 32\n",
      "Number of cars on highway: 10\n",
      "total number of wheels = 40\n"
     ]
    }
   ],
   "source": [
    "public class Hack1 {\n",
    "    public static void main(String[] args) {\n",
    "        int cars = 0; // starting number of cars\n",
    "        int numCarsEntering = 2; // number of cars entering at a time\n",
    "        int numIterations = 5; // number of times to loop\n",
    "\n",
    "    for (int i = 0; i < numIterations; i++) {\n",
    "        cars += numCarsEntering; // use compound operator to add cars\n",
    "        System.out.println(\"Number of cars on highway: \" + cars);\n",
    "        int wheels = cars * 4;\n",
    "        System.out.println(\"total number of wheels = \" + wheels);\n",
    "    }\n",
    "    }\n",
    "}\n",
    "Hack1.main(null);"
   ]
  },
  {
   "attachments": {},
   "cell_type": "markdown",
   "metadata": {},
   "source": [
    "\n",
    "\n",
    "## Unit 2\n",
    "\n",
    "Unit 2 mostly focuses on objects, classes, methods, and constructors.\n",
    "\n",
    "In order to use the data you need to first create a class. In this class, you can then create objects and methods to access the data.\n",
    "\n",
    "An object is a reference type and can be used to access data. A constructor makes data that is stored in an object. For example, I can make a car object and create a constructor that includes different characteristics of the car such as its brand, color, price, and milage. \n"
   ]
  },
  {
   "cell_type": "code",
   "execution_count": 5,
   "metadata": {
    "vscode": {
     "languageId": "java"
    }
   },
   "outputs": [],
   "source": [
    "public class Car {\n",
    "    private String brand;\n",
    "    private String color;\n",
    "    private double price;\n",
    "    private double mileage;\n",
    "    \n",
    "    public Car(String brand, String color, double price, double mileage) {\n",
    "        this.brand = brand;\n",
    "        this.color = color;\n",
    "        this.price = price;\n",
    "        this.mileage = mileage;\n",
    "    }\n",
    "    \n",
    "    // Getters and setters\n",
    "    public String getBrand() {\n",
    "        return brand;\n",
    "    }\n",
    "    \n",
    "    public void setBrand(String brand) {\n",
    "        this.brand = brand;\n",
    "    }\n",
    "    \n",
    "    public String getColor() {\n",
    "        return color;\n",
    "    }\n",
    "    \n",
    "    public void setColor(String color) {\n",
    "        this.color = color;\n",
    "    }\n",
    "    \n",
    "    public double getPrice() {\n",
    "        return price;\n",
    "    }\n",
    "    \n",
    "    public void setPrice(double price) {\n",
    "        this.price = price;\n",
    "    }\n",
    "    \n",
    "    public double getMileage() {\n",
    "        return mileage;\n",
    "    }\n",
    "    \n",
    "    public void setMileage(double mileage) {\n",
    "        this.mileage = mileage;\n",
    "    }\n",
    "}\n"
   ]
  },
  {
   "cell_type": "markdown",
   "metadata": {},
   "source": [
    "Getters and setters use to manipulate the variables. Getters retrieve the variables and setters set the variable. \n",
    "\n",
    "You can also use methods to make the object perform certain actions. The method includes the scope which indicates if it is public or private allowing other classes/objects to access it or not. There is also the return type. Void does not return any data. Next is the name of the method which usually describes its action. The parameters include what variables are included in the method. Finally, the body actually performs the action. \n",
    "\n",
    "![This is an image](https://github.com/iriisyang/Iris-Yang/blob/master/images/methods-in-java.png?raw=true)\n",
    "\n",
    "The method can compare the price of two cars for example. You can create code that outputs the cheaper car when entering the name of the two cars."
   ]
  },
  {
   "cell_type": "code",
   "execution_count": 6,
   "metadata": {
    "vscode": {
     "languageId": "java"
    }
   },
   "outputs": [],
   "source": [
    "public class Car {\n",
    "    private String name;\n",
    "    private double price;\n",
    "\n",
    "    public Car(String name, double price) {\n",
    "        this.name = name;\n",
    "        this.price = price;\n",
    "    }\n",
    "\n",
    "    public String getName() {\n",
    "        return name;\n",
    "    }\n",
    "\n",
    "    public double getPrice() {\n",
    "        return price;\n",
    "    }\n",
    "\n",
    "    public static String cheaperCar(String car1Name, double car1Price, String car2Name, double car2Price) {\n",
    "        Car car1 = new Car(car1Name, car1Price);\n",
    "        Car car2 = new Car(car2Name, car2Price);\n",
    "\n",
    "        if (car1.getPrice() < car2.getPrice()) {\n",
    "            return car1.getName();\n",
    "        } else {\n",
    "            return car2.getName();\n",
    "        }\n",
    "    }\n",
    "\n",
    "    public static void main(String[] args) {\n",
    "        String cheaperCarName = cheaperCar(\"Toyota\", 20000.0, \"Honda\", 25000.0);\n",
    "        System.out.println(\"The cheaper car is: \" + cheaperCarName);\n",
    "    }\n",
    "}\n"
   ]
  },
  {
   "cell_type": "markdown",
   "metadata": {},
   "source": [
    "It is also important to learn about the math classes. They perform common mathematical functions such as absolute value, exponent power, square root, random number generation, etc. \n",
    "\n",
    "If acceleration is an important factor in deciding which car you want, absolute value may be important. The car can constantly display your acceleration speed no mater if you are going forward or backward."
   ]
  },
  {
   "cell_type": "code",
   "execution_count": 7,
   "metadata": {
    "vscode": {
     "languageId": "java"
    }
   },
   "outputs": [],
   "source": [
    "public class Acceleration {\n",
    "    public static void main(String[] args) {\n",
    "        double velocity1 = 10.0;\n",
    "        double velocity2 = 5.0;\n",
    "        double time = 2.0;\n",
    "        \n",
    "        // Calculate acceleration using absolute value\n",
    "        double acceleration = Math.abs((velocity2 - velocity1) / time);\n",
    "        \n",
    "        System.out.println(\"The acceleration is \" + acceleration);\n",
    "    }\n",
    "}\n"
   ]
  },
  {
   "cell_type": "markdown",
   "metadata": {},
   "source": [
    "Maybe there is a whole registry of cars and you do not want to search though each one. Use the random function to randomly display a car and its characteristics to see if it is the right fit."
   ]
  },
  {
   "cell_type": "code",
   "execution_count": 8,
   "metadata": {
    "vscode": {
     "languageId": "java"
    }
   },
   "outputs": [],
   "source": [
    "import java.util.Random;\n",
    "\n",
    "public class CarRegistry {\n",
    "    public static void main(String[] args) {\n",
    "        // Define car registry\n",
    "        String[] make = {\"Honda\", \"Toyota\", \"Ford\", \"Chevrolet\", \"BMW\"};\n",
    "        String[] model = {\"Civic\", \"Camry\", \"F-150\", \"Silverado\", \"X5\"};\n",
    "        int[] year = {2015, 2016, 2017, 2018, 2019, 2020};\n",
    "        double[] price = {15000.0, 20000.0, 25000.0, 30000.0, 35000.0, 40000.0};\n",
    "        \n",
    "        // Select a random car from the registry\n",
    "        Random rand = new Random();\n",
    "        int index = rand.nextInt(make.length);\n",
    "        String selectedMake = make[index];\n",
    "        String selectedModel = model[index];\n",
    "        int selectedYear = year[rand.nextInt(year.length)];\n",
    "        double selectedPrice = price[rand.nextInt(price.length)];\n",
    "        \n",
    "        // Display the selected car and its characteristics\n",
    "        System.out.println(\"Selected Car: \" + selectedMake + \" \" + selectedModel);\n",
    "        System.out.println(\"Year: \" + selectedYear);\n",
    "        System.out.println(\"Price: $\" + selectedPrice);\n",
    "    }\n",
    "}\n"
   ]
  },
  {
   "attachments": {},
   "cell_type": "markdown",
   "metadata": {},
   "source": [
    "### Hack 2\n",
    "\n",
    "Create a class named \"Car\" with the following attributes:\n",
    "\n",
    "make (String)\n",
    "model (String)\n",
    "year (int)\n",
    "price (double)\n",
    "isUsed (boolean)\n",
    "Create a constructor that initializes all of these attributes.\n",
    "\n",
    "Create a method named \"printCarDetails()\" that prints out all of the attributes of the car.\n",
    "\n",
    "In the main method, create an array of three cars with the following details:\n",
    "\n",
    "Car 1: Make = \"Toyota\", Model = \"Corolla\", Year = 2022, Price = 24999.99, isUsed = false\n",
    "Car 2: Make = \"Honda\", Model = \"Accord\", Year = 2018, Price = 18999.99, isUsed = true\n",
    "Car 3: Make = \"Ford\", Model = \"Mustang\", Year = 2020, Price = 34999.99, isUsed = true\n",
    "Loop through the array and print out the details of each car using the \"printCarDetails()\" method."
   ]
  },
  {
   "cell_type": "code",
   "execution_count": 9,
   "metadata": {
    "vscode": {
     "languageId": "java"
    }
   },
   "outputs": [
    {
     "name": "stdout",
     "output_type": "stream",
     "text": [
      "New 2022 Toyota Corolla at a price of $24999.99\n",
      "Used 2018 Honda Accord at a price of $18999.99\n",
      "Used 2020 Ford Mustang at a price of $34999.99\n"
     ]
    }
   ],
   "source": [
    "public class CarHack2 {\n",
    "    private String make;\n",
    "    private String model;\n",
    "    private int year;\n",
    "    private double price;\n",
    "    private boolean isUsed;\n",
    "\n",
    "    public CarHack2(String make, String model, int year, double price, boolean isUsed) {\n",
    "        this.make = make;\n",
    "        this.model = model;\n",
    "        this.year = year;\n",
    "        this.price = price;\n",
    "        this.isUsed = isUsed;\n",
    "    }\n",
    "    public void printCarDetails() {\n",
    "        if (isUsed == true) {\n",
    "            System.out.println(\"Used \" + year + \" \" + make + \" \" + model + \" at a price of $\" + price);\n",
    "        }\n",
    "        else {\n",
    "            System.out.println(\"New \" + year + \" \" + make + \" \" + model + \" at a price of $\" + price);\n",
    "        }\n",
    "    }\n",
    "    public static void main(String[] args) {\n",
    "        CarHack2 hack2accord = new CarHack2(\"Honda\", \"Accord\", 2018, 18999.99, true);\n",
    "        CarHack2 hack2corolla = new CarHack2(\"Toyota\", \"Corolla\", 2022, 24999.99, false);\n",
    "        CarHack2 hack2mustang = new CarHack2(\"Ford\", \"Mustang\", 2020, 34999.99, true);\n",
    "        CarHack2[] woocars = new CarHack2[3];\n",
    "        woocars[0] = hack2corolla;\n",
    "        woocars[1] = hack2accord;\n",
    "        woocars[2] = hack2mustang;\n",
    "\n",
    "        for (CarHack2 car : woocars) {\n",
    "            car.printCarDetails();\n",
    "        }\n",
    "    }\n",
    "}\n",
    "CarHack2.main(null);"
   ]
  },
  {
   "attachments": {},
   "cell_type": "markdown",
   "metadata": {},
   "source": [
    "\n",
    "\n",
    "\n",
    "## Unit 3\n",
    "\n",
    "We are going to explore Unit 3 which includes topics like boolean expressions, if statements, control flow, if-else statements, else-if statements, compound boolean expressions, equivalent boolean expressions, and comparing objects. This is roughly 15%-17.5% of the AP Exam. \n",
    "\n",
    "Just like how cars have different conditions or states, we can use boolean expressions in Java to represent conditions that evaluate to either true or false. For example, we can have a boolean expression that checks if a car's engine is running or if its speed is greater than a certain threshold."
   ]
  },
  {
   "cell_type": "code",
   "execution_count": 10,
   "metadata": {
    "vscode": {
     "languageId": "java"
    }
   },
   "outputs": [
    {
     "name": "stdout",
     "output_type": "stream",
     "text": [
      "The car is moving fast!\n"
     ]
    }
   ],
   "source": [
    "boolean isEngineRunning = true;\n",
    "int speed = 60;\n",
    "boolean isSpeedAboveThreshold = speed > 50;\n",
    "\n",
    "if (isEngineRunning && isSpeedAboveThreshold) {\n",
    "    System.out.println(\"The car is moving fast!\");\n",
    "} else {\n",
    "    System.out.println(\"The car is not moving fast.\");\n",
    "}"
   ]
  },
  {
   "attachments": {},
   "cell_type": "markdown",
   "metadata": {},
   "source": [
    "In Java, we can use boolean operators like && (and), || (or), and ! (not) to create compound boolean expressions that combine multiple conditions. Key to note is the use of truth tables. Oftentimes, if you want to visualize the possible outcomes of different combinations of boolean values and logical operators, and use them to evaluate the overall result of a boolean expression."
   ]
  },
  {
   "attachments": {},
   "cell_type": "markdown",
   "metadata": {},
   "source": [
    "One common use of boolean expressions is in if statements, which allow us to execute different blocks of code depending on whether a condition is true or false. This allows us to handle both cases in our code. For example, we can use an if-else statement to check if a car's speed is above a certain limit, and if it is, we can display a warning message. "
   ]
  },
  {
   "cell_type": "code",
   "execution_count": 11,
   "metadata": {
    "vscode": {
     "languageId": "java"
    }
   },
   "outputs": [
    {
     "name": "stdout",
     "output_type": "stream",
     "text": [
      "Warning: you are above the speed limit!\n"
     ]
    }
   ],
   "source": [
    "int speed = 80;\n",
    "int speedLimit = 60;\n",
    "\n",
    "if (speed > speedLimit) {\n",
    "    System.out.println(\"Warning: you are above the speed limit!\");\n",
    "} else {\n",
    "    System.out.println(\"You are below the speed limit\");\n",
    "\n",
    "}"
   ]
  },
  {
   "attachments": {},
   "cell_type": "markdown",
   "metadata": {},
   "source": [
    "You can also use else-if statements to check multiple conditions sequentially until one of them is true. This allows you to handle different cases within one code. For example, we can use else-if statements to check the weather condition and adjust the car's driving mode accordingly."
   ]
  },
  {
   "cell_type": "code",
   "execution_count": 12,
   "metadata": {
    "vscode": {
     "languageId": "java"
    }
   },
   "outputs": [
    {
     "name": "stdout",
     "output_type": "stream",
     "text": [
      "Driving in slow mode due to low visibility.\n"
     ]
    }
   ],
   "source": [
    "String weather = \"rainy\";\n",
    "int visibility = 30;\n",
    "\n",
    "if (weather.equals(\"sunny\")) {\n",
    "    System.out.println(\"Driving in normal mode.\");\n",
    "} else if (weather.equals(\"rainy\") && visibility < 50) {\n",
    "    System.out.println(\"Driving in slow mode due to low visibility.\");\n",
    "} else if (weather.equals(\"snowy\")) {\n",
    "    System.out.println(\"Driving in snow mode.\");\n",
    "} else {\n",
    "    System.out.println(\"Driving in normal mode.\");\n",
    "}"
   ]
  },
  {
   "attachments": {},
   "cell_type": "markdown",
   "metadata": {},
   "source": [
    "Lastly, we can use object comparison to compare objects based on their references. In Java, objects are compared using the == operator, which compares the memory addresses of the objects. For example, we can use object comparison to check if two cars are the same object or not."
   ]
  },
  {
   "cell_type": "code",
   "execution_count": 13,
   "metadata": {
    "vscode": {
     "languageId": "java"
    }
   },
   "outputs": [
    {
     "name": "stdout",
     "output_type": "stream",
     "text": [
      "car1 and car2 are different objects.\n"
     ]
    }
   ],
   "source": [
    "public class Car2 {\n",
    "private String make;\n",
    "private String model;\n",
    "\n",
    "public Car2(String make, String model) {\n",
    "    this.make = make;\n",
    "    this.model = model;\n",
    "}\n",
    "\n",
    "}\n",
    "Car2 car1 = new Car2(\"Toyota\", \"Camry\");\n",
    "Car2 car2 = new Car2(\"Toyota\", \"Camry\");\n",
    "\n",
    "if (car1 == car2) {\n",
    "    System.out.println(\"car1 and car2 are the same object.\");\n",
    "} else {\n",
    "    System.out.println(\"car1 and car2 are different objects.\");\n",
    "}"
   ]
  },
  {
   "attachments": {},
   "cell_type": "markdown",
   "metadata": {},
   "source": [
    "You can also use the equals method which is denoted by equals() to compare two objects."
   ]
  },
  {
   "cell_type": "code",
   "execution_count": 14,
   "metadata": {
    "vscode": {
     "languageId": "java"
    }
   },
   "outputs": [],
   "source": [
    "public static void main(String[] args) {\n",
    "    // Create two Car objects\n",
    "    Car car1 = new Car(\"Toyota\", \"Camry\", 2020);\n",
    "    Car car2 = new Car(\"Toyota\", \"Camry\", 2020);\n",
    "\n",
    "    // Compare using equals() method\n",
    "    if (car1.equals(car2)) {\n",
    "        System.out.println(\"car1 is equal to car2\");\n",
    "    } else {\n",
    "        System.out.println(\"car1 is not equal to car2\");\n",
    "    }\n",
    "}"
   ]
  },
  {
   "attachments": {},
   "cell_type": "markdown",
   "metadata": {},
   "source": [
    "### Hack 3: \n",
    "1. Create a Car object named myCar with the following details:\n",
    "- Make: \"Toyota\"\n",
    "- Model: \"Camry\"\n",
    "- Year: 2019\n",
    "- Price: 25000.0\n",
    "2. Print the car details using the getMake(), getModel(), getYear(), and getPrice() methods.\n",
    "\n",
    "3. Check if the car is affordable within a budget of $20000 using the isAffordable() method and print the result using if-else statement.\n",
    "\n",
    "4. Determine and print the car's classification based on its price using if-else-if statement:\n",
    "- If the price is greater than $50000, print \"The car is a luxury car.\"\n",
    "- If the price is greater than $30000, print \"The car is a mid-range car.\"\n",
    "- Otherwise, print \"The car is an affordable car.\""
   ]
  },
  {
   "cell_type": "code",
   "execution_count": 15,
   "metadata": {
    "vscode": {
     "languageId": "java"
    }
   },
   "outputs": [
    {
     "name": "stdout",
     "output_type": "stream",
     "text": [
      "ToyotaCamry201925000.0\n",
      "true\n",
      "The car is an affordable car\n"
     ]
    }
   ],
   "source": [
    "public class Car {\n",
    "    private String make;\n",
    "    private String model;\n",
    "    private int year;\n",
    "    private double price;\n",
    "    \n",
    "    // Constructor\n",
    "    public Car(String make, String model, int year, double price) {\n",
    "        this.make = make;\n",
    "        this.model = model;\n",
    "        this.year = year;\n",
    "        this.price = price;\n",
    "    }\n",
    "    \n",
    "    // Getter methods\n",
    "    public String getMake() {\n",
    "        return make;\n",
    "    }\n",
    "    \n",
    "    public String getModel() {\n",
    "        return model;\n",
    "    }\n",
    "    \n",
    "    public int getYear() {\n",
    "        return year;\n",
    "    }\n",
    "    \n",
    "    public double getPrice() {\n",
    "        return price;\n",
    "    }\n",
    "    \n",
    "    // Method to determine if the car is affordable or not\n",
    "    public boolean isAffordable(double budget) {\n",
    "        if (price <= budget) {\n",
    "            return true;\n",
    "        } else {\n",
    "            return false;\n",
    "        }\n",
    "    }\n",
    "    public String isRange() {\n",
    "        if (price >= 50000.00) {\n",
    "            return \"The car is a luxury car\";\n",
    "        } \n",
    "        else if (price >= 30000.00){\n",
    "            return \"The car is a mid-range car\";\n",
    "        }\n",
    "        else {\n",
    "            return \"The car is an affordable car\";\n",
    "        }\n",
    "    }\n",
    "    \n",
    "    // Main method\n",
    "    public static void main(String[] args) {\n",
    "        // Create a new Car object\n",
    "        Car hack3 = new Car(\"Toyota\", \"Camry\", 2019, 25000.00);\n",
    "        // Print the car details\n",
    "        System.out.println(hack3.getMake() + hack3.getModel() + hack3.getYear() + hack3.getPrice());\n",
    "        // Check if the car is affordable with a budget of $20000 using an if-else statement\n",
    "        System.out.println(hack3.isAffordable(50000.00));\n",
    "        // Check if the car is a luxury car based on its price using if-else-if statement\n",
    "        System.out.println(hack3.isRange());\n",
    "    }\n",
    "}\n",
    "Car.main(null);"
   ]
  },
  {
   "attachments": {},
   "cell_type": "markdown",
   "metadata": {},
   "source": [
    "\n",
    "\n",
    "## Unit 4\n",
    "\n",
    "Unit 4 focuses on iteration. Some important topics we will cover are while loops, for loops, and nested iteration. Unit 4 is 17.5-22.5% of the exam.\n",
    "\n",
    "Just like how cars can keep moving as long as the engine is running, while loops allow us to repeatedly execute a block of code as long as a certain condition is true. Here's an example:"
   ]
  },
  {
   "cell_type": "code",
   "execution_count": 16,
   "metadata": {
    "vscode": {
     "languageId": "java"
    }
   },
   "outputs": [
    {
     "name": "stdout",
     "output_type": "stream",
     "text": [
      "Fuel level: 50 liters\n",
      "Fuel level: 40 liters\n",
      "Fuel level: 30 liters\n",
      "Fuel level: 20 liters\n",
      "Fuel level: 10 liters\n"
     ]
    }
   ],
   "source": [
    "int fuelLevel = 50; // initial fuel level of the car\n",
    "\n",
    "while (fuelLevel > 0) { // while there is still fuel\n",
    "    System.out.println(\"Fuel level: \" + fuelLevel + \" liters\"); // print current fuel level\n",
    "    fuelLevel -= 10; // decrease fuel level by 10 liters\n",
    "}\n"
   ]
  },
  {
   "attachments": {},
   "cell_type": "markdown",
   "metadata": {},
   "source": [
    "In this example, the code inside the while loop will keep executing as long as the fuel level is greater than 0. The fuelLevel variable is decreased by 10 in each iteration, and the current fuel level is printed. Once the fuel level reaches 0 or less, the loop will exit.\n",
    "\n",
    "Issues with while loops:\n",
    "- If the loop condition is always true, the loop will never exit \n",
    "- Can easily crash a computer server and should be avoided\n",
    "- If the loop conditions are always false, then the loop will never run and the body is skipped\n"
   ]
  },
  {
   "attachments": {},
   "cell_type": "markdown",
   "metadata": {},
   "source": [
    "Next, let's move on to for loops, which allow us to specify the number of times a block of code should be executed. Just like how cars can go through a fixed number of laps on a racetrack, for loops have a fixed number of iterations. \n"
   ]
  },
  {
   "cell_type": "code",
   "execution_count": 17,
   "metadata": {
    "vscode": {
     "languageId": "java"
    }
   },
   "outputs": [
    {
     "name": "stdout",
     "output_type": "stream",
     "text": [
      "Lap 1 completed!\n",
      "Lap 2 completed!\n",
      "Lap 3 completed!\n",
      "Lap 4 completed!\n",
      "Lap 5 completed!\n"
     ]
    }
   ],
   "source": [
    "for (int lap = 1; lap <= 5; lap++) { // for 5 laps\n",
    "    System.out.println(\"Lap \" + lap + \" completed!\"); // print lap number\n",
    "}\n"
   ]
  },
  {
   "attachments": {},
   "cell_type": "markdown",
   "metadata": {},
   "source": [
    "In this example, the code inside the for loop will be executed 5 times, as specified by the condition lap <= 5. The lap variable is incremented by 1 in each iteration, and the lap number is printed."
   ]
  },
  {
   "attachments": {},
   "cell_type": "markdown",
   "metadata": {},
   "source": [
    "Now, let's talk about nested iteration, which is like cars navigating through multiple lanes or roads. Nested iteration involves having one loop inside another loop. Here's an example that has a nested for loop. The outer loop iterates over 3 lanes and the inner loop iterates over 4 cars in each lane. The lane and car variables represent the lane and car numbers, respectively, and their values are printed."
   ]
  },
  {
   "cell_type": "code",
   "execution_count": 18,
   "metadata": {
    "vscode": {
     "languageId": "java"
    }
   },
   "outputs": [
    {
     "name": "stdout",
     "output_type": "stream",
     "text": [
      "Lane 1, Car 1\n",
      "Lane 1, Car 2\n",
      "Lane 1, Car 3\n",
      "Lane 1, Car 4\n",
      "Lane 2, Car 1\n",
      "Lane 2, Car 2\n",
      "Lane 2, Car 3\n",
      "Lane 2, Car 4\n",
      "Lane 3, Car 1\n",
      "Lane 3, Car 2\n",
      "Lane 3, Car 3\n",
      "Lane 3, Car 4\n"
     ]
    }
   ],
   "source": [
    "for (int lane = 1; lane <= 3; lane++) { // for 3 lanes\n",
    "    for (int car = 1; car <= 4; car++) { // for 4 cars in each lane\n",
    "        System.out.println(\"Lane \" + lane + \", Car \" + car); // print lane and car number\n",
    "    }\n",
    "}"
   ]
  },
  {
   "attachments": {},
   "cell_type": "markdown",
   "metadata": {},
   "source": [
    "\n",
    "Break and continue statements help loops too. Break statement will help immediately exit out of the loop. Continue statements help jump to the next iteration. \n",
    "\n",
    "There's also try-catch statement blocks and exception throwing. Exceptions are signs that something is wrong with the code at runtime and the try-catch statements helps keep the program from crashing. The program tries to run the code assuming it works in the try block and if it catches an exception, it moves to the catch block. \n",
    "\n",
    "In this example, we have a for loop that iterates over 5 laps. The break statement is used to exit the loop prematurely when the car breaks down on lap 3. The continue statement is used to skip the current iteration and move on to the next lap when the car goes off-track on lap 4. The lap number and corresponding event (completed lap, car broke down, or car went off-track) are printed for each iteration."
   ]
  },
  {
   "cell_type": "code",
   "execution_count": 19,
   "metadata": {
    "vscode": {
     "languageId": "java"
    }
   },
   "outputs": [
    {
     "name": "stdout",
     "output_type": "stream",
     "text": [
      "Lap 1 completed!\n",
      "Lap 2 completed!\n",
      "Car broke down on lap 3!\n"
     ]
    }
   ],
   "source": [
    "for (int lap = 1; lap <= 5; lap++) { // for 5 laps\n",
    "    if (lap == 3) {\n",
    "        System.out.println(\"Car broke down on lap \" + lap + \"!\");\n",
    "        break; // exit the loop if car breaks down\n",
    "    } else if (lap == 4) {\n",
    "        System.out.println(\"Car went off-track on lap \" + lap + \"!\");\n",
    "        continue; // skip current iteration and move on to next lap\n",
    "    }\n",
    "    System.out.println(\"Lap \" + lap + \" completed!\"); // print lap number\n",
    "}\n"
   ]
  },
  {
   "attachments": {},
   "cell_type": "markdown",
   "metadata": {},
   "source": [
    "With this try-catch code example, the method creates a Car class with a displayCarInfo() method that displays the make and year of the car. It also creates a car object and call the displayCarInfo() method. It divides by zero to purposely simulate an error and then the try-catch block catches the ArithmeticException, which is thrown when dividing by zero and prints error message\n",
    "\n",
    "KEY IDEA: A car may encounter unexpected issues on the road and need to be handled appropriately to avoid crashes or breakdowns."
   ]
  },
  {
   "cell_type": "code",
   "execution_count": 20,
   "metadata": {
    "vscode": {
     "languageId": "java"
    }
   },
   "outputs": [],
   "source": [
    "public class Car {\n",
    "    private String make;\n",
    "    private int year;\n",
    "\n",
    "    public Car(String make, int year) {\n",
    "        this.make = make;\n",
    "        this.year = year;\n",
    "    }\n",
    "\n",
    "    public void displayCarInfo() {\n",
    "        System.out.println(\"Make: \" + make);\n",
    "        System.out.println(\"Year: \" + year);\n",
    "    }\n",
    "}\n",
    "\n",
    "public class Main {\n",
    "    public static void main(String[] args) {\n",
    "        try {\n",
    "            Car car = new Car(\"Toyota\", 2020); // Creating a car object\n",
    "            car.displayCarInfo(); // Displaying car information\n",
    "            int speed = 100 / 0; // Trying to divide by zero to simulate an error\n",
    "        } catch (ArithmeticException e) {\n",
    "            System.out.println(\"Error: Division by zero!\"); // Catching and handling the exception\n",
    "        }\n",
    "    }\n",
    "}\n"
   ]
  },
  {
   "attachments": {},
   "cell_type": "markdown",
   "metadata": {},
   "source": [
    "## Hack 4\n",
    "\n",
    "You are tasked with creating a program that allows a user to enter the number of cars they own, and then input the make and model of each car. The program will then print out the list of cars.\n",
    "\n",
    "Here are the specific requirements:\n",
    "\n",
    "- Use a try-catch statement to catch any input/output exceptions that may occur.\n",
    "- Use a while loop to ensure that the user enters a positive integer for the number of cars they own.\n",
    "- Use a for loop to iterate over each car and prompt the user to enter the make and model of the car."
   ]
  },
  {
   "cell_type": "code",
   "execution_count": null,
   "metadata": {
    "vscode": {
     "languageId": "java"
    }
   },
   "outputs": [],
   "source": []
  },
  {
   "cell_type": "code",
   "execution_count": 18,
   "metadata": {
    "vscode": {
     "languageId": "java"
    }
   },
   "outputs": [
    {
     "name": "stdout",
     "output_type": "stream",
     "text": [
      "the make is  and the model is ah\n",
      "the make is ah and the model is ah\n",
      "the make is ah and the model is ah\n"
     ]
    }
   ],
   "source": [
    "import java.util.Scanner;\n",
    "import java.util.ArrayList;\n",
    "\n",
    "public class MonkeyCar {\n",
    "    public String make;\n",
    "    public String model;\n",
    "    public int monkeymonknum = 0;\n",
    "    public MonkeyCar(String make, String model) {\n",
    "        this.make = make;\n",
    "        this.model = model;\n",
    "    }\n",
    "\n",
    "    public String getMake() {\n",
    "        return this.make;\n",
    "    }\n",
    "    public String getModel() {\n",
    "        return this.model;\n",
    "    }\n",
    "\n",
    "    public void setMake(String newMake) {\n",
    "        this.make = newMake;\n",
    "    }\n",
    "\n",
    "    public void setModel(String newModel) {\n",
    "        this.model = newModel;\n",
    "    }\n",
    "\n",
    "    public String toStringCar() {\n",
    "        return (\"the make is \" + this.make + \" and the model is \" + this.model);\n",
    "    }\n",
    "\n",
    "    public void printArrayList() {\n",
    "        \n",
    "    }\n",
    "\n",
    "    public static void main(String[] args) {\n",
    "        ArrayList<MonkeyCar> monkeycarlist = new ArrayList<MonkeyCar>();\n",
    "        Scanner monkeymonk = new Scanner(System.in);\n",
    "        int monkeymonknum = monkeymonk.nextInt();\n",
    "        try {\n",
    "            while (monkeymonknum > 0) {\n",
    "                for (int i=0; i < monkeymonknum; i++) {\n",
    "                String a = monkeymonk.nextLine();\n",
    "                String b = monkeymonk.nextLine();\n",
    "                MonkeyCar car = new MonkeyCar(a, b);\n",
    "                monkeycarlist.add(car);\n",
    "                }\n",
    "                monkeymonknum -= 1;\n",
    "            }\n",
    "            for (int y=0; monkeycarlist.size() > y; y++) {\n",
    "                System.out.println((monkeycarlist.get(y)).toStringCar());\n",
    "            }\n",
    "        } catch (Exception e) {\n",
    "            System.out.println(\"error\");\n",
    "        }\n",
    "    }\n",
    "}\n",
    "MonkeyCar.main(null);"
   ]
  }
 ],
 "metadata": {
  "kernelspec": {
   "display_name": "Java",
   "language": "java",
   "name": "java"
  },
  "language_info": {
   "codemirror_mode": "java",
   "file_extension": ".jshell",
   "mimetype": "text/x-java-source",
   "name": "Java",
   "pygments_lexer": "java",
   "version": "17.0.6+10-Ubuntu-0ubuntu120.04.1"
  },
  "orig_nbformat": 4,
  "vscode": {
   "interpreter": {
    "hash": "369f2c481f4da34e4445cda3fffd2e751bd1c4d706f27375911949ba6bb62e1c"
   }
  }
 },
 "nbformat": 4,
 "nbformat_minor": 2
}
