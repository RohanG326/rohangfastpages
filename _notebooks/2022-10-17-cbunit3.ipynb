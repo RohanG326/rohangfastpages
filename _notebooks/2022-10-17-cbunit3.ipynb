{
 "cells": [
  {
   "cell_type": "markdown",
   "metadata": {},
   "source": [
    "# Rohan G CollegeBoard Unit 3 Boolean Expressions and If Statements\n",
    "> Week 9 Unit 3 Lesson\n",
    "\n",
    "- toc: true \n",
    "- badges: true\n",
    "- comments: true\n",
    "- categories: [jupyter]\n",
    "- image: images/chart-preview.png"
   ]
  },
  {
   "cell_type": "markdown",
   "metadata": {},
   "source": [
    "## Conditionals Exercises 1-20 Even"
   ]
  },
  {
   "cell_type": "code",
   "execution_count": 8,
   "metadata": {},
   "outputs": [
    {
     "name": "stdout",
     "output_type": "stream",
     "text": [
      "not real\n"
     ]
    }
   ],
   "source": [
    "// Exercise 2\n",
    "int a = 1;\n",
    "int b = 5;\n",
    "int c = 1;\n",
    "double d = Math.pow(b,2) - 4 * a * c;\n",
    "if (d > 0) {\n",
    "    double root1 = (-b + Math.sqrt(d)) / (2 * a);\n",
    "    double root2 = (-b - Math.sqrt(d)) / (2 * a);\n",
    "    System.out.println(root1);\n",
    "    System.out.println(root2);\n",
    "} else {\n",
    "    System.out.println(\"not real\");\n",
    "}"
   ]
  },
  {
   "cell_type": "code",
   "execution_count": 13,
   "metadata": {},
   "outputs": [
    {
     "name": "stdout",
     "output_type": "stream",
     "text": [
      "positive\n"
     ]
    }
   ],
   "source": [
    "// Exercise 4\n",
    "float blah = 25;\n",
    "\n",
    "if (blah == 0) {\n",
    "    System.out.println(\"zero\");\n",
    "}\n",
    "else if (blah > 0) {\n",
    "    System.out.println(\"positive\");\n",
    "} else {\n",
    "    System.out.println(\"negative\");\n",
    "}\n",
    "if (Math.abs(blah) < 1 ) {\n",
    "    System.out.println(\"small\");\n",
    "}\n",
    "if (Math.abs(blah) > 1000000 ) {\n",
    "    System.out.println(\"big\");\n",
    "}"
   ]
  },
  {
   "cell_type": "code",
   "execution_count": null,
   "metadata": {},
   "outputs": [],
   "source": [
    "// Exercise 6\n"
   ]
  }
 ],
 "metadata": {
  "kernelspec": {
   "display_name": "Java",
   "language": "java",
   "name": "java"
  },
  "language_info": {
   "codemirror_mode": "java",
   "file_extension": ".jshell",
   "mimetype": "text/x-java-source",
   "name": "java",
   "pygments_lexer": "java",
   "version": "11.0.16+8-post-Ubuntu-0ubuntu120.04"
  },
  "orig_nbformat": 4,
  "vscode": {
   "interpreter": {
    "hash": "916dbcbb3f70747c44a77c7bcd40155683ae19c65e1c03b4aa3499c5328201f1"
   }
  }
 },
 "nbformat": 4,
 "nbformat_minor": 2
}
