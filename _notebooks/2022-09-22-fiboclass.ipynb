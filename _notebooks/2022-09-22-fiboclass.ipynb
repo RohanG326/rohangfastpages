{
 "cells": [
  {
   "cell_type": "markdown",
   "metadata": {},
   "source": [
    "# Rohan G Class running Fibonacci\n",
    "> Week 5 Class running Fibonacci\n",
    "\n",
    "- toc: true \n",
    "- badges: true\n",
    "- comments: true\n",
    "- categories: [jupyter]\n",
    "- image: images/chart-preview.png"
   ]
  },
  {
   "cell_type": "code",
   "execution_count": 2,
   "metadata": {
    "vscode": {
     "languageId": "java"
    }
   },
   "outputs": [
    {
     "name": "stdout",
     "output_type": "stream",
     "text": [
      "Init method = Stream\n",
      "fibonacci Number 20 = 4181\n",
      "fibonacci List = [0, 1, 1, 2, 3, 5, 8, 13, 21, 34, 55, 89, 144, 233, 377, 610, 987, 1597, 2584, 4181]\n",
      "fibonacci Hashmap = {0=[0], 1=[0, 1], 2=[0, 1, 1], 3=[0, 1, 1, 2], 4=[0, 1, 1, 2, 3], 5=[0, 1, 1, 2, 3, 5], 6=[0, 1, 1, 2, 3, 5, 8], 7=[0, 1, 1, 2, 3, 5, 8, 13], 8=[0, 1, 1, 2, 3, 5, 8, 13, 21], 9=[0, 1, 1, 2, 3, 5, 8, 13, 21, 34], 10=[0, 1, 1, 2, 3, 5, 8, 13, 21, 34, 55], 11=[0, 1, 1, 2, 3, 5, 8, 13, 21, 34, 55, 89], 12=[0, 1, 1, 2, 3, 5, 8, 13, 21, 34, 55, 89, 144], 13=[0, 1, 1, 2, 3, 5, 8, 13, 21, 34, 55, 89, 144, 233], 14=[0, 1, 1, 2, 3, 5, 8, 13, 21, 34, 55, 89, 144, 233, 377], 15=[0, 1, 1, 2, 3, 5, 8, 13, 21, 34, 55, 89, 144, 233, 377, 610], 16=[0, 1, 1, 2, 3, 5, 8, 13, 21, 34, 55, 89, 144, 233, 377, 610, 987], 17=[0, 1, 1, 2, 3, 5, 8, 13, 21, 34, 55, 89, 144, 233, 377, 610, 987, 1597], 18=[0, 1, 1, 2, 3, 5, 8, 13, 21, 34, 55, 89, 144, 233, 377, 610, 987, 1597, 2584], 19=[0, 1, 1, 2, 3, 5, 8, 13, 21, 34, 55, 89, 144, 233, 377, 610, 987, 1597, 2584, 4181]}\n",
      "fibonacci Sequence 1 = [0]\n",
      "fibonacci Sequence 2 = [0, 1]\n",
      "fibonacci Sequence 3 = [0, 1, 1]\n",
      "fibonacci Sequence 4 = [0, 1, 1, 2]\n",
      "fibonacci Sequence 5 = [0, 1, 1, 2, 3]\n",
      "fibonacci Sequence 6 = [0, 1, 1, 2, 3, 5]\n",
      "fibonacci Sequence 7 = [0, 1, 1, 2, 3, 5, 8]\n",
      "fibonacci Sequence 8 = [0, 1, 1, 2, 3, 5, 8, 13]\n",
      "fibonacci Sequence 9 = [0, 1, 1, 2, 3, 5, 8, 13, 21]\n",
      "fibonacci Sequence 10 = [0, 1, 1, 2, 3, 5, 8, 13, 21, 34]\n",
      "fibonacci Sequence 11 = [0, 1, 1, 2, 3, 5, 8, 13, 21, 34, 55]\n",
      "fibonacci Sequence 12 = [0, 1, 1, 2, 3, 5, 8, 13, 21, 34, 55, 89]\n",
      "fibonacci Sequence 13 = [0, 1, 1, 2, 3, 5, 8, 13, 21, 34, 55, 89, 144]\n",
      "fibonacci Sequence 14 = [0, 1, 1, 2, 3, 5, 8, 13, 21, 34, 55, 89, 144, 233]\n",
      "fibonacci Sequence 15 = [0, 1, 1, 2, 3, 5, 8, 13, 21, 34, 55, 89, 144, 233, 377]\n",
      "fibonacci Sequence 16 = [0, 1, 1, 2, 3, 5, 8, 13, 21, 34, 55, 89, 144, 233, 377, 610]\n",
      "fibonacci Sequence 17 = [0, 1, 1, 2, 3, 5, 8, 13, 21, 34, 55, 89, 144, 233, 377, 610, 987]\n",
      "fibonacci Sequence 18 = [0, 1, 1, 2, 3, 5, 8, 13, 21, 34, 55, 89, 144, 233, 377, 610, 987, 1597]\n",
      "fibonacci Sequence 19 = [0, 1, 1, 2, 3, 5, 8, 13, 21, 34, 55, 89, 144, 233, 377, 610, 987, 1597, 2584]\n",
      "fibonacci Sequence 20 = [0, 1, 1, 2, 3, 5, 8, 13, 21, 34, 55, 89, 144, 233, 377, 610, 987, 1597, 2584, 4181]\n"
     ]
    }
   ],
   "source": [
    "/*\n",
    " * Creator: Nighthawk Coding Society\n",
    " * Mini Lab Name: Fibonacci sequence, featuring a Stream Algorithm\n",
    " * \n",
    " */\n",
    "\n",
    "import java.util.ArrayList;  \n",
    "import java.util.HashMap;\n",
    "import java.util.stream.Stream;\n",
    "\n",
    "/* Objective will require changing to abstract class with one or more abstract methods below */\n",
    "public class Fibo {\n",
    "    String name;  // name or title of method\n",
    "    int size;  // nth sequence\n",
    "    int hashID;  // counter for hashIDs in hash map\n",
    "    ArrayList<Long> list;   // captures current Fibonacci sequence\n",
    "    HashMap<Integer, Object> hash;  // captures each sequence leading to final result\n",
    "\n",
    "    /*\n",
    "     Zero parameter constructor uses Telescoping technique to allow setting of the required value nth\n",
    "     @param: none\n",
    "     */\n",
    "    public Fibo() {\n",
    "        this(20); // telescope to avoid code duplication, using default as 20\n",
    "    }\n",
    "\n",
    "    /*\n",
    "     Construct the nth fibonacci number\n",
    "     @param: nth number, the value is constrained to 92 because of overflow in a long\n",
    "     */\n",
    "    public Fibo(int nth) {\n",
    "        this.size = nth;\n",
    "        this.list = new ArrayList<>();\n",
    "        this.hashID = 0;\n",
    "        this.hash = new HashMap<>();\n",
    "        //initialize fibonacci and time mvc\n",
    "        this.init();\n",
    "    }\n",
    "\n",
    "    /*\n",
    "     This Method should be \"abstract\"\n",
    "     Leave method as protected, as it is only authorized to extender of the class\n",
    "     Make new class that extends and defines init()\n",
    "     Inside references within this class would change from this to super\n",
    "     Repeat process using for, while, recursion\n",
    "     */\n",
    "    protected void init() {\n",
    "        this.name = \"Stream\";\n",
    "        Stream.iterate(new long[]{0, 1}, f -> new long[]{f[1], f[0] + f[1]})\n",
    "            .limit(this.size)\n",
    "            .forEach(f -> this.setData(f[0]) );\n",
    "    }\n",
    "\n",
    "    /*\n",
    "     Number is added to fibonacci sequence, current state of \"list\" is added to hash for hashID \"num\"\n",
    "     */\n",
    "    public void setData(long num) {\n",
    "        list.add(num);\n",
    "        hash.put(this.hashID++, list.clone());\n",
    "    }\n",
    "\n",
    "    /*\n",
    "     Custom Getter to return last element in fibonacci sequence\n",
    "     */\n",
    "    public long getNth() {\n",
    "        return list.get(this.size - 1);\n",
    "    }\n",
    "\n",
    "    /*\n",
    "     Custom Getter to return last fibonacci sequence in HashMap\n",
    "     */\n",
    "    public Object getNthSeq(int i) {\n",
    "        return hash.get(i);\n",
    "    }\n",
    "\n",
    "    /*\n",
    "     Console/Terminal supported print method\n",
    "     */\n",
    "    public void print() {\n",
    "        System.out.println(\"Init method = \" + this.name);\n",
    "        System.out.println(\"fibonacci Number \" + this.size + \" = \" + this.getNth());\n",
    "        System.out.println(\"fibonacci List = \" + this.list);\n",
    "        System.out.println(\"fibonacci Hashmap = \" + this.hash);\n",
    "        for (int i=0 ; i<this.size; i++ ) {\n",
    "            System.out.println(\"fibonacci Sequence \" + (i+1) + \" = \" + this.getNthSeq(i));\n",
    "        }\n",
    "    }\n",
    "\n",
    "    /*\n",
    "    Tester class method.  If this becomes abstract you will not be able to test it directly ...\n",
    "    Change this method to  call \"main\" class of each of the extended classes\n",
    "     */\n",
    "    static public void main(String[] args) {\n",
    "        Fibo fib = new Fibo();\n",
    "        fib.print();\n",
    "    }\n",
    "}\n",
    "Fibo.main(null);"
   ]
  },
  {
   "cell_type": "markdown",
   "metadata": {},
   "source": [
    "# Hacks\n",
    "- For Loop\n",
    "- While\n",
    "- Recursive Loop"
   ]
  },
  {
   "cell_type": "code",
   "execution_count": 3,
   "metadata": {
    "vscode": {
     "languageId": "java"
    }
   },
   "outputs": [
    {
     "name": "stdout",
     "output_type": "stream",
     "text": [
      "Init method = For Loop\n",
      "fibonacci Number 10 = 34\n",
      "fibonacci List = [0, 1, 1, 2, 3, 5, 8, 13, 21, 34, 55]\n",
      "fibonacci Hashmap = {0=[0], 1=[0, 1], 2=[0, 1, 1], 3=[0, 1, 1, 2], 4=[0, 1, 1, 2, 3], 5=[0, 1, 1, 2, 3, 5], 6=[0, 1, 1, 2, 3, 5, 8], 7=[0, 1, 1, 2, 3, 5, 8, 13], 8=[0, 1, 1, 2, 3, 5, 8, 13, 21], 9=[0, 1, 1, 2, 3, 5, 8, 13, 21, 34], 10=[0, 1, 1, 2, 3, 5, 8, 13, 21, 34, 55], 11=[0, 1, 1, 2, 3, 5, 8, 13, 21, 34, 55, 89], 12=[0, 1, 1, 2, 3, 5, 8, 13, 21, 34, 55, 89, 144], 13=[0, 1, 1, 2, 3, 5, 8, 13, 21, 34, 55, 89, 144, 233], 14=[0, 1, 1, 2, 3, 5, 8, 13, 21, 34, 55, 89, 144, 233, 377], 15=[0, 1, 1, 2, 3, 5, 8, 13, 21, 34, 55, 89, 144, 233, 377, 610], 16=[0, 1, 1, 2, 3, 5, 8, 13, 21, 34, 55, 89, 144, 233, 377, 610, 987], 17=[0, 1, 1, 2, 3, 5, 8, 13, 21, 34, 55, 89, 144, 233, 377, 610, 987, 1597], 18=[0, 1, 1, 2, 3, 5, 8, 13, 21, 34, 55, 89, 144, 233, 377, 610, 987, 1597, 2584], 19=[0, 1, 1, 2, 3, 5, 8, 13, 21, 34, 55, 89, 144, 233, 377, 610, 987, 1597, 2584, 4181], 20=[0, 1, 1, 2, 3, 5, 8, 13, 21, 34, 55, 89, 144, 233, 377, 610, 987, 1597, 2584, 4181, 6765], 21=[0], 22=[0, 1], 23=[0, 1, 1], 24=[0, 1, 1, 2], 25=[0, 1, 1, 2, 3], 26=[0, 1, 1, 2, 3, 5], 27=[0, 1, 1, 2, 3, 5, 8], 28=[0, 1, 1, 2, 3, 5, 8, 13], 29=[0, 1, 1, 2, 3, 5, 8, 13, 21], 30=[0, 1, 1, 2, 3, 5, 8, 13, 21, 34], 31=[0, 1, 1, 2, 3, 5, 8, 13, 21, 34, 55]}\n",
      "fibonacci Sequence 1 = [0]\n",
      "fibonacci Sequence 2 = [0, 1]\n",
      "fibonacci Sequence 3 = [0, 1, 1]\n",
      "fibonacci Sequence 4 = [0, 1, 1, 2]\n",
      "fibonacci Sequence 5 = [0, 1, 1, 2, 3]\n",
      "fibonacci Sequence 6 = [0, 1, 1, 2, 3, 5]\n",
      "fibonacci Sequence 7 = [0, 1, 1, 2, 3, 5, 8]\n",
      "fibonacci Sequence 8 = [0, 1, 1, 2, 3, 5, 8, 13]\n",
      "fibonacci Sequence 9 = [0, 1, 1, 2, 3, 5, 8, 13, 21]\n",
      "fibonacci Sequence 10 = [0, 1, 1, 2, 3, 5, 8, 13, 21, 34]\n"
     ]
    }
   ],
   "source": [
    "public class FiboForLoop extends Fibo {\n",
    "    public FiboForLoop() {\n",
    "        this(10); \n",
    "    }\n",
    "\n",
    "    public FiboForLoop(int nth) {\n",
    "        this.size = nth;\n",
    "        this.list = new ArrayList<>();\n",
    "        //initialize fibonacci and time mvc\n",
    "        this.init();\n",
    "    }\n",
    "\n",
    "    protected void init(){\n",
    "        this.name = \"For Loop\";\n",
    "        this.setData(0);\n",
    "        this.setData(1);\n",
    "        for(int i = 2; i <= this.size; ++i){\n",
    "            this.setData(this.list.get(i-2)+this.list.get(i-1));\n",
    "        }\n",
    "    }\n",
    "\n",
    "    static public void main(String[] args) {\n",
    "        FiboForLoop fib = new FiboForLoop();\n",
    "        fib.print();\n",
    "    }\n",
    "}\n",
    "FiboForLoop.main(null);"
   ]
  },
  {
   "cell_type": "code",
   "execution_count": 4,
   "metadata": {
    "vscode": {
     "languageId": "java"
    }
   },
   "outputs": [
    {
     "name": "stdout",
     "output_type": "stream",
     "text": [
      "Init method = While Loop\n",
      "fibonacci Number 10 = 34\n",
      "fibonacci List = [0, 1, 1, 2, 3, 5, 8, 13, 21, 34, 55]\n",
      "fibonacci Hashmap = {0=[0], 1=[0, 1], 2=[0, 1, 1], 3=[0, 1, 1, 2], 4=[0, 1, 1, 2, 3], 5=[0, 1, 1, 2, 3, 5], 6=[0, 1, 1, 2, 3, 5, 8], 7=[0, 1, 1, 2, 3, 5, 8, 13], 8=[0, 1, 1, 2, 3, 5, 8, 13, 21], 9=[0, 1, 1, 2, 3, 5, 8, 13, 21, 34], 10=[0, 1, 1, 2, 3, 5, 8, 13, 21, 34, 55], 11=[0, 1, 1, 2, 3, 5, 8, 13, 21, 34, 55, 89], 12=[0, 1, 1, 2, 3, 5, 8, 13, 21, 34, 55, 89, 144], 13=[0, 1, 1, 2, 3, 5, 8, 13, 21, 34, 55, 89, 144, 233], 14=[0, 1, 1, 2, 3, 5, 8, 13, 21, 34, 55, 89, 144, 233, 377], 15=[0, 1, 1, 2, 3, 5, 8, 13, 21, 34, 55, 89, 144, 233, 377, 610], 16=[0, 1, 1, 2, 3, 5, 8, 13, 21, 34, 55, 89, 144, 233, 377, 610, 987], 17=[0, 1, 1, 2, 3, 5, 8, 13, 21, 34, 55, 89, 144, 233, 377, 610, 987, 1597], 18=[0, 1, 1, 2, 3, 5, 8, 13, 21, 34, 55, 89, 144, 233, 377, 610, 987, 1597, 2584], 19=[0, 1, 1, 2, 3, 5, 8, 13, 21, 34, 55, 89, 144, 233, 377, 610, 987, 1597, 2584, 4181], 20=[0, 1, 1, 2, 3, 5, 8, 13, 21, 34, 55, 89, 144, 233, 377, 610, 987, 1597, 2584, 4181, 6765], 21=[0], 22=[0, 1], 23=[0, 1, 1], 24=[0, 1, 1, 2], 25=[0, 1, 1, 2, 3], 26=[0, 1, 1, 2, 3, 5], 27=[0, 1, 1, 2, 3, 5, 8], 28=[0, 1, 1, 2, 3, 5, 8, 13], 29=[0, 1, 1, 2, 3, 5, 8, 13, 21], 30=[0, 1, 1, 2, 3, 5, 8, 13, 21, 34], 31=[0, 1, 1, 2, 3, 5, 8, 13, 21, 34, 55]}\n",
      "fibonacci Sequence 1 = [0]\n",
      "fibonacci Sequence 2 = [0, 1]\n",
      "fibonacci Sequence 3 = [0, 1, 1]\n",
      "fibonacci Sequence 4 = [0, 1, 1, 2]\n",
      "fibonacci Sequence 5 = [0, 1, 1, 2, 3]\n",
      "fibonacci Sequence 6 = [0, 1, 1, 2, 3, 5]\n",
      "fibonacci Sequence 7 = [0, 1, 1, 2, 3, 5, 8]\n",
      "fibonacci Sequence 8 = [0, 1, 1, 2, 3, 5, 8, 13]\n",
      "fibonacci Sequence 9 = [0, 1, 1, 2, 3, 5, 8, 13, 21]\n",
      "fibonacci Sequence 10 = [0, 1, 1, 2, 3, 5, 8, 13, 21, 34]\n"
     ]
    }
   ],
   "source": [
    "public class FiboWhileLoop extends Fibo {\n",
    "    public FiboWhileLoop() {\n",
    "        this(10); \n",
    "    }\n",
    "\n",
    "    public FiboWhileLoop(int nth) {\n",
    "        this.size = nth;\n",
    "        this.list = new ArrayList<>();\n",
    "        //initialize fibonacci and time mvc\n",
    "        this.init();\n",
    "    }\n",
    "\n",
    "    protected void init(){\n",
    "        this.name = \"While Loop\";\n",
    "        this.setData(0);\n",
    "        this.setData(1);\n",
    "        int i = 2;\n",
    "        while(i <= this.size){\n",
    "            this.setData(this.list.get(i-2)+this.list.get(i-1));\n",
    "            i++;\n",
    "        }\n",
    "    }\n",
    "\n",
    "    static public void main(String[] args) {\n",
    "        FiboWhileLoop fib = new FiboWhileLoop();\n",
    "        fib.print();\n",
    "    }\n",
    "}\n",
    "FiboWhileLoop.main(null);"
   ]
  },
  {
   "cell_type": "code",
   "execution_count": 5,
   "metadata": {
    "vscode": {
     "languageId": "java"
    }
   },
   "outputs": [
    {
     "name": "stdout",
     "output_type": "stream",
     "text": [
      "Init method = Recursion\n",
      "fibonacci Number 10 = 34\n",
      "fibonacci List = [0, 1, 1, 2, 3, 5, 8, 13, 21, 34]\n",
      "fibonacci Hashmap = {0=[0], 1=[0, 1], 2=[0, 1, 1], 3=[0, 1, 1, 2], 4=[0, 1, 1, 2, 3], 5=[0, 1, 1, 2, 3, 5], 6=[0, 1, 1, 2, 3, 5, 8], 7=[0, 1, 1, 2, 3, 5, 8, 13], 8=[0, 1, 1, 2, 3, 5, 8, 13, 21], 9=[0, 1, 1, 2, 3, 5, 8, 13, 21, 34], 10=[0, 1, 1, 2, 3, 5, 8, 13, 21, 34, 55], 11=[0, 1, 1, 2, 3, 5, 8, 13, 21, 34, 55, 89], 12=[0, 1, 1, 2, 3, 5, 8, 13, 21, 34, 55, 89, 144], 13=[0, 1, 1, 2, 3, 5, 8, 13, 21, 34, 55, 89, 144, 233], 14=[0, 1, 1, 2, 3, 5, 8, 13, 21, 34, 55, 89, 144, 233, 377], 15=[0, 1, 1, 2, 3, 5, 8, 13, 21, 34, 55, 89, 144, 233, 377, 610], 16=[0, 1, 1, 2, 3, 5, 8, 13, 21, 34, 55, 89, 144, 233, 377, 610, 987], 17=[0, 1, 1, 2, 3, 5, 8, 13, 21, 34, 55, 89, 144, 233, 377, 610, 987, 1597], 18=[0, 1, 1, 2, 3, 5, 8, 13, 21, 34, 55, 89, 144, 233, 377, 610, 987, 1597, 2584], 19=[0, 1, 1, 2, 3, 5, 8, 13, 21, 34, 55, 89, 144, 233, 377, 610, 987, 1597, 2584, 4181], 20=[0], 21=[0, 1], 22=[0, 1, 1], 23=[0, 1, 1, 2], 24=[0, 1, 1, 2, 3], 25=[0, 1, 1, 2, 3, 5], 26=[0, 1, 1, 2, 3, 5, 8], 27=[0, 1, 1, 2, 3, 5, 8, 13], 28=[0, 1, 1, 2, 3, 5, 8, 13, 21], 29=[0, 1, 1, 2, 3, 5, 8, 13, 21, 34]}\n",
      "fibonacci Sequence 1 = [0]\n",
      "fibonacci Sequence 2 = [0, 1]\n",
      "fibonacci Sequence 3 = [0, 1, 1]\n",
      "fibonacci Sequence 4 = [0, 1, 1, 2]\n",
      "fibonacci Sequence 5 = [0, 1, 1, 2, 3]\n",
      "fibonacci Sequence 6 = [0, 1, 1, 2, 3, 5]\n",
      "fibonacci Sequence 7 = [0, 1, 1, 2, 3, 5, 8]\n",
      "fibonacci Sequence 8 = [0, 1, 1, 2, 3, 5, 8, 13]\n",
      "fibonacci Sequence 9 = [0, 1, 1, 2, 3, 5, 8, 13, 21]\n",
      "fibonacci Sequence 10 = [0, 1, 1, 2, 3, 5, 8, 13, 21, 34]\n"
     ]
    }
   ],
   "source": [
    "public class FiboRecursiveLoop extends Fibo {\n",
    "    public FiboRecursiveLoop() {\n",
    "        this(10); \n",
    "    }\n",
    "\n",
    "    public FiboRecursiveLoop(int nth) {\n",
    "        this.size = nth;\n",
    "        this.list = new ArrayList<>();\n",
    "        //initialize fibonacci and time mvc\n",
    "        this.init();\n",
    "    }\n",
    "\n",
    "\n",
    "    protected void init(){\n",
    "        this.name = \"Recursion\";\n",
    "        for(int n = 0; n < this.size; n++){\n",
    "            this.setData(this.calc(n));\n",
    "        }\n",
    "    }\n",
    "\n",
    "    public int calc(int n) {\n",
    "        if (n < 2) {\n",
    "            return n;\n",
    "        }\n",
    "        return this.calc(n-2) + this.calc(n-1);\n",
    "    }\n",
    "\n",
    "    static public void main(String[] args) {\n",
    "        FiboRecursiveLoop fib = new FiboRecursiveLoop();\n",
    "        fib.print();\n",
    "    }\n",
    "}\n",
    "FiboRecursiveLoop.main(null);"
   ]
  }
 ],
 "metadata": {
  "kernelspec": {
   "display_name": "Java",
   "language": "java",
   "name": "java"
  },
  "language_info": {
   "codemirror_mode": "java",
   "file_extension": ".jshell",
   "mimetype": "text/x-java-source",
   "name": "Java",
   "pygments_lexer": "java",
   "version": "11.0.16+8-post-Ubuntu-0ubuntu120.04"
  },
  "orig_nbformat": 4
 },
 "nbformat": 4,
 "nbformat_minor": 2
}
