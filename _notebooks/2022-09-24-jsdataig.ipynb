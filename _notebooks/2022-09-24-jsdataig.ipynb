{
 "cells": [
  {
   "cell_type": "markdown",
   "metadata": {},
   "source": [
    "# Rohan G JavaScript\n",
    "> Week 5 JS Data ig\n",
    "\n",
    "- toc: true \n",
    "- badges: true\n",
    "- comments: true\n",
    "- categories: [jupyter]\n",
    "- image: images/chart-preview.png"
   ]
  },
  {
   "cell_type": "code",
   "execution_count": 2,
   "metadata": {},
   "outputs": [
    {
     "name": "stdout",
     "output_type": "stream",
     "text": [
      "Hello, World!\n"
     ]
    }
   ],
   "source": [
    "var msg = \"Hello, World!\";\n",
    "console.log(msg)"
   ]
  },
  {
   "cell_type": "code",
   "execution_count": 3,
   "metadata": {},
   "outputs": [
    {
     "name": "stdout",
     "output_type": "stream",
     "text": [
      "Hello, World!\n"
     ]
    }
   ],
   "source": [
    "function logIt(output) {\n",
    "    console.log(output);\n",
    "}\n",
    "logIt(msg);"
   ]
  },
  {
   "cell_type": "code",
   "execution_count": 4,
   "metadata": {},
   "outputs": [
    {
     "name": "stdout",
     "output_type": "stream",
     "text": [
      "Looking at dynamic nature of types in JavaScript\n",
      "string ; hello\n",
      "number ; 2020\n",
      "object ; [ 1, 2, 3 ]\n"
     ]
    }
   ],
   "source": [
    "function logItType(output) {\n",
    "    console.log(typeof output, \";\", output);\n",
    "}\n",
    "console.log(\"Looking at dynamic nature of types in JavaScript\")\n",
    "logItType(\"hello\"); // String\n",
    "logItType(2020);    // Number\n",
    "logItType([1, 2, 3]);"
   ]
  },
  {
   "cell_type": "code",
   "execution_count": 5,
   "metadata": {},
   "outputs": [
    {
     "name": "stdout",
     "output_type": "stream",
     "text": [
      "object ; Event { name: 'Dynamic Planet', day: 'Friday', time: '5-6PM', role: '' }\n",
      "string ; {\"name\":\"Dynamic Planet\",\"day\":\"Friday\",\"time\":\"5-6PM\",\"role\":\"\"}\n",
      "object ; Event {\n",
      "  name: 'Dynamic Planet',\n",
      "  day: 'Friday',\n",
      "  time: '5-6PM',\n",
      "  role: 'Teacher' }\n",
      "string ; {\"name\":\"Dynamic Planet\",\"day\":\"Friday\",\"time\":\"5-6PM\",\"role\":\"Teacher\"}\n"
     ]
    }
   ],
   "source": [
    "function Event(name, day, time) {\n",
    "    this.name = name;\n",
    "    this.day = day;\n",
    "    this.time = time;\n",
    "    this.role = \"\";\n",
    "}\n",
    "\n",
    "// define a setter for role in Event data\n",
    "Event.prototype.setRole = function(role) {\n",
    "    this.role = role;\n",
    "}\n",
    "\n",
    "// define a JSON conversion \"method\" associated with Event\n",
    "Event.prototype.toJSON = function() {\n",
    "    const obj = {name: this.name, day: this.day, time: this.time, role: this.role};\n",
    "    const json = JSON.stringify(obj);  // json/string is useful when passing data on internet\n",
    "    return json;\n",
    "}\n",
    "\n",
    "// make a new Event and assign to variable geology\n",
    "var geology = new Event(\"Dynamic Planet\", \"Friday\", \"5-6PM\");  // object type is easy to work with in JavaScript\n",
    "logItType(geology);  // before role\n",
    "logItType(geology.toJSON());  // ok to do this even though role is not yet defined\n",
    "\n",
    "// output of Object and JSON/string associated with Teacher\n",
    "geology.setRole(\"Teacher\");   // set the role\n",
    "logItType(geology); \n",
    "logItType(geology.toJSON());"
   ]
  },
  {
   "cell_type": "code",
   "execution_count": 6,
   "metadata": {},
   "outputs": [
    {
     "name": "stdout",
     "output_type": "stream",
     "text": [
      "object ; [ Event {\n",
      "    name: 'Dynamic Planet',\n",
      "    day: 'Friday',\n",
      "    time: '5-6PM',\n",
      "    role: 'Best' },\n",
      "  Event {\n",
      "    name: 'Rocks and Minerals',\n",
      "    day: 'Tuesday',\n",
      "    time: '5-6PM',\n",
      "    role: 'mid' },\n",
      "  Event {\n",
      "    name: 'Astronomy',\n",
      "    day: 'Tuesday',\n",
      "    time: '6:30-8PM',\n",
      "    role: 'mid' },\n",
      "  Event {\n",
      "    name: 'Forestry',\n",
      "    day: 'Saturday',\n",
      "    time: '10-11AM',\n",
      "    role: 'mid' },\n",
      "  Event {\n",
      "    name: 'Green Generation',\n",
      "    day: 'Sunday',\n",
      "    time: '2-3PM',\n",
      "    role: 'mid' } ]\n",
      "string ; Dynamic Planet\n",
      "string ; {\"name\":\"Dynamic Planet\",\"day\":\"Friday\",\"time\":\"5-6PM\",\"role\":\"Best\"}\n",
      "object ; { name: 'Dynamic Planet',\n",
      "  day: 'Friday',\n",
      "  time: '5-6PM',\n",
      "  role: 'Best' }\n"
     ]
    }
   ],
   "source": [
    "var events = [ \n",
    "    new Event(\"Rocks and Minerals\", \"Tuesday\", \"5-6PM\"),\n",
    "    new Event(\"Astronomy\", \"Tuesday\", \"6:30-8PM\"),\n",
    "    new Event(\"Forestry\", \"Saturday\", \"10-11AM\"),\n",
    "    new Event(\"Green Generation\", \"Sunday\", \"2-3PM\"),\n",
    "];\n",
    "\n",
    "// define a classroom and build Classroom objects and json\n",
    "function Classroom(geology, events){ // 1 geology, many student\n",
    "    // start Classroom with Teacher\n",
    "    geology.setRole(\"Best\");\n",
    "    this.geology = geology;\n",
    "    this.classroom = [geology];\n",
    "    // add each Student to Classroom\n",
    "    this.events = events;\n",
    "    this.events.forEach(student => { student.setRole(\"mid\"); this.classroom.push(student); });\n",
    "    // build json/string format of Classroom\n",
    "    this.json = [];\n",
    "    this.classroom.forEach(Event => this.json.push(Event.toJSON()));\n",
    "}\n",
    "\n",
    "// make a CompSci classroom from formerly defined geology and events\n",
    "compsci = new Classroom(geology, events);\n",
    "\n",
    "// output of Objects and JSON in CompSci classroom\n",
    "logItType(compsci.classroom);  // constructed classroom object\n",
    "logItType(compsci.classroom[0].name);  // abstract 1st objects name\n",
    "logItType(compsci.json[0]);  // show json conversion of 1st object to string\n",
    "logItType(JSON.parse(compsci.json[0]));  // show JSON.parse inverse of JSON.stringify"
   ]
  },
  {
   "cell_type": "code",
   "execution_count": 7,
   "metadata": {},
   "outputs": [
    {
     "data": {
      "text/html": [
       "<div style='display:inline-block;border: 2px solid grey;box-shadow: 0.8em 0.4em 0.4em grey;'><table><tr><th><mark>Name</mark></th><th><mark>Day</mark></th><th><mark>Time</mark></th><th><mark>Role</mark></th></tr><tr><td>Dynamic Planet</td><td>Friday</td><td>5-6PM</td><td>Best</td><tr><tr><td>Rocks and Minerals</td><td>Tuesday</td><td>5-6PM</td><td>mid</td><tr><tr><td>Astronomy</td><td>Tuesday</td><td>6:30-8PM</td><td>mid</td><tr><tr><td>Forestry</td><td>Saturday</td><td>10-11AM</td><td>mid</td><tr><tr><td>Green Generation</td><td>Sunday</td><td>2-3PM</td><td>mid</td><tr></table></div>"
      ]
     },
     "execution_count": 7,
     "metadata": {},
     "output_type": "execute_result"
    }
   ],
   "source": [
    "// define an HTML conversion \"method\" associated with Classroom\n",
    "Classroom.prototype._toHtml = function() {\n",
    "    // HTML Style is build using inline structure\n",
    "    var style = (\n",
    "      \"display:inline-block;\" +\n",
    "      \"border: 2px solid grey;\" +\n",
    "      \"box-shadow: 0.8em 0.4em 0.4em grey;\"\n",
    "    );\n",
    "  \n",
    "    // HTML Body of Table is build as a series of concatenations (+=)\n",
    "    var body = \"\";\n",
    "    // Heading for Array Columns\n",
    "    body += \"<tr>\";\n",
    "    body += \"<th><mark>\" + \"Name\" + \"</mark></th>\";\n",
    "    body += \"<th><mark>\" + \"Day\" + \"</mark></th>\";\n",
    "    body += \"<th><mark>\" + \"Time\" + \"</mark></th>\";\n",
    "    body += \"<th><mark>\" + \"Role\" + \"</mark></th>\";\n",
    "    body += \"</tr>\";\n",
    "    // Data of Array, iterate through each row of compsci.classroom \n",
    "    for (var row in compsci.classroom) {\n",
    "      // tr for each row, a new line\n",
    "      body += \"<tr>\";\n",
    "      // td for each column of data\n",
    "      body += \"<td>\" + compsci.classroom[row].name + \"</td>\";\n",
    "      body += \"<td>\" + compsci.classroom[row].day + \"</td>\";\n",
    "      body += \"<td>\" + compsci.classroom[row].time + \"</td>\";\n",
    "      body += \"<td>\" + compsci.classroom[row].role + \"</td>\";\n",
    "      // tr to end line\n",
    "      body += \"<tr>\";\n",
    "    }\n",
    "  \n",
    "     // Build and HTML fragment of div, table, table body\n",
    "    return (\n",
    "      \"<div style='\" + style + \"'>\" +\n",
    "        \"<table>\" +\n",
    "          body +\n",
    "        \"</table>\" +\n",
    "      \"</div>\"\n",
    "    );\n",
    "  \n",
    "  };\n",
    "  \n",
    "  // IJavaScript HTML processor receive parameter of defined HTML fragment\n",
    "  $$.html(compsci._toHtml());"
   ]
  },
  {
   "cell_type": "code",
   "execution_count": 8,
   "metadata": {},
   "outputs": [
    {
     "ename": "ReferenceError",
     "evalue": "document is not defined",
     "output_type": "error",
     "traceback": [
      "evalmachine.<anonymous>:1",
      "const resultContainer = document.getElementById(\"result\");",
      "                                 ^",
      "",
      "ReferenceError: document is not defined",
      "    at evalmachine.<anonymous>:1:34",
      "    at ContextifyScript.Script.runInThisContext (vm.js:25:33)",
      "    at Object.runInThisContext (vm.js:97:38)",
      "    at run ([eval]:1020:15)",
      "    at onRunRequest ([eval]:864:18)",
      "    at onMessage ([eval]:828:13)",
      "    at emitTwo (events.js:106:13)",
      "    at process.emit (events.js:191:7)",
      "    at process.nextTick (internal/child_process.js:758:12)",
      "    at _combinedTickCallback (internal/process/next_tick.js:73:7)"
     ]
    }
   ],
   "source": [
    "const resultContainer = console.getElementById(\"result\");\n",
    "for (const row of data) {\n",
    "    // tr for each row\n",
    "    const tr = console.createElement(\"tr\");\n",
    "    // td for each column\n",
    "    const name = console.createElement(\"td\");\n",
    "    const day = console.createElement(\"td\");\n",
    "    const time = console.createElement(\"td\");\n",
    "    const role = console.createElement(\"td\");\n",
    "    // data is specific to the API\n",
    "    name.innerHTML = row.name;\n",
    "    day.innerHTML = row.day; \n",
    "    time.innerHTML = row.time; \n",
    "    role.innerHTML = row.role; \n",
    "    // this build td's into tr\n",
    "    tr.appendChild(name);\n",
    "    tr.appendChild(day);\n",
    "    tr.appendChild(time);\n",
    "    tr.appendChild(role);\n",
    "    // add HTML to container\n",
    "    resultContainer.appendChild(tr);\n",
    "}"
   ]
  },
  {
   "cell_type": "code",
   "execution_count": null,
   "metadata": {},
   "outputs": [],
   "source": [
    "let score = 0\n",
    "let total = 0\n",
    "let count = 0\n",
    "let correct = 0\n",
    "class Jeopardy {\n",
    "    constructor(question, answer, point) {\n",
    "        this.question = question;\n",
    "        this.answer = answer;\n",
    "        this.point = point;\n",
    "    }\n",
    "    CheckAnswer(guess) {\n",
    "        return guess === this.answer\n",
    "    }\n",
    "}\n",
    "let q1 = new Jeopardy('What is the capital of Chile?', 'Santiago', 2);\n",
    "let q2 = new Jeopardy('What is the capital of France?', 'Paris', 1);\n",
    "let q3 = new Jeopardy('What is the capital of Czech Republic?', 'Prague', 2);\n",
    "let q4 = new Jeopardy('What is the capital of Portugal?', 'Lisbon', 2);\n",
    "let q5 = new Jeopardy('What is the capital of Ethiopia?', 'Addis Ababa', 2);\n",
    "let q6 = new Jeopardy('Who is the President of the United States?', 'Joe Biden', 1);\n",
    "let q7 = new Jeopardy('Who is the leader of Russia?', 'Vladimir Putin', 1);\n",
    "let q8 = new Jeopardy('What is the capital of the United States?', 'Washington DC', 1);\n",
    "let q9 = new Jeopardy('What country is being invaded by Russia?', 'Ukraine', 2);\n",
    "\n",
    "\n",
    "const qarray = [q1, q2, q3, q4, q5, q6, q7, q8, q9]\n",
    "\n",
    "function QNA(number) {\n",
    "    for (let i = 0; i < number; i++) {\n",
    "        const randomValue = qarray[Math.floor(Math.random() * qarray.length)];\n",
    "        var index = qarray.indexOf(randomValue);\n",
    "        if (index > -1) {\n",
    "            qarray.splice(index, 1);\n",
    "        }\n",
    "        let guess = prompt(randomValue.question + \" Points: \" + randomValue.point);\n",
    "        count = count + 1\n",
    "        total = total + randomValue.point\n",
    "        if (randomValue.CheckAnswer(guess)) {\n",
    "            score = score + randomValue.point;\n",
    "            correct = correct + 1\n",
    "            console.getElementById('answer').innerHTML = \"Well Done!\";\n",
    "            console.getElementById('score').innerHTML = \"Your score is \" + score + \"/\" + total;\n",
    "            console.getElementById('correct').innerHTML = \"You got \" + correct + \" questions correct out of \" + count;\n",
    "        }\n",
    "        else {\n",
    "            console.getElementById('answer').innerHTML = \"Nice Try!\";\n",
    "            console.getElementById('score').innerHTML = \"Your score is \" + score + \"/\" + total;\n",
    "            console.getElementById('correct').innerHTML = \"Sorry, you have gotten \" + correct + \" questions correct out of \" + count;\n",
    "        }\n",
    "        }\n",
    "}\n",
    "function Tester() {\n",
    "\n",
    "}"
   ]
  }
 ],
 "metadata": {
  "kernelspec": {
   "display_name": "JavaScript (Node.js)",
   "language": "javascript",
   "name": "javascript"
  },
  "language_info": {
   "file_extension": ".js",
   "mimetype": "application/javascript",
   "name": "javascript",
   "version": "6.11.2"
  },
  "orig_nbformat": 4
 },
 "nbformat": 4,
 "nbformat_minor": 2
}
