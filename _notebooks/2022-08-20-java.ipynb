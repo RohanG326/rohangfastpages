{
 "cells": [
  {
   "cell_type": "markdown",
   "metadata": {},
   "source": [
    "# Java Jupyter Notebook\n",
    "> Jupyter Notebook for Java\n",
    "\n",
    "- title: Java Jupyter Notebook\n",
    "- toc: false\n",
    "- categories: [jupyter]"
   ]
  },
  {
   "cell_type": "code",
   "execution_count": 3,
   "id": "923ef020-ee63-466c-975b-6c42de171067",
   "metadata": {},
   "outputs": [
    {
     "name": "stdout",
     "output_type": "stream",
     "text": [
      "Hello World!\n"
     ]
    }
   ],
   "source": [
    "public class HelloMonkey {\n",
    "    public static void main(String[] args) {\n",
    "        System.out.println("Hello Monkey!");\n",
    "    }\n",
    "}\n",
    "\n",
    "HelloMonkey.main(null);"
   ]
  },
  {
   "cell_type": "code",
   "execution_count": null,
   "id": "5716a98b-b95b-4b4b-8510-275f82a38a0a",
   "metadata": {},
   "outputs": [],
   "source": []
  }
 ],
 "metadata": {
  "kernelspec": {
   "display_name": "Java",
   "language": "java",
   "name": "java"
  },
  "language_info": {
   "codemirror_mode": "java",
   "file_extension": ".jshell",
   "mimetype": "text/x-java-source",
   "name": "Java",
   "pygments_lexer": "java",
   "version": "11.0.16+8-post-Ubuntu-0ubuntu120.04"
  }
 },
 "nbformat": 4,
 "nbformat_minor": 5
}
