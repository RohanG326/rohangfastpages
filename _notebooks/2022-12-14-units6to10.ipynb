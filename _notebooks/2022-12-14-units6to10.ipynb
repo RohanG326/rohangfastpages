{
 "cells": [
  {
   "attachments": {},
   "cell_type": "markdown",
   "metadata": {},
   "source": [
    "# Rohan G Units 6-10 Vocabulary Terms\n",
    "> Week 16 Units 6-10 Vocab Terms Blog\n",
    "\n",
    "- toc: true \n",
    "- badges: true\n",
    "- comments: true\n",
    "- categories: [jupyter]\n",
    "- image: images/chart-preview.png"
   ]
  },
  {
   "attachments": {},
   "cell_type": "markdown",
   "metadata": {},
   "source": [
    "| Unit | Score | Homework and Notes |\n",
    "| --- | --- | ------ |\n",
    "| 6 | 0.9 | [link](https://rohang326.github.io/rohangfastpages/jupyter/2022/10/25/cbunit6.html) |\n",
    "| 7 | 0.95 | [link](https://rohang326.github.io/rohangfastpages/jupyter/2022/12/05/cbunit7.html) |\n",
    "| 8 | 1.1 | [link](https://rohang326.github.io/rohangfastpages/jupyter/2022/12/06/cbunit8.html) |\n",
    "| 9 | 0.95 | [link](https://rohang326.github.io/rohangfastpages/jupyter/2022/12/12/cbunit9.html) |\n",
    "| 10 | 0.95 | Was MC submitted on google form |\n",
    "\n",
    "Overall: 5.85/6"
   ]
  },
  {
   "attachments": {},
   "cell_type": "markdown",
   "metadata": {},
   "source": [
    "## Polymorphism\n",
    "- Polymorphism can be used when we have multiple classes that are related by inheritance. It is utilized when a method is implemented to perform different tasks in different classes. It essentially allows a method to take on multiple “forms” or implementations based on the specific object it is acting upon.\n",
    "- Polymorphism is useful for code reusability, as it re-implements an existing class’s attributes and methods for new classes. A real life example of polymorphism could be a sport. A sport can take on different forms, as it can be soccer, basketball, baseball, etc.\n"
   ]
  },
  {
   "attachments": {},
   "cell_type": "markdown",
   "metadata": {},
   "source": [
    "### Inheritance and Extends with Examples of Subclass and Super Keyword\n",
    "Inheritance in Java is the method to create a hierarchy between classes by inheriting from other classes."
   ]
  },
  {
   "cell_type": "code",
   "execution_count": null,
   "metadata": {},
   "outputs": [],
   "source": [
    "public class Animal {\n",
    "\n",
    "\tprivate String eats;\n",
    "\n",
    "\tprivate int numLegs;\n",
    "\n",
    "\tpublic Animal(){}\n",
    "\n",
    "\tpublic Animal(String food, int legs){\n",
    "\t\tthis.eats = food;\n",
    "\t\tthis.numLegs = legs;\n",
    "\t}\n",
    "\n",
    "\tpublic String getEats() {\n",
    "\t\treturn eats;\n",
    "\t}\n",
    "\n",
    "\tpublic void setEats(String eats) {\n",
    "\t\tthis.eats = eats;\n",
    "\t}\n",
    "\n",
    "\tpublic int getNumLegs() {\n",
    "\t\treturn numLegs;\n",
    "\t}\n",
    "\n",
    "\tpublic void setNumLegs(int numLegs) {\n",
    "\t\tthis.numLegs = numLegs;\n",
    "\t}\n",
    "}\n"
   ]
  },
  {
   "cell_type": "code",
   "execution_count": null,
   "metadata": {},
   "outputs": [],
   "source": [
    "public class Cat extends Animal{\n",
    "\n",
    "\tprivate String toy;\n",
    "\n",
    "\tpublic Cat( String food, int legs) {\n",
    "\t\tsuper(food, legs);\n",
    "\t\tthis.toy=\"String\";\n",
    "\t}\n",
    "\n",
    "\tpublic Cat(String food, int legs, String toy){\n",
    "\t\tsuper(food, legs);\n",
    "\t\tthis.toy=toy;\n",
    "\t}\n",
    "\n",
    "\tpublic String getToy() {\n",
    "\t\treturn toy;\n",
    "\t}\n",
    "\n",
    "\tpublic void setToy(String toy) {\n",
    "\t\tthis.toy = toy;\n",
    "\t}\n",
    "\n",
    "}\n"
   ]
  },
  {
   "attachments": {},
   "cell_type": "markdown",
   "metadata": {},
   "source": [
    "### Access Modifiers \n",
    "- Restrict the scope of a class, constructor, variable, method, or data member. \n",
    "- Types: default, private, protected, and public. "
   ]
  },
  {
   "cell_type": "code",
   "execution_count": null,
   "metadata": {},
   "outputs": [],
   "source": [
    "void HelloWorldDefault(){\n",
    "    System.out.println(\"Hello World\");\n",
    "}\n",
    "\n",
    "public void HelloWorldPublic(){\n",
    "    System.out.println(\"Hello World\");\n",
    "}\n",
    "\n",
    "private void HelloWorldPrivate(){\n",
    "    System.out.println(\"Hello World\");\n",
    "}\n",
    "\n",
    "protected void HelloWorldProtected(){\n",
    "    System.out.println(\"Hello World\");\n",
    "}"
   ]
  },
  {
   "attachments": {},
   "cell_type": "markdown",
   "metadata": {},
   "source": [
    "### Accessor and Mutator Methods \n",
    "- instance method that gets or sets the value of a property of an object.\n",
    "- Getters and setters are accessor and mutator methods to retrieve and set data of a variable, respectively\n",
    "- accessors access the predetermined data\n",
    "- mutators change the data to set new predetermined data"
   ]
  },
  {
   "cell_type": "code",
   "execution_count": null,
   "metadata": {},
   "outputs": [],
   "source": [
    "public class Person {\n",
    "    private String name; // private = restricted access\n",
    "  \n",
    "    // Getter\n",
    "    public String getName() {\n",
    "      return name;\n",
    "    }\n",
    "  \n",
    "    // Setter\n",
    "    public void setName(String newName) {\n",
    "      this.name = newName;\n",
    "    }\n",
    "  }"
   ]
  }
 ],
 "metadata": {
  "kernelspec": {
   "display_name": "Java",
   "language": "java",
   "name": "java"
  },
  "language_info": {
   "name": "java"
  },
  "orig_nbformat": 4
 },
 "nbformat": 4,
 "nbformat_minor": 2
}
