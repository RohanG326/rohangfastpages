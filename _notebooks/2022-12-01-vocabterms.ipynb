{
 "cells": [
  {
   "cell_type": "markdown",
   "metadata": {},
   "source": [
    "# Rohan G Units 1-5 Vocabulary Terms\n",
    "> Week 14 Units 1-5 Vocab Terms Blog\n",
    "\n",
    "- toc: true \n",
    "- badges: true\n",
    "- comments: true\n",
    "- categories: [jupyter]\n",
    "- image: images/chart-preview.png"
   ]
  },
  {
   "cell_type": "markdown",
   "metadata": {},
   "source": [
    "| Unit | Score | Homework and Notes |\n",
    "| --- | --- | ------ |\n",
    "| 1 | 0.85 | [link](https://rohang326.github.io/rohangfastpages/jupyter/2022/10/12/cbunit1.html) |\n",
    "| 2 | 0.95 | [link](https://rohang326.github.io/rohangfastpages/jupyter/2022/10/14/cbunit2.html) |\n",
    "| 3 | 0.93 | [link](https://rohang326.github.io/rohangfastpages/jupyter/2022/10/17/cbunit3.html) |\n",
    "| 4 | Ours(2/2) | [link](https://rohang326.github.io/rohangfastpages/college%20board/units/2022/10/18/Unit-4-Iteration.html) |\n",
    "| 5 | 0.9 | [link](https://rohang326.github.io/rohangfastpages/jupyter/2022/10/19/cbunit5.html) |\n",
    "\n",
    "Overall: 5.63/6"
   ]
  },
  {
   "cell_type": "markdown",
   "metadata": {},
   "source": [
    "## Most notes are embedded within each lesson for units 1-5, but here are the terms I was unsure where to put in a unit blog"
   ]
  },
  {
   "cell_type": "markdown",
   "metadata": {},
   "source": [
    "# Terms\n",
    "### Casting (Division)\n",
    "- when you assign a value of one primitive data type to another type\n",
    "- it is necessary in dividing two integers otherwise the two int types divided will just default to the lower number without a decimal so '0' as a double which becomes '0.0'"
   ]
  },
  {
   "cell_type": "code",
   "execution_count": 1,
   "metadata": {},
   "outputs": [
    {
     "name": "stdout",
     "output_type": "stream",
     "text": [
      "Without Cast: 0.0\n",
      "With Cast: 0.4444444444444444\n"
     ]
    }
   ],
   "source": [
    "int top = 4;\n",
    "int bottom = 9;\n",
    "double division = top / bottom;\n",
    "System.out.println(\"Without Cast: \"+ division);\n",
    "double division = ((double) top) / bottom;\n",
    "System.out.println(\"With Cast: \"+ division);\n"
   ]
  },
  {
   "cell_type": "markdown",
   "metadata": {},
   "source": [
    "### Casting (Truncating and Rounding)\n",
    "- when we cast a double to an integer, it truncates every decimal value and only retrieves the int"
   ]
  },
  {
   "cell_type": "code",
   "execution_count": 2,
   "metadata": {},
   "outputs": [
    {
     "name": "stdout",
     "output_type": "stream",
     "text": [
      "Non-truncated: 6.999999356291484\n",
      "Casted and Truncated:6\n"
     ]
    }
   ],
   "source": [
    "double blah = 6.99999935629148437124097925792348972398472983749283749823749832478923;\n",
    "System.out.println(\"Non-truncated: \" + blah);\n",
    "int blahhehe = (int) blah;\n",
    "System.out.println(\"Casted and Truncated:\" + blahhehe);\n"
   ]
  },
  {
   "cell_type": "markdown",
   "metadata": {},
   "source": [
    "### Concatenation \n",
    "- combining strings or other variables"
   ]
  },
  {
   "cell_type": "code",
   "execution_count": 15,
   "metadata": {},
   "outputs": [
    {
     "name": "stdout",
     "output_type": "stream",
     "text": [
      "monkey adi\n",
      "5 monkey adis\n"
     ]
    }
   ],
   "source": [
    "String blah1 = \"monkey \";\n",
    "String blah2 = \"adi\";\n",
    "\n",
    "System.out.println(blah1+blah2);\n",
    "\n",
    "String monkey = blah1 + blah2 ;\n",
    "int blah = 5;\n",
    "\n",
    "System.out.println(blah + \" \" + (monkey) + \"s\");"
   ]
  },
  {
   "cell_type": "markdown",
   "metadata": {},
   "source": [
    "### Java Math Class\n",
    "- basic class in java that contains math functions and common math values such as pi. \n",
    "- Called using Math.\"\" \n",
    "- Other functions include trig functions, log functions, and the random function. "
   ]
  },
  {
   "cell_type": "code",
   "execution_count": 17,
   "metadata": {},
   "outputs": [
    {
     "name": "stdout",
     "output_type": "stream",
     "text": [
      "random: 0.8588897550824057\n",
      "Cos: 0.6532784567335359\n",
      "Log: -0.15211470623265586\n",
      "Square Root: 0.926763052285969\n"
     ]
    }
   ],
   "source": [
    "\n",
    "import java.lang.Math;//must be imported at start of program\n",
    "double rand = Math.random();\n",
    "System.out.println(\"random: \" + rand);\n",
    "System.out.println(\"Cos: \" + Math.cos(rand));\n",
    "System.out.println(\"Log: \" + Math.log(rand));\n",
    "System.out.println(\"Square Root: \" + Math.sqrt(rand));"
   ]
  },
  {
   "cell_type": "markdown",
   "metadata": {},
   "source": [
    "### Truth Table\n",
    "- just displays basic logic in a table format given the 4 different combinations of \"a\" and \"b\""
   ]
  },
  {
   "cell_type": "markdown",
   "metadata": {},
   "source": [
    "### De Morgan’s Law\n",
    "- shows that you can flip the operators of a boolean to return the same thing\n",
    "- switches && to || and ! to nothing and vice versa"
   ]
  },
  {
   "cell_type": "code",
   "execution_count": 22,
   "metadata": {},
   "outputs": [
    {
     "data": {
      "text/plain": [
       "true"
      ]
     },
     "execution_count": 22,
     "metadata": {},
     "output_type": "execute_result"
    }
   ],
   "source": [
    "boolean a = true;\n",
    "boolean b = false;\n",
    "!(a && b) == (!a || !b);\n",
    "!(a || b) == (!a && !b);"
   ]
  },
  {
   "cell_type": "markdown",
   "metadata": {},
   "source": [
    "### Comparing Numbers\n",
    "- == compares numbers"
   ]
  },
  {
   "cell_type": "code",
   "execution_count": 23,
   "metadata": {},
   "outputs": [
    {
     "name": "stdout",
     "output_type": "stream",
     "text": [
      "true\n",
      "false\n"
     ]
    }
   ],
   "source": [
    "int x = 1;\n",
    "int y = 1;\n",
    "int z = x + 2;\n",
    "\n",
    "if(x == y){\n",
    "    System.out.println(\"true\");\n",
    "}else{\n",
    "    System.out.println(\"false\");\n",
    "}\n",
    "\n",
    "if(x == z){\n",
    "    System.out.println(\"true\");\n",
    "}else{\n",
    "    System.out.println(\"false\");\n",
    "}\n"
   ]
  },
  {
   "cell_type": "markdown",
   "metadata": {},
   "source": [
    "### Comparing Strings\n",
    "comparing strings is done through the .equals operator"
   ]
  },
  {
   "cell_type": "code",
   "execution_count": null,
   "metadata": {},
   "outputs": [
    {
     "name": "stdout",
     "output_type": "stream",
     "text": [
      "true\n",
      "false\n"
     ]
    }
   ],
   "source": [
    "let score = 0\n",
    "let total = 0\n",
    "let count = 0\n",
    "let correct = 0\n",
    "class Jeopardy {\n",
    "    constructor(question, answer, point) {\n",
    "        this.question = question;\n",
    "        this.answer = answer;\n",
    "        this.point = point;\n",
    "    }\n",
    "// REAL BIG BOY IMPLEMENTATION!!!\n",
    "    CheckAnswer(guess) {\n",
    "        return guess === this.answer\n",
    "    }\n",
    "// WOO BIG BOY IMPLEMENTATION RIGHT HERE\n",
    "}\n",
    "let q1 = new Jeopardy('What is the capital of Chile?', 'Santiago', 2);\n",
    "let q2 = new Jeopardy('What is the capital of France?', 'Paris', 1);\n",
    "let q3 = new Jeopardy('What is the capital of Czech Republic?', 'Prague', 2);\n",
    "let q4 = new Jeopardy('What is the capital of Portugal?', 'Lisbon', 2);\n",
    "let q5 = new Jeopardy('What is the capital of Ethiopia?', 'Addis Ababa', 2);\n",
    "let q6 = new Jeopardy('Who is the President of the United States?', 'Joe Biden', 1);\n",
    "let q7 = new Jeopardy('Who is the leader of Russia?', 'Vladimir Putin', 1);\n",
    "let q8 = new Jeopardy('What is the capital of the United States?', 'Washington DC', 1);\n",
    "let q9 = new Jeopardy('What country is being invaded by Russia?', 'Ukraine', 2);\n",
    "\n",
    "\n",
    "const qarray = [q1, q2, q3, q4, q5, q6, q7, q8, q9]\n",
    "\n",
    "function QNA(number) {\n",
    "    for (let i = 0; i < number; i++) {\n",
    "        const randomValue = qarray[Math.floor(Math.random() * qarray.length)];\n",
    "        var index = qarray.indexOf(randomValue);\n",
    "        if (index > -1) {\n",
    "            qarray.splice(index, 1);\n",
    "        }\n",
    "        let guess = prompt(randomValue.question + \" Points: \" + randomValue.point);\n",
    "        count = count + 1\n",
    "        total = total + randomValue.point\n",
    "        if (randomValue.CheckAnswer(guess)) {\n",
    "            score = score + randomValue.point;\n",
    "            correct = correct + 1\n",
    "            console.getElementById('answer').innerHTML = \"Well Done!\";\n",
    "            console.getElementById('score').innerHTML = \"Your score is \" + score + \"/\" + total;\n",
    "            console.getElementById('correct').innerHTML = \"You got \" + correct + \" questions correct out of \" + count;\n",
    "        }\n",
    "        else {\n",
    "            console.getElementById('answer').innerHTML = \"Nice Try!\";\n",
    "            console.getElementById('score').innerHTML = \"Your score is \" + score + \"/\" + total;\n",
    "            console.getElementById('correct').innerHTML = \"Sorry, you have gotten \" + correct + \" questions correct out of \" + count;\n",
    "        }\n",
    "        }\n",
    "}\n",
    "function Tester() {\n",
    "\n",
    "}"
   ]
  },
  {
   "cell_type": "markdown",
   "metadata": {},
   "source": [
    "### Comparing Objects\n",
    "- same as primitives \"==\""
   ]
  },
  {
   "cell_type": "code",
   "execution_count": 26,
   "metadata": {},
   "outputs": [
    {
     "name": "stdout",
     "output_type": "stream",
     "text": [
      "true\n",
      "false\n"
     ]
    }
   ],
   "source": [
    "String x = new String(\"blah2\");\n",
    "String y = new String(\"blah2\");\n",
    "String z = new String(\"blah5\");\n",
    "x=y;\n",
    "\n",
    "if(x == y){\n",
    "    System.out.println(\"true\");\n",
    "}else{\n",
    "    System.out.println(\"false\");\n",
    "}\n",
    "\n",
    "if(z == x){\n",
    "    System.out.println(\"true\");\n",
    "}else{\n",
    "    System.out.println(\"false\");\n",
    "}\n"
   ]
  },
  {
   "cell_type": "markdown",
   "metadata": {},
   "source": [
    "### Constructors \n",
    "- constructors are an implicit statement done within the class that does not return a value"
   ]
  },
  {
   "cell_type": "markdown",
   "metadata": {},
   "source": [
    "### Accessor and Mutator Methods \n",
    "- instance method that gets or sets the value of a property of an object.\n",
    "- Getters and setters are accessor and mutator methods to retrieve and set data of a variable, respectively\n",
    "- accessors access the predetermined data\n",
    "- mutators change the data to set new predetermined data"
   ]
  },
  {
   "cell_type": "code",
   "execution_count": null,
   "metadata": {},
   "outputs": [],
   "source": [
    "public class Person {\n",
    "    private String name; // private = restricted access\n",
    "  \n",
    "    // Getter\n",
    "    public String getName() {\n",
    "      return name;\n",
    "    }\n",
    "  \n",
    "    // Setter\n",
    "    public void setName(String newName) {\n",
    "      this.name = newName;\n",
    "    }\n",
    "  }"
   ]
  },
  {
   "cell_type": "markdown",
   "metadata": {},
   "source": [
    "### Access Modifiers \n",
    "- Restrict the scope of a class, constructor, variable, method, or data member. \n",
    "- Types: default, private, protected, and public. "
   ]
  },
  {
   "cell_type": "code",
   "execution_count": 28,
   "metadata": {},
   "outputs": [],
   "source": [
    "void HelloWorldDefault(){\n",
    "    System.out.println(\"Hello World\");\n",
    "}\n",
    "\n",
    "public void HelloWorldPublic(){\n",
    "    System.out.println(\"Hello World\");\n",
    "}\n",
    "\n",
    "private void HelloWorldPrivate(){\n",
    "    System.out.println(\"Hello World\");\n",
    "}\n",
    "\n",
    "protected void HelloWorldProtected(){\n",
    "    System.out.println(\"Hello World\");\n",
    "}"
   ]
  },
  {
   "cell_type": "markdown",
   "metadata": {},
   "source": [
    "### Inheritance and Extends with Examples of Subclass and Super Keyword\n",
    "Inheritance in Java is the method to create a hierarchy between classes by inheriting from other classes."
   ]
  },
  {
   "cell_type": "code",
   "execution_count": 32,
   "metadata": {},
   "outputs": [],
   "source": [
    "public class Animal {\n",
    "\n",
    "\tprivate String eats;\n",
    "\n",
    "\tprivate int numLegs;\n",
    "\n",
    "\tpublic Animal(){}\n",
    "\n",
    "\tpublic Animal(String food, int legs){\n",
    "\t\tthis.eats = food;\n",
    "\t\tthis.numLegs = legs;\n",
    "\t}\n",
    "\n",
    "\tpublic String getEats() {\n",
    "\t\treturn eats;\n",
    "\t}\n",
    "\n",
    "\tpublic void setEats(String eats) {\n",
    "\t\tthis.eats = eats;\n",
    "\t}\n",
    "\n",
    "\tpublic int getNumLegs() {\n",
    "\t\treturn numLegs;\n",
    "\t}\n",
    "\n",
    "\tpublic void setNumLegs(int numLegs) {\n",
    "\t\tthis.numLegs = numLegs;\n",
    "\t}\n",
    "}\n"
   ]
  },
  {
   "cell_type": "code",
   "execution_count": 35,
   "metadata": {},
   "outputs": [],
   "source": [
    "public class Cat extends Animal{\n",
    "\n",
    "\tprivate String toy;\n",
    "\n",
    "\tpublic Cat( String food, int legs) {\n",
    "\t\tsuper(food, legs);\n",
    "\t\tthis.toy=\"String\";\n",
    "\t}\n",
    "\n",
    "\tpublic Cat(String food, int legs, String toy){\n",
    "\t\tsuper(food, legs);\n",
    "\t\tthis.toy=toy;\n",
    "\t}\n",
    "\n",
    "\tpublic String getToy() {\n",
    "\t\treturn toy;\n",
    "\t}\n",
    "\n",
    "\tpublic void setToy(String toy) {\n",
    "\t\tthis.toy = toy;\n",
    "\t}\n",
    "\n",
    "}\n"
   ]
  },
  {
   "cell_type": "markdown",
   "metadata": {},
   "source": [
    "### Method Overloading\n",
    "- classes can have two methods with the same name with one having more parameters"
   ]
  },
  {
   "cell_type": "code",
   "execution_count": 1,
   "metadata": {},
   "outputs": [],
   "source": [
    "public class Concat {\n",
    "    String concat(String blah, String blah2){\n",
    "        String blahblah = blah + blah2;\n",
    "        return blahblah;\n",
    "    }\n",
    "\n",
    "    String concat(String blah, String blah2, String blah3){\n",
    "        String blahblah = blah + blah2 + blah3;\n",
    "        return blahblah;\n",
    "    }\n",
    "}\n",
    "//no errors "
   ]
  }
 ],
 "metadata": {
  "kernelspec": {
   "display_name": "Java",
   "language": "java",
   "name": "java"
  },
  "language_info": {
   "codemirror_mode": "java",
   "file_extension": ".jshell",
   "mimetype": "text/x-java-source",
   "name": "java",
   "pygments_lexer": "java",
   "version": "11.0.16+8-post-Ubuntu-0ubuntu120.04"
  },
  "orig_nbformat": 4
 },
 "nbformat": 4,
 "nbformat_minor": 2
}
