{
 "cells": [
  {
   "cell_type": "markdown",
   "metadata": {},
   "source": [
    "# Unit 07 Arraylists\n",
    "> Documentation of Arraylists\n",
    "\n",
    "- toc: true \n",
    "- badges: true\n",
    "- comments: true\n",
    "- categories: [jupyter]\n",
    "- image: images/chart-preview.png"
   ]
  },
  {
   "cell_type": "markdown",
   "metadata": {},
   "source": [
    "First you have to import the java arraylist. This is done by:\n",
    "```java\n",
    "import java.util.ArrayList; \n",
    "```\n",
    "Then you can create the arraylist"
   ]
  },
  {
   "cell_type": "markdown",
   "metadata": {},
   "source": [
    "One of the best things about arraylists is that you can add and remove elements from the arraylist after you initialize it. This means that the length of the arraylist can change after you create it, unlike in arrays. "
   ]
  },
  {
   "cell_type": "code",
   "execution_count": 37,
   "metadata": {
    "vscode": {
     "languageId": "java"
    }
   },
   "outputs": [
    {
     "name": "stdout",
     "output_type": "stream",
     "text": [
      "Number of elements: 4\n",
      "Aadit\n",
      "Adi\n",
      "Soma\n",
      "Tianbin\n"
     ]
    }
   ],
   "source": [
    "import java.util.ArrayList; // import the ArrayList class\n",
    "\n",
    "ArrayList<String> names = new ArrayList<String>();\n",
    "names.add(\"Aadit\");//adding values to list\n",
    "names.add(\"Adi\");\n",
    "names.add(\"Soma\");\n",
    "names.add(\"Tianbin\");\n",
    "System.out.println(\"Number of elements: \" +names.size());//prints the number of elements in the arraylist\n",
    "\n",
    "for(int i = 0;i<names.size();i++){\n",
    "System.out.println(names.get(i));//printing all values in list using for loop\n",
    "}\n",
    "\n"
   ]
  },
  {
   "cell_type": "markdown",
   "metadata": {},
   "source": [
    "# Accessing Elements\n",
    "To access an element in an arraylist, you use the get() method. Inside the method, put the index of element that you are trying to access(remember the arraylist starts at index 0)."
   ]
  },
  {
   "cell_type": "code",
   "execution_count": 36,
   "metadata": {
    "vscode": {
     "languageId": "java"
    }
   },
   "outputs": [
    {
     "name": "stdout",
     "output_type": "stream",
     "text": [
      "0\n",
      "1\n",
      "4\n",
      "9\n",
      "16\n",
      "25\n",
      "36\n",
      "49\n",
      "64\n",
      "81\n"
     ]
    }
   ],
   "source": [
    "ArrayList<Integer> nums = new ArrayList<Integer>();//making list\n",
    "\n",
    "for(int i = 0;i<10;i++){\n",
    "    nums.add(i);//adding value\n",
    "    }\n",
    "\n",
    "\n",
    "for(int i = 0;i<nums.size();i++){\n",
    "    nums.set(i,i*i);//cool way of squaring all the values. \n",
    "    System.out.println(nums.get(i));//printing these values\n",
    "}"
   ]
  },
  {
   "cell_type": "markdown",
   "metadata": {},
   "source": [
    "# Modifying Elements Inside an Arraylist\n",
    "As shown above in the code block, to modify or change code from elements that have already been set, use the set() method. The set method takes two parameters. The first parameter is the index that you are trying to modify. The second parameter is the value that you are giving the index in the first parameter"
   ]
  },
  {
   "cell_type": "code",
   "execution_count": null,
   "metadata": {
    "vscode": {
     "languageId": "java"
    }
   },
   "outputs": [],
   "source": [
    "//Examples:\n",
    "nums.set(0,100);\n",
    "names.set(1,\"John\");\n",
    "letters.set(3,'D');"
   ]
  },
  {
   "cell_type": "markdown",
   "metadata": {},
   "source": [
    "# Removing and Clearing Elements"
   ]
  },
  {
   "cell_type": "code",
   "execution_count": 35,
   "metadata": {
    "vscode": {
     "languageId": "java"
    }
   },
   "outputs": [
    {
     "name": "stdout",
     "output_type": "stream",
     "text": [
      "10\n",
      "9\n",
      "false\n",
      "0\n",
      "true\n"
     ]
    }
   ],
   "source": [
    "\n",
    "ArrayList<Integer> nums = new ArrayList<Integer>();\n",
    "\n",
    "for(int i = 0;i<10;i++){\n",
    "    nums.add(i);\n",
    "    }\n",
    "System.out.println(nums.size());\n",
    "nums.remove(8);\n",
    "System.out.println(nums.size());//new size after removing value\n",
    "System.out.println(names.isEmpty());//checks if list is empty after \n",
    "nums.clear();//clears list\n",
    "System.out.println(nums.size());\n",
    "System.out.println(nums.isEmpty());//list is now empty"
   ]
  },
  {
   "cell_type": "markdown",
   "metadata": {},
   "source": [
    "# Arraylist Searching Methods\n",
    "You can also use methods to search through arraylists and find certain elements. The indexOf() method returns the first occurrence of the given element or -1 if it doesn't exist. The lastIndexOf() returns the last occurrence of the element or -1 if it's not in the list. Another method that searches through the list is the contains() method."
   ]
  },
  {
   "cell_type": "code",
   "execution_count": 39,
   "metadata": {
    "vscode": {
     "languageId": "java"
    }
   },
   "outputs": [
    {
     "name": "stdout",
     "output_type": "stream",
     "text": [
      "Testing indexOf() and lastIndexOf() \n",
      "0\n",
      "5\n",
      "-1\n",
      "Testing contains\n",
      "true\n",
      "false\n"
     ]
    }
   ],
   "source": [
    "ArrayList<String> names = new ArrayList<String>();//creating list\n",
    "\n",
    "names.add(\"Aadit\");//adding elements to list\n",
    "names.add(\"Adi\");\n",
    "names.add(\"Soma\");\n",
    "names.add(\"Tianbin\");\n",
    "names.add(\"John\");\n",
    "names.add(\"Aadit\");\n",
    "\n",
    "//testing indexOf() and lastIndexOf()\n",
    "System.out.println(\"Testing indexOf() and lastIndexOf() \");\n",
    "System.out.println(names.indexOf(\"Aadit\"));\n",
    "System.out.println(names.lastIndexOf(\"Aadit\"));\n",
    "System.out.println(names.indexOf(\"Billy\"));\n",
    "\n",
    "\n",
    "//testing contains\n",
    "System.out.println(\"Testing contains\");\n",
    "System.out.println(names.contains(\"Aadit\"));\n",
    "System.out.println(names.contains(\"Billy\"));\n"
   ]
  },
  {
   "cell_type": "markdown",
   "metadata": {},
   "source": [
    "# Sorting Elements of Arraylist\n",
    "One way and probably the easiest way to sort an arraylist is to use bubble sort. Bubble sort swaps the elements if they aren't in the right order, by iterating through every element one at a time. It isn't the most efficient algorithm, but it works. "
   ]
  },
  {
   "cell_type": "code",
   "execution_count": 54,
   "metadata": {
    "vscode": {
     "languageId": "java"
    }
   },
   "outputs": [
    {
     "name": "stdout",
     "output_type": "stream",
     "text": [
      "Unsorted Arraylist\n",
      "1 6 8 4 36 2 89 100 4 \n",
      "Sorted Arraylist\n",
      "1 2 4 4 6 8 36 89 100 "
     ]
    }
   ],
   "source": [
    "\n",
    "ArrayList<Integer> nums = new ArrayList<Integer>();//creating arraylsit\n",
    "nums.add(1);//adding elements to array\n",
    "nums.add(6);\n",
    "nums.add(8);\n",
    "nums.add(4);\n",
    "nums.add(36);\n",
    "nums.add(2);\n",
    "nums.add(89);\n",
    "nums.add(100);\n",
    "nums.add(4);\n",
    "\n",
    "System.out.println(\"Unsorted Arraylist\");\n",
    "for(int i = 0;i<nums.size();i++){//printing unsorted elements\n",
    "    System.out.print(nums.get(i)+\" \");\n",
    "}\n",
    "\n",
    "//bubble sort algorithm\n",
    "\n",
    "boolean isInOrder = false;\n",
    "while (isInOrder == false) {\n",
    "    isInOrder = true;\n",
    "    for (int i = 0; i < nums.size() - 1; i++) {\n",
    "        if (nums.get(i + 1) < nums.get(i)) {\n",
    "            int temp = nums.get(i);\n",
    "            nums.set(i,nums.get(i + 1));\n",
    "            nums.set(i+1,temp);\n",
    "            isInOrder = false;\n",
    "        }\n",
    "    }\n",
    "}\n",
    "\n",
    "\n",
    "\n",
    "System.out.println(\"\\nSorted Arraylist\");\n",
    "for(int i = 0;i<nums.size();i++){//printing arraylist again, but sorted this time\n",
    "    System.out.print(nums.get(i)+\" \");\n",
    "}\n"
   ]
  },
  {
   "cell_type": "markdown",
   "metadata": {},
   "source": [
    "# Homework"
   ]
  },
  {
   "cell_type": "code",
   "execution_count": 27,
   "metadata": {
    "vscode": {
     "languageId": "java"
    }
   },
   "outputs": [
    {
     "name": "stdout",
     "output_type": "stream",
     "text": [
      "Before operations: [18, 48, 47, 0, 65, 22, 85, 94, 67, 84]\n",
      "After operation: [0, 85, 84, 67, 65, 48, 47, 22, 18, 94]\n"
     ]
    }
   ],
   "source": [
    "import java.util.Random;\n",
    "import java.util.ArrayList; // import the ArrayList class\n",
    "\n",
    "public class HomeWork1{\n",
    "    ArrayList<Integer> numbers = new ArrayList<Integer>();\n",
    "    Random rand = new Random();\n",
    "\n",
    "    void run(){\n",
    "        for(int i = 0; i<10;i++){\n",
    "            int x = rand.nextInt(100);\n",
    "            numbers.add(x);\n",
    "        }\n",
    "         //descending order then reverse first and last element\n",
    "        System.out.println(\"Before operations: \"+ numbers);\n",
    "        Collections.sort(numbers, Collections.reverseOrder()); \n",
    "        int temp = numbers.get(0);\n",
    "        numbers.set(0,numbers.get(numbers.size()-1));\n",
    "        numbers.set(numbers.size()-1,temp);\n",
    "        System.out.println(\"After operation: \"+ numbers);\n",
    "    }\n",
    "\n",
    "    public static void main(String[] args) {\n",
    "        HomeWork1 hw1 = new HomeWork1();\n",
    "        hw1.run();\n",
    "    }\n",
    "}\n",
    "HomeWork1.main(null);"
   ]
  },
  {
   "cell_type": "code",
   "execution_count": 25,
   "metadata": {
    "vscode": {
     "languageId": "java"
    }
   },
   "outputs": [
    {
     "name": "stdout",
     "output_type": "stream",
     "text": [
      "Hash map before operation: -534237819\n",
      "Hash map after operation: 1703608345\n"
     ]
    }
   ],
   "source": [
    "import java.util.Random;\n",
    "import java.util.ArrayList; // import the ArrayList class\n",
    "\n",
    "public class HomeWork2{\n",
    "    ArrayList<Integer> numbers = new ArrayList<Integer>();\n",
    "    Random rand = new Random();\n",
    "\n",
    "    void run(){\n",
    "        for(int i = 0; i<10;i++){\n",
    "            int x = rand.nextInt(100);\n",
    "            numbers.add(x);\n",
    "        }\n",
    "        \n",
    "        //hashmaps before and after sort\n",
    "        System.out.println(\"Hash map before operation: \"+ numbers.hashCode());\n",
    "        Collections.sort(numbers);\n",
    "        System.out.println(\"Hash map after operation: \"+ numbers.hashCode());\n",
    "\n",
    "\n",
    "    }\n",
    "\n",
    "    public static void main(String[] args) {\n",
    "        HomeWork2 hw2 = new HomeWork2();\n",
    "        hw2.run();\n",
    "    }\n",
    "}\n",
    "HomeWork2.main(null);"
   ]
  },
  {
   "cell_type": "code",
   "execution_count": 30,
   "metadata": {
    "vscode": {
     "languageId": "java"
    }
   },
   "outputs": [
    {
     "name": "stdout",
     "output_type": "stream",
     "text": [
      "Before operations, Arraylist 1: [15, 58, 89, 69, 39, 85, 2, 86, 5, 56]\n",
      "Before operations, Arraylist 2: [96, 17, 49, 7, 0, 77, 34, 43, 96, 83]\n",
      "After operations, Arraylist 1: [86, 85, 69, 56, 49, 39, 34, 17, 15, 5]\n",
      "After operations, Arraylist 2: [96, 17, 49, 7, 0, 77, 34, 43, 96, 83]\n"
     ]
    }
   ],
   "source": [
    "import java.util.Random;\n",
    "import java.util.ArrayList; // import the ArrayList class\n",
    "\n",
    "public class HomeWork3{\n",
    "    ArrayList<Integer> numbers1 = new ArrayList<Integer>();\n",
    "    ArrayList<Integer> numbers2 = new ArrayList<Integer>();\n",
    "    Random rand = new Random();\n",
    "\n",
    "    void run(){\n",
    "        //adding numbers to array 1\n",
    "        for(int i = 0; i<10;i++){\n",
    "            int x = rand.nextInt(100);\n",
    "            numbers1.add(x);\n",
    "        }\n",
    "\n",
    "        //adding numbers to array 2\n",
    "        for(int i = 0; i<10;i++){\n",
    "            int x = rand.nextInt(100);\n",
    "            numbers2.add(x);\n",
    "        }\n",
    "        \n",
    "         //replace three elements, then reverse order\n",
    "        System.out.println(\"Before operations, Arraylist 1: \"+ numbers1);\n",
    "        System.out.println(\"Before operations, Arraylist 2: \"+ numbers2);\n",
    "        //randomly swap elements from lists three times\n",
    "        for(int i = 0; i<3;i++){\n",
    "            int replace = rand.nextInt(10);\n",
    "            numbers1.set(replace,numbers2.get(replace));\n",
    "        }\n",
    "        //reverse order of array 1\n",
    "        Collections.sort(numbers1, Collections.reverseOrder()); \n",
    "\n",
    "        System.out.println(\"After operations, Arraylist 1: \"+ numbers1);\n",
    "        System.out.println(\"After operations, Arraylist 2: \"+ numbers2);\n",
    "    }\n",
    "\n",
    "    public static void main(String[] args) {\n",
    "        HomeWork3 hw3 = new HomeWork3();\n",
    "        hw3.run();\n",
    "    }\n",
    "}\n",
    "HomeWork3.main(null);"
   ]
  }
 ],
 "metadata": {
  "kernelspec": {
   "display_name": "Java",
   "language": "java",
   "name": "java"
  },
  "language_info": {
   "codemirror_mode": "java",
   "file_extension": ".jshell",
   "mimetype": "text/x-java-source",
   "name": "Java",
   "pygments_lexer": "java",
   "version": "11.0.16.1+0"
  },
  "orig_nbformat": 4,
  "vscode": {
   "interpreter": {
    "hash": "b0fa6594d8f4cbf19f97940f81e996739fb7646882a419484c72d19e05852a7e"
   }
  }
 },
 "nbformat": 4,
 "nbformat_minor": 2
}
