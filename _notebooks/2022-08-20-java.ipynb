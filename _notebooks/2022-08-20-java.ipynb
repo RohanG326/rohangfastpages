{
 "cells": [
  {
   "cell_type": "markdown",
   "id": "d8c1e2a6-59a3-402e-97e4-b0a53cdebb69",
   "metadata": {},
   "source": [
    "# Rohan G Java\n",
    "> A tutorial of fastpages for Jupyter notebooks.\n",
    "\n",
    "- toc: true \n",
    "- badges: true\n",
    "- comments: true\n",
    "- categories: [jupyter]\n",
    "- image: images/chart-preview.png"
   ]
  },
  {
   "cell_type": "code",
   "execution_count": 1,
   "id": "88273436-6963-4405-9a99-67fd6cb3707e",
   "metadata": {},
   "outputs": [
    {
     "name": "stdout",
     "output_type": "stream",
     "text": [
      "Hello Monkey!\n"
     ]
    }
   ],
   "source": [
    "class HelloWorld {\n",
    "    public static void main(String[] args) {\n",
    "        System.out.println(\"Hello Monkey!\");\n",
    "    }\n",
    "}\n",
    "HelloWorld.main(null);"
   ]
  },
  {
   "cell_type": "code",
   "execution_count": null,
   "id": "2373984d-ecd0-4a2b-a1bb-f88aaa6504e6",
   "metadata": {},
   "outputs": [],
   "source": []
  }
 ],
 "metadata": {
  "kernelspec": {
   "display_name": "Java",
   "language": "java",
   "name": "java"
  },
  "language_info": {
   "codemirror_mode": "java",
   "file_extension": ".jshell",
   "mimetype": "text/x-java-source",
   "name": "Java",
   "pygments_lexer": "java",
   "version": "11.0.16+8-post-Ubuntu-0ubuntu120.04"
  }
 },
 "nbformat": 4,
 "nbformat_minor": 5
}
