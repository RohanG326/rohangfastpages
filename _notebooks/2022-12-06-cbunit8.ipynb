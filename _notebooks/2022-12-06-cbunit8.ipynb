{
 "cells": [
  {
   "cell_type": "markdown",
   "metadata": {},
   "source": [
    "# Rohan G CollegeBoard Unit 8 2D Arrays\n",
    "> Week 15 Unit 8 2D Arrays Lesson and Homework\n",
    "\n",
    "- toc: true \n",
    "- badges: true\n",
    "- comments: true\n",
    "- categories: [jupyter]\n",
    "- image: images/chart-preview.png"
   ]
  },
  {
   "cell_type": "markdown",
   "metadata": {},
   "source": [
    "# 2D Arrays\n",
    "A 2D array is an array of arrays, and a type of multidimensional array. To create a 2D array, you write the type of the class, followed by the name, and the values. \n",
    "\n",
    "## College Board\n",
    "Unit 8 is worth 7.5-10% of the college board test, so it is not worth a huge amount. However, it is still important to understand how they work and when they can be utilized. \n",
    "\n",
    "#### Learning Objectives\n",
    "- 8.1 2D Arrays\n",
    "    - Represent collections of related primitive or object reference data using two-dimensional (2D) array objects.\n",
    "- 8.2 Traversing 2D Arrays\n",
    "    - For 2D array objects: \n",
    "        - a. Traverse using nested for loops. \n",
    "        - b. Traverse using nested enhanced for loops.\n"
   ]
  },
  {
   "cell_type": "markdown",
   "metadata": {},
   "source": [
    "### Creating A 2D Array\n",
    "The first step is to initialize the array. To do this, specify the type, followed by \"[][]\", followed by the name of the 2D array. \n",
    "Examples:"
   ]
  },
  {
   "cell_type": "code",
   "execution_count": 42,
   "metadata": {
    "vscode": {
     "languageId": "java"
    }
   },
   "outputs": [],
   "source": [
    "int[][] numbers;\n",
    "String[][] names;\n",
    "char[][] letters;\n",
    "float[][] floats;\n",
    "double[][] doubles;\n",
    "Object[][] objects;"
   ]
  },
  {
   "cell_type": "markdown",
   "metadata": {},
   "source": [
    "### Initializing a 2D Array\n",
    "Then you must give it a value, by initializing the 2D array. \n",
    "There are two ways to initialize a 2D array.\n",
    "  Method 1: You can initialize the array by giving it values\n",
    "  Method 2: You can also initialize it by giving it the size"
   ]
  },
  {
   "cell_type": "code",
   "execution_count": 43,
   "metadata": {
    "vscode": {
     "languageId": "java"
    }
   },
   "outputs": [],
   "source": [
    "int[][] numbers1 = {{1,2,3,4},{5,6,7,8},{9,10,11,12},{13,14,15,16}};//method 1:\n",
    "int[][] numbers2 = new int[4][3]; //method 2: Creates array with four rows and 3 columns \n",
    "String[][] names1 = {{\"John\",\"James\",\"Jay\"},{\"Melissa\",\"May\",\"Maggie\"},{\"Bob\",\"Burt\",\"Billy\"}}; //method 1\n",
    "String[][] names2 = new String[2][2]; //method2: Creates array with 2 rows and 2 columns\n",
    "char[][] letters1 = {{'a','b','c'},{'d','e','f','g','h'}}; //method 1\n",
    "char[][] letters2 = new char[2][3]; //method 2: Creates array with 2 rows and 3 columns"
   ]
  },
  {
   "cell_type": "markdown",
   "metadata": {},
   "source": [
    "Note, that when you initialize a 2D array using method 1, each row can have a different number of columns, ie, each array within the array can have a different number of values. "
   ]
  },
  {
   "cell_type": "markdown",
   "metadata": {},
   "source": [
    "### Iteration\n",
    "To iterate through a normal array, you would could use a for loop, as demonstrated below to print the alphabet. You would iterate through the first array(row), then use another for loop nested within the first that iterates through the second arrays(columns). "
   ]
  },
  {
   "cell_type": "code",
   "execution_count": 44,
   "metadata": {
    "vscode": {
     "languageId": "java"
    }
   },
   "outputs": [
    {
     "name": "stdout",
     "output_type": "stream",
     "text": [
      "1 2 3 4 5 6 7 8 9 0 - =  \n",
      "q w e r t y u i o p [ ] \\  \n",
      "a s d f g h j k l  \n",
      "z x c v b n m , . /  \n"
     ]
    }
   ],
   "source": [
    "String[][] alphabet = {{\"1\", \"2\", \"3\", \"4\", \"5\", \"6\", \"7\", \"8\", \"9\", \"0\", \"-\", \"=\"},\n",
    "{\"q\", \"w\", \"e\", \"r\", \"t\", \"y\", \"u\", \"i\", \"o\", \"p\", \"[\", \"]\", \"\\\\\"},\n",
    "{\"a\", \"s\", \"d\", \"f\", \"g\", \"h\", \"j\", \"k\", \"l\"},\n",
    "{\"z\", \"x\", \"c\", \"v\", \"b\", \"n\", \"m\", \",\", \".\", \"/\"}};\n",
    "for(int i = 0;i<alphabet.length;i++){\n",
    "    for(int j = 0; j < alphabet[i].length;j++){ //nested for loops\n",
    "        System.out.print(alphabet[i][j]+\" \");\n",
    "    }\n",
    "    System.out.println(\" \");\n",
    "}"
   ]
  },
  {
   "cell_type": "markdown",
   "metadata": {},
   "source": [
    "In this way, you can print all the values of a certain 2D array. "
   ]
  },
  {
   "cell_type": "markdown",
   "metadata": {},
   "source": [
    "### Accessing and Changing Elements of 2D Arrays\n",
    "You can change elements or access elements in 2D arrays by using the indexes. For example, to access the 2nd row, and 3 column, use [1][2]"
   ]
  },
  {
   "cell_type": "code",
   "execution_count": 45,
   "metadata": {
    "vscode": {
     "languageId": "java"
    }
   },
   "outputs": [
    {
     "name": "stdout",
     "output_type": "stream",
     "text": [
      "1 4  \n",
      "9 16  \n"
     ]
    }
   ],
   "source": [
    "int[][] numbers = new int[2][2]; //method 2: Creates array with two rows and two columns\n",
    "numbers[0][0] = 1;\n",
    "numbers[0][1] = 4;\n",
    "numbers[1][0] = 9;\n",
    "numbers[1][1] = 16;\n",
    "for(int i = 0;i<numbers.length;i++){\n",
    "    for(int j = 0; j < numbers[i].length;j++){ //nested for loops\n",
    "        System.out.print(numbers[i][j]+\" \");\n",
    "    }\n",
    "    System.out.println(\" \");\n",
    "}"
   ]
  },
  {
   "cell_type": "markdown",
   "metadata": {},
   "source": [
    "### Displaying Contents of Array Vertically and Horizontally\n",
    "Here, I've created a 2D array with 10 rows and 10 columns. Then, I used nested for loops to initialize values for each value in each row and column to the product of the row and column numbers. "
   ]
  },
  {
   "cell_type": "code",
   "execution_count": 46,
   "metadata": {
    "vscode": {
     "languageId": "java"
    }
   },
   "outputs": [
    {
     "name": "stdout",
     "output_type": "stream",
     "text": [
      "Printing out values in a pattern/grid design:\n",
      "\n",
      "0 0 0 0 0 0 0 0 0 0  \n",
      "0 1 2 3 4 5 6 7 8 9  \n",
      "0 2 4 6 8 10 12 14 16 18  \n",
      "0 3 6 9 12 15 18 21 24 27  \n",
      "0 4 8 12 16 20 24 28 32 36  \n",
      "0 5 10 15 20 25 30 35 40 45  \n",
      "0 6 12 18 24 30 36 42 48 54  \n",
      "0 7 14 21 28 35 42 49 56 63  \n",
      "0 8 16 24 32 40 48 56 64 72  \n",
      "0 9 18 27 36 45 54 63 72 81  \n",
      "\n",
      "Printing out values horizontally:\n",
      "\n",
      "0 0 0 0 0 0 0 0 0 0 0 1 2 3 4 5 6 7 8 9 0 2 4 6 8 10 12 14 16 18 0 3 6 9 12 15 18 21 24 27 0 4 8 12 16 20 24 28 32 36 0 5 10 15 20 25 30 35 40 45 0 6 12 18 24 30 36 42 48 54 0 7 14 21 28 35 42 49 56 63 0 8 16 24 32 40 48 56 64 72 0 9 18 27 36 45 54 63 72 81 \n",
      "\n",
      "Printing out values vertically:\n",
      "\n",
      "0 \n",
      "0 \n",
      "0 \n",
      "0 \n",
      "0 \n",
      "0 \n",
      "0 \n",
      "0 \n",
      "0 \n",
      "0 \n",
      "0 \n",
      "1 \n",
      "2 \n",
      "3 \n",
      "4 \n",
      "5 \n",
      "6 \n",
      "7 \n",
      "8 \n",
      "9 \n",
      "0 \n",
      "2 \n",
      "4 \n",
      "6 \n",
      "8 \n",
      "10 \n",
      "12 \n",
      "14 \n",
      "16 \n",
      "18 \n",
      "0 \n",
      "3 \n",
      "6 \n",
      "9 \n",
      "12 \n",
      "15 \n",
      "18 \n",
      "21 \n",
      "24 \n",
      "27 \n",
      "0 \n",
      "4 \n",
      "8 \n",
      "12 \n",
      "16 \n",
      "20 \n",
      "24 \n",
      "28 \n",
      "32 \n",
      "36 \n",
      "0 \n",
      "5 \n",
      "10 \n",
      "15 \n",
      "20 \n",
      "25 \n",
      "30 \n",
      "35 \n",
      "40 \n",
      "45 \n",
      "0 \n",
      "6 \n",
      "12 \n",
      "18 \n",
      "24 \n",
      "30 \n",
      "36 \n",
      "42 \n",
      "48 \n",
      "54 \n",
      "0 \n",
      "7 \n",
      "14 \n",
      "21 \n",
      "28 \n",
      "35 \n",
      "42 \n",
      "49 \n",
      "56 \n",
      "63 \n",
      "0 \n",
      "8 \n",
      "16 \n",
      "24 \n",
      "32 \n",
      "40 \n",
      "48 \n",
      "56 \n",
      "64 \n",
      "72 \n",
      "0 \n",
      "9 \n",
      "18 \n",
      "27 \n",
      "36 \n",
      "45 \n",
      "54 \n",
      "63 \n",
      "72 \n",
      "81 \n"
     ]
    }
   ],
   "source": [
    "int[][]products = new int [10][10]; //creating 2D Array\n",
    "for(int i = 0;i<products.length;i++){\n",
    "    for(int j = 0; j < products[i].length;j++){ \n",
    "        products[i][j] = i*j; //initializing values for array\n",
    "    }\n",
    "}\n",
    "\n",
    "System.out.println(\"Printing out values in a pattern/grid design:\\n\");\n",
    "for(int i = 0;i<products.length;i++){\n",
    "    for(int j = 0; j < products[i].length;j++){ \n",
    "        System.out.print(products[i][j]+\" \");\n",
    "    }\n",
    "    System.out.println(\" \");\n",
    "}\n",
    "System.out.println(\"\\nPrinting out values horizontally:\\n\");\n",
    "for(int i = 0;i<products.length;i++){\n",
    "    for(int j = 0; j < products[i].length;j++){ \n",
    "        System.out.print(products[i][j]+\" \");\n",
    "    }\n",
    "}\n",
    "System.out.println(\"\\n\\nPrinting out values vertically:\\n\");\n",
    "for(int i = 0;i<products.length;i++){\n",
    "    for(int j = 0; j < products[i].length;j++){ \n",
    "        System.out.println(products[i][j]+\" \");\n",
    "    }\n",
    "}"
   ]
  },
  {
   "cell_type": "markdown",
   "metadata": {},
   "source": [
    "### Displaying Backwards and Upside Down \n",
    "Here, I've created a 2D array with 10 rows and 10 columns. Then, I used nested for loops to initialize values for each value in each row and column to the sum of the row and column numbers. "
   ]
  },
  {
   "cell_type": "code",
   "execution_count": 47,
   "metadata": {
    "vscode": {
     "languageId": "java"
    }
   },
   "outputs": [
    {
     "name": "stdout",
     "output_type": "stream",
     "text": [
      "Printing out values forward\n",
      "0 0 0 0 0 0 0 0 0 0  \n",
      "0 1 2 3 4 5 6 7 8 9  \n",
      "0 2 4 6 8 10 12 14 16 18  \n",
      "0 3 6 9 12 15 18 21 24 27  \n",
      "0 4 8 12 16 20 24 28 32 36  \n",
      "0 5 10 15 20 25 30 35 40 45  \n",
      "0 6 12 18 24 30 36 42 48 54  \n",
      "0 7 14 21 28 35 42 49 56 63  \n",
      "0 8 16 24 32 40 48 56 64 72  \n",
      "0 9 18 27 36 45 54 63 72 81  \n",
      "\n",
      "\n",
      "Printing out values backward\n",
      "81 72 63 54 45 36 27 18 9 0  \n",
      "72 64 56 48 40 32 24 16 8 0  \n",
      "63 56 49 42 35 28 21 14 7 0  \n",
      "54 48 42 36 30 24 18 12 6 0  \n",
      "45 40 35 30 25 20 15 10 5 0  \n",
      "36 32 28 24 20 16 12 8 4 0  \n",
      "27 24 21 18 15 12 9 6 3 0  \n",
      "18 16 14 12 10 8 6 4 2 0  \n",
      "9 8 7 6 5 4 3 2 1 0  \n",
      "0 0 0 0 0 0 0 0 0 0  \n"
     ]
    }
   ],
   "source": [
    "int[][]sums = new int [10][10]; //creating 2D Array\n",
    "for(int i = 0;i<sums.length;i++){\n",
    "    for(int j = 0; j < sums[i].length;j++){ \n",
    "        sums[i][j] = i+j; //initializing values for array\n",
    "    }\n",
    "}\n",
    "\n",
    "System.out.println(\"Printing out values forward\");\n",
    "for(int i = 0;i<products.length;i++){\n",
    "    for(int j = 0; j < products[i].length;j++){ \n",
    "        System.out.print(products[i][j]+\" \");\n",
    "    }\n",
    "    System.out.println(\" \");\n",
    "}\n",
    "\n",
    "System.out.println(\"\\n\\nPrinting out values backward\");\n",
    "for(int i = products.length-1;i>=0;i--){\n",
    "    for(int j = products[i].length-1; j >= 0;j--){ \n",
    "        System.out.print(products[i][j]+\" \");\n",
    "    }\n",
    "    System.out.println(\" \");\n",
    "}\n"
   ]
  },
  {
   "cell_type": "code",
   "execution_count": 48,
   "metadata": {
    "vscode": {
     "languageId": "java"
    }
   },
   "outputs": [
    {
     "name": "stdout",
     "output_type": "stream",
     "text": [
      "Rows forward, columns backward\n",
      "0 0 0 0 0 0 0 0 0 0  \n",
      "9 8 7 6 5 4 3 2 1 0  \n",
      "18 16 14 12 10 8 6 4 2 0  \n",
      "27 24 21 18 15 12 9 6 3 0  \n",
      "36 32 28 24 20 16 12 8 4 0  \n",
      "45 40 35 30 25 20 15 10 5 0  \n",
      "54 48 42 36 30 24 18 12 6 0  \n",
      "63 56 49 42 35 28 21 14 7 0  \n",
      "72 64 56 48 40 32 24 16 8 0  \n",
      "81 72 63 54 45 36 27 18 9 0  \n",
      "\n",
      "\n",
      "Rows backward, columns forward\n",
      "0 9 18 27 36 45 54 63 72 81  \n",
      "0 8 16 24 32 40 48 56 64 72  \n",
      "0 7 14 21 28 35 42 49 56 63  \n",
      "0 6 12 18 24 30 36 42 48 54  \n",
      "0 5 10 15 20 25 30 35 40 45  \n",
      "0 4 8 12 16 20 24 28 32 36  \n",
      "0 3 6 9 12 15 18 21 24 27  \n",
      "0 2 4 6 8 10 12 14 16 18  \n",
      "0 1 2 3 4 5 6 7 8 9  \n",
      "0 0 0 0 0 0 0 0 0 0  \n"
     ]
    }
   ],
   "source": [
    "int[][]sums = new int [10][10]; //creating 2D Array\n",
    "for(int i = 0;i<sums.length;i++){\n",
    "    for(int j = 0; j < sums[i].length;j++){ \n",
    "        sums[i][j] = i+j; //initializing values for array\n",
    "    }\n",
    "}\n",
    "\n",
    "System.out.println(\"Rows forward, columns backward\");\n",
    "for(int i = 0;i<products.length;i++){\n",
    "    for(int j = products[i].length-1; j >= 0;j--){ \n",
    "        System.out.print(products[i][j]+\" \");\n",
    "    }\n",
    "    System.out.println(\" \");\n",
    "}\n",
    "\n",
    "System.out.println(\"\\n\\nRows backward, columns forward\");\n",
    "for(int i = products.length-1;i>=0;i--){\n",
    "    for(int j = 0; j <products[i].length;j++){ \n",
    "        System.out.print(products[i][j]+\" \");\n",
    "    }\n",
    "    System.out.println(\" \");\n",
    "}"
   ]
  },
  {
   "cell_type": "markdown",
   "metadata": {},
   "source": [
    "# Kahoot\n",
    "[Link to Kahoot](https://create.kahoot.it/share/java-2d-array/924b6563-29ce-42ca-be33-d337154b1bb2)"
   ]
  },
  {
   "cell_type": "markdown",
   "metadata": {},
   "source": [
    "# Homework"
   ]
  },
  {
   "cell_type": "markdown",
   "metadata": {},
   "source": [
    "- Create a class for 2D array learning.\n",
    "- Create a method too initialize a 2D array with arbitrary values\n",
    "- Create a method to reverse the 2D array and print out the values\n",
    "- Create a method that asks for the input of a position and it returns the corresponding value\n",
    "- Create a method that multiplies each value in a row and then adds all the products together\n",
    "- Create a new object to test out each method in the main function"
   ]
  },
  {
   "cell_type": "code",
   "execution_count": 49,
   "metadata": {
    "vscode": {
     "languageId": "java"
    }
   },
   "outputs": [
    {
     "name": "stdout",
     "output_type": "stream",
     "text": [
      "\n",
      "A story of a Monkey and Cthulhus\n",
      "ʕง ͠° ͟ل͜ ͡°)ʔ  \n",
      "  \\_⏄_/   \n",
      "  --0--    \n",
      "  ⎛   ⎞    \n",
      "⠀⠀⠀⠀⠀⠀⠀⠀⠀⡠⡀⠀⠀⠀⠀⠀⠀⢎⠀⠀⠀⠀⠀⠀⠀⠀⠀⠀⠀⠀ʕง ͠° ͟ل͜ ͡°)ʔ \n",
      "⠀⠀⠀⠀⠀⠀⠀⠀⠀⠂⢱⠀⠀⢀⣤⡀⠀⠀⢣⠀⠀⠀⠀⠀⠀⠀⠀⠀⠀⠀  \\_⏄_/  \n",
      "⠀⠀⠀⠀⠀⠀⠀⠀⠀⣰⠻⠉⣧⣿⣿⣿⠀⠀⢸⠇⠀⠐⠉⡆⠀⠀⠀⠀⠀⠀  --0--   \n",
      "⠀⠀⠀⠀⢀⠔⠒⢦⠀⢻⡄⠀⢿⣻⣿⡿⢀⣴⣋⣄⣄⣌⣠⠃⠀⠀⠀⠀⠀⠀  ⎛   ⎞   \n",
      "⠀⠀⠀⠀⠈⠀⢀⡞⠀⠈⠛⣷⣾⣿⣿⣿⣿⣿⣯⣥⣀⠀⠀⠀⠀⠀⠀⠀⠀⠀         \n",
      "⠀⠀⠀⠀⠀⠀⠈⠷⣦⣴⡾⢿⣿⡿⢿⣿⣋⣽⠶⢦⠙⢷⡀⠀⠀⠀⠀⠀⠀⠀         \n",
      "⠀⠀⠀⠀⠀⠀⠀⠀⠀⠀⢀⣾⡏⢀⡆⠈⠉⠁⡄⠈⡇⠘⢇⠀⢈⡆⠀⠀⠀⠀         \n",
      "⠀⠀⠀⠀⠀⠀⠀⠀⠀⠀⢸⡯⠀⠸⠁⠀⠀⠸⣧⡀⡇⠀⠈⠉⠉⠀⠀⠀⠀⠀         \n",
      "⠀⠀⠀⠀⠀⠀⠀⠀⠀⠀⠸⣇⡴⠁⠀⠀⠀⠀⠙⠛⠁⠀⠀⠀⠀⠀⠀⠀⠀          \n",
      "0000000000000000000000000000000000\n",
      "             THE END              \n"
     ]
    }
   ],
   "source": [
    "class MonkeyLoop {\n",
    "    String [][] monkeys;\n",
    "    String [][] cthulhus;\n",
    "    //hint: missing code\n",
    "\n",
    "\n",
    "    public MonkeyLoop() {\n",
    "        monkeys = new String[][]{\n",
    "\n",
    "                {\n",
    "                        \"ʕง ͠° ͟ل͜ ͡°)ʔ \",      //[0][0] eyes\n",
    "                },\n",
    "\n",
    "                {\n",
    "                        \"  \\\\_⏄_/  \",      //[1][0] chin\n",
    "\n",
    "                },\n",
    "\n",
    "                {\n",
    "                        \"  --0--   \",       //[2][0] body\n",
    "\n",
    "                },\n",
    "\n",
    "                {\n",
    "                        \"  ⎛   ⎞   \"        //[3][0] legs\n",
    "                },\n",
    "\n",
    "\n",
    "        };\n",
    "\n",
    "        cthulhus = new String[][]{\n",
    "            {\n",
    "                    \"⠀⠀⠀⠀⠀⠀⠀⠀⠀⡠⡀⠀⠀⠀⠀⠀⠀⢎⠀⠀⠀⠀⠀⠀⠀⠀⠀⠀⠀⠀ʕง ͠° ͟ل͜ ͡°)ʔ \",\n",
    "                    \"⠀⠀⠀⠀⠀⠀⠀⠀⠀⠂⢱⠀⠀⢀⣤⡀⠀⠀⢣⠀⠀⠀⠀⠀⠀⠀⠀⠀⠀⠀  \\\\_⏄_/  \",\n",
    "                    \"⠀⠀⠀⠀⠀⠀⠀⠀⠀⣰⠻⠉⣧⣿⣿⣿⠀⠀⢸⠇⠀⠐⠉⡆⠀⠀⠀⠀⠀⠀  --0--   \",\n",
    "                    \"⠀⠀⠀⠀⢀⠔⠒⢦⠀⢻⡄⠀⢿⣻⣿⡿⢀⣴⣋⣄⣄⣌⣠⠃⠀⠀⠀⠀⠀⠀  ⎛   ⎞   \",\n",
    "                    \"⠀⠀⠀⠀⠈⠀⢀⡞⠀⠈⠛⣷⣾⣿⣿⣿⣿⣿⣯⣥⣀⠀⠀⠀⠀⠀⠀⠀⠀⠀         \",\n",
    "                    \"⠀⠀⠀⠀⠀⠀⠈⠷⣦⣴⡾⢿⣿⡿⢿⣿⣋⣽⠶⢦⠙⢷⡀⠀⠀⠀⠀⠀⠀⠀         \",\n",
    "                    \"⠀⠀⠀⠀⠀⠀⠀⠀⠀⠀⢀⣾⡏⢀⡆⠈⠉⠁⡄⠈⡇⠘⢇⠀⢈⡆⠀⠀⠀⠀         \",\n",
    "                    \"⠀⠀⠀⠀⠀⠀⠀⠀⠀⠀⢸⡯⠀⠸⠁⠀⠀⠸⣧⡀⡇⠀⠈⠉⠉⠀⠀⠀⠀⠀         \",\n",
    "                    \"⠀⠀⠀⠀⠀⠀⠀⠀⠀⠀⠸⣇⡴⠁⠀⠀⠀⠀⠙⠛⠁⠀⠀⠀⠀⠀⠀⠀⠀          \"\n",
    "            },\n",
    "        };\n",
    "    }\n",
    "\n",
    "    public void printPoem() {\n",
    "        System.out.println();\n",
    "        System.out.println(\"A story of a Monkey and Cthulhus\");\n",
    "        int monkeyCount = monkeys.length;\n",
    "        for (int i = 1; i >= 1; i--)\n",
    "        {\n",
    "            for (int row = 0; row < monkeyCount; row++) {  //cycles through \"cells\" of 2d array\n",
    "                for (int col = 0; col < monkeys[row].length; col++) {\n",
    "                    System.out.print(monkeys[row][col] + \" \");\n",
    "                }\n",
    "\n",
    "                //this new line gives separation between stanza of poem\n",
    "                System.out.println();\n",
    "            }\n",
    "        }\n",
    "            //hint: missing code, another for loop\n",
    "        int cthulhuCount = cthulhus[0].length;\n",
    "        for (int col1 = 0; col1 < cthulhuCount; col1++) {  //cycles through \"cells\" of 2d array\n",
    "        for (int row1 = 0; row1 < 1; row1++){\n",
    "            System.out.print(cthulhus[row1][col1]);\n",
    "        }\n",
    "        // Spacer\n",
    "        System.out.println();\n",
    "        }\n",
    "        // System.out.println(cthulhuCount);\n",
    "        System.out.println(\"0000000000000000000000000000000000\");\n",
    "        System.out.println(\"             THE END              \");\n",
    "    }\n",
    "\n",
    "\n",
    "    public static void main(String[] args)  {\n",
    "        new MonkeyLoop().printPoem();\n",
    "    }\n",
    "}\n",
    "MonkeyLoop.main(null);"
   ]
  }
 ],
 "metadata": {
  "kernelspec": {
   "display_name": "Java",
   "language": "java",
   "name": "java"
  },
  "language_info": {
   "codemirror_mode": "java",
   "file_extension": ".jshell",
   "mimetype": "text/x-java-source",
   "name": "Java",
   "pygments_lexer": "java",
   "version": "11.0.16+8-post-Ubuntu-0ubuntu120.04"
  },
  "orig_nbformat": 4
 },
 "nbformat": 4,
 "nbformat_minor": 2
}
