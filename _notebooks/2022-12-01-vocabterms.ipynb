{
 "cells": [
  {
   "cell_type": "markdown",
   "metadata": {},
   "source": [
    "# Rohan G Vocabulary Terms\n",
    "> Week 14 Vocab Terms Blog\n",
    "\n",
    "- toc: true \n",
    "- badges: true\n",
    "- comments: true\n",
    "- categories: [jupyter]\n",
    "- image: images/chart-preview.png"
   ]
  },
  {
   "cell_type": "markdown",
   "metadata": {},
   "source": [
    "## Most notes are embedded within each lesson for units 1-5, but here are the terms I was unsure where to put in a unit blog"
   ]
  },
  {
   "cell_type": "markdown",
   "metadata": {},
   "source": [
    "# Terms\n",
    "### Casting (Division)\n",
    "- when you assign a value of one primitive data type to another type\n",
    "- it is necessary in dividing two integers otherwise the two int types divided will just default to the lower number without a decimal so '0' as a double which becomes '0.0'"
   ]
  },
  {
   "cell_type": "code",
   "execution_count": 1,
   "metadata": {
    "vscode": {
     "languageId": "java"
    }
   },
   "outputs": [
    {
     "name": "stdout",
     "output_type": "stream",
     "text": [
      "Without Cast: 0.0\n",
      "With Cast: 0.4444444444444444\n"
     ]
    }
   ],
   "source": [
    "int top = 4;\n",
    "int bottom = 9;\n",
    "double division = top / bottom;\n",
    "System.out.println(\"Without Cast: \"+ division);\n",
    "double division = ((double) top) / bottom;\n",
    "System.out.println(\"With Cast: \"+ division);\n"
   ]
  },
  {
   "cell_type": "markdown",
   "metadata": {},
   "source": [
    "### Casting (Truncating and Rounding)\n",
    "- when we cast a double to an integer, it truncates every decimal value and only retrieves the int"
   ]
  },
  {
   "cell_type": "code",
   "execution_count": 2,
   "metadata": {
    "vscode": {
     "languageId": "java"
    }
   },
   "outputs": [
    {
     "name": "stdout",
     "output_type": "stream",
     "text": [
      "Non-truncated: 6.999999356291484\n",
      "Casted and Truncated:6\n"
     ]
    }
   ],
   "source": [
    "double blah = 6.99999935629148437124097925792348972398472983749283749823749832478923;\n",
    "System.out.println(\"Non-truncated: \" + blah);\n",
    "int blahhehe = (int) blah;\n",
    "System.out.println(\"Casted and Truncated:\" + blahhehe);\n"
   ]
  },
  {
   "cell_type": "markdown",
   "metadata": {},
   "source": [
    "### Concatenation \n",
    "- combining strings or other variables"
   ]
  },
  {
   "cell_type": "code",
   "execution_count": 15,
   "metadata": {
    "vscode": {
     "languageId": "java"
    }
   },
   "outputs": [
    {
     "name": "stdout",
     "output_type": "stream",
     "text": [
      "monkey adi\n",
      "5 monkey adis\n"
     ]
    }
   ],
   "source": [
    "String blah1 = \"monkey \";\n",
    "String blah2 = \"adi\";\n",
    "\n",
    "System.out.println(blah1+blah2);\n",
    "\n",
    "String monkey = blah1 + blah2 ;\n",
    "int blah = 5;\n",
    "\n",
    "System.out.println(blah + \" \" + (monkey) + \"s\");"
   ]
  },
  {
   "cell_type": "markdown",
   "metadata": {},
   "source": [
    "### Java Math Class\n",
    "- basic class in java that contains math functions and common math values such as pi. \n",
    "- Called using Math.\"\" \n",
    "- Other functions include trig functions, log functions, and the random function. "
   ]
  },
  {
   "cell_type": "code",
   "execution_count": 17,
   "metadata": {
    "vscode": {
     "languageId": "java"
    }
   },
   "outputs": [
    {
     "name": "stdout",
     "output_type": "stream",
     "text": [
      "random: 0.8588897550824057\n",
      "Cos: 0.6532784567335359\n",
      "Log: -0.15211470623265586\n",
      "Square Root: 0.926763052285969\n"
     ]
    }
   ],
   "source": [
    "\n",
    "import java.lang.Math;//must be imported at start of program\n",
    "double rand = Math.random();\n",
    "System.out.println(\"random: \" + rand);\n",
    "System.out.println(\"Cos: \" + Math.cos(rand));\n",
    "System.out.println(\"Log: \" + Math.log(rand));\n",
    "System.out.println(\"Square Root: \" + Math.sqrt(rand));"
   ]
  },
  {
   "cell_type": "markdown",
   "metadata": {},
   "source": [
    "### Truth Table\n",
    "boolean function that is a mathematical function that maps arguments to a value, where the allowable values of range (the function arguments) and domain (the function value) are just one of two values— true and false (or 0 and 1)\n",
    "NOT(x)=\n",
    "1 if x is 0\n",
    "0 if x is 1\n",
    "\n",
    "XOR(x,y)\n",
    "1 if x and y are different\n",
    "0 otherwise"
   ]
  },
  {
   "cell_type": "markdown",
   "metadata": {},
   "source": [
    "### De Morgan’s Law\n",
    "De Morgan's Law is a concept that shows that concepts in mathematics are related through their opposites. For example: not (A and B) -- not A or not B not (A or B) -- not A and not B"
   ]
  },
  {
   "cell_type": "code",
   "execution_count": null,
   "metadata": {
    "vscode": {
     "languageId": "java"
    }
   },
   "outputs": [],
   "source": [
    "!(a && b) == (!a || !b)\n",
    "!(a || b) == (!a && !b)\n",
    "\n",
    "if(!(true)&&(true==false)){\n",
    "    System.out.println(\"Demonstrates De Morgans law\");\n",
    "}"
   ]
  },
  {
   "cell_type": "markdown",
   "metadata": {},
   "source": [
    "### Comparing Numbers\n",
    "comparing numbers is done through the == operator"
   ]
  },
  {
   "cell_type": "code",
   "execution_count": null,
   "metadata": {
    "vscode": {
     "languageId": "java"
    }
   },
   "outputs": [
    {
     "name": "stdout",
     "output_type": "stream",
     "text": [
      "false\n",
      "true\n"
     ]
    }
   ],
   "source": [
    "int x = 2;\n",
    "int y = 3;\n",
    "int z = 2;\n",
    "\n",
    "if(x == y){\n",
    "    System.out.println(\"true\");\n",
    "}else{\n",
    "    System.out.println(\"false\");\n",
    "}\n",
    "\n",
    "if(x == z){\n",
    "    System.out.println(\"true\");\n",
    "}else{\n",
    "    System.out.println(\"false\");\n",
    "}\n"
   ]
  },
  {
   "cell_type": "markdown",
   "metadata": {},
   "source": [
    "### Comparing Strings\n",
    "comparing strings is done through the .equals operator"
   ]
  },
  {
   "cell_type": "code",
   "execution_count": null,
   "metadata": {
    "vscode": {
     "languageId": "java"
    }
   },
   "outputs": [
    {
     "name": "stdout",
     "output_type": "stream",
     "text": [
      "true\n",
      "false\n"
     ]
    }
   ],
   "source": [
    "String word1 = \"world\";\n",
    "String word2 = \"hello\";\n",
    "String word3 = \"hello\";\n",
    "\n",
    "if(word1.equals(\"world\")){\n",
    "    System.out.println(\"true\");\n",
    "}else{\n",
    "    System.out.println(\"false\");\n",
    "}\n",
    "\n",
    "if(word2.equals(word1)){\n",
    "    System.out.println(\"true\");\n",
    "}else{\n",
    "    System.out.println(\"false\");\n",
    "}"
   ]
  },
  {
   "cell_type": "markdown",
   "metadata": {},
   "source": [
    "### Comparing Objects\n",
    "comparing objects is done through =="
   ]
  },
  {
   "cell_type": "code",
   "execution_count": null,
   "metadata": {
    "vscode": {
     "languageId": "java"
    }
   },
   "outputs": [
    {
     "name": "stdout",
     "output_type": "stream",
     "text": [
      "true\n",
      "false\n"
     ]
    }
   ],
   "source": [
    "Integer x = new Integer(2);\n",
    "Integer y = new Integer(2);\n",
    "Integer z = new Integer(3);\n",
    "x=y;\n",
    "\n",
    "if(x == y){\n",
    "    System.out.println(\"true\");\n",
    "}else{\n",
    "    System.out.println(\"false\");\n",
    "}\n",
    "\n",
    "if(z == 2){\n",
    "    System.out.println(\"true\");\n",
    "}else{\n",
    "    System.out.println(\"false\");\n",
    "}\n"
   ]
  },
  {
   "cell_type": "markdown",
   "metadata": {},
   "source": [
    "### Constructors \n",
    "Since constructor can only return the object to class, it's implicitly done by java runtime and we are not supposed to add a return type to it. \n"
   ]
  },
  {
   "cell_type": "markdown",
   "metadata": {},
   "source": [
    "### Access Modifiers \n",
    "Access modifiers help to restrict the scope of a class, constructor, variable, method, or data member. The different types of access modifiers are the default, private, protected, and public. "
   ]
  },
  {
   "cell_type": "code",
   "execution_count": null,
   "metadata": {
    "vscode": {
     "languageId": "java"
    }
   },
   "outputs": [],
   "source": [
    "void HelloWorldDefault(){\n",
    "    System.out.println(\"Hello World\");\n",
    "}\n",
    "\n",
    "public void HelloWorldPublic(){\n",
    "    System.out.println(\"Hello World\");\n",
    "}\n",
    "\n",
    "private void HelloWorldPrivate(){\n",
    "    System.out.println(\"Hello World\");\n",
    "}\n",
    "\n",
    "protected void HelloWorldProtected(){\n",
    "    System.out.println(\"Hello World\");\n",
    "}\n",
    "\n"
   ]
  },
  {
   "cell_type": "markdown",
   "metadata": {},
   "source": [
    "### This Keyword\n",
    "the \"this\" keyword implies that the object passed in as a member variable of the class is the value passed in when you create an object of that class. Additionally, this can also be used to invoke current class constructor, invoke current class method, return the current class object, pass an argument in the method call, pass an argument in the constructor call"
   ]
  },
  {
   "cell_type": "code",
   "execution_count": null,
   "metadata": {
    "vscode": {
     "languageId": "java"
    }
   },
   "outputs": [],
   "source": [
    "public class Example{\n",
    "    int ex;\n",
    "\n",
    "    // Constructor with a parameter\n",
    "    public Example(int ex) {\n",
    "      this.ex = ex;\n",
    "    }\n",
    "\n",
    "}"
   ]
  },
  {
   "cell_type": "markdown",
   "metadata": {},
   "source": [
    "### Inheritance and Extends with Examples of Subclass and Super Keyword\n",
    "Inheritance in Java is the method to create a hierarchy between classes by inheriting from other classes."
   ]
  },
  {
   "cell_type": "code",
   "execution_count": null,
   "metadata": {
    "vscode": {
     "languageId": "java"
    }
   },
   "outputs": [],
   "source": [
    "public class Animal {\n",
    "\n",
    "\tprivate String eats;\n",
    "\n",
    "\tprivate int numLegs;\n",
    "\n",
    "\tpublic Animal(){}\n",
    "\n",
    "\tpublic Animal(String food, int legs){\n",
    "\t\tthis.eats = food;\n",
    "\t\tthis.numLegs = legs;\n",
    "\t}\n",
    "\n",
    "\tpublic String getEats() {\n",
    "\t\treturn eats;\n",
    "\t}\n",
    "\n",
    "\tpublic void setEats(String eats) {\n",
    "\t\tthis.eats = eats;\n",
    "\t}\n",
    "\n",
    "\tpublic int getNumLegs() {\n",
    "\t\treturn numLegs;\n",
    "\t}\n",
    "\n",
    "\tpublic void setNumLegs(int numLegs) {\n",
    "\t\tthis.numLegs = numLegs;\n",
    "\t}\n",
    "}\n"
   ]
  },
  {
   "cell_type": "code",
   "execution_count": null,
   "metadata": {
    "vscode": {
     "languageId": "java"
    }
   },
   "outputs": [],
   "source": [
    "public class Cat extends Animal{\n",
    "\n",
    "\tprivate String color;\n",
    "\n",
    "\tpublic Cat( String food, int legs) {\n",
    "\t\tsuper(food, legs);\n",
    "\t\tthis.color=\"White\";\n",
    "\t}\n",
    "\n",
    "\tpublic Cat(String food, int legs, String color){\n",
    "\t\tsuper(food, legs);\n",
    "\t\tthis.color=color;\n",
    "\t}\n",
    "\n",
    "\tpublic String getColor() {\n",
    "\t\treturn color;\n",
    "\t}\n",
    "\n",
    "\tpublic void setColor(String color) {\n",
    "\t\tthis.color = color;\n",
    "\t}\n",
    "\n",
    "}\n"
   ]
  },
  {
   "cell_type": "markdown",
   "metadata": {},
   "source": [
    "### Method Overloading\n",
    "Feature that allows classes to have more than one method with the same name, but different parameters"
   ]
  },
  {
   "cell_type": "code",
   "execution_count": null,
   "metadata": {
    "vscode": {
     "languageId": "java"
    }
   },
   "outputs": [],
   "source": [
    "public class Addition {\n",
    "    int add(int first, int second){\n",
    "        int sum = first + second;\n",
    "        return sum;\n",
    "    }\n",
    "\n",
    "    int add(int first, int second, int third){\n",
    "        int sum = first + second + third;\n",
    "        return sum;\n",
    "    }\n",
    "}\n",
    "//no errors when running"
   ]
  },
  {
   "cell_type": "markdown",
   "metadata": {},
   "source": [
    "### Standard Methods\n",
    "The standard methods of classes are the methods that you can use on objects in that class"
   ]
  }
 ],
 "metadata": {
  "kernelspec": {
   "display_name": "Java",
   "language": "java",
   "name": "java"
  },
  "language_info": {
   "codemirror_mode": "java",
   "file_extension": ".jshell",
   "mimetype": "text/x-java-source",
   "name": "Java",
   "pygments_lexer": "java",
   "version": "11.0.16+8-post-Ubuntu-0ubuntu120.04"
  },
  "orig_nbformat": 4
 },
 "nbformat": 4,
 "nbformat_minor": 2
}
