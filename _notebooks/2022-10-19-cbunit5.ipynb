{
 "cells": [
  {
   "cell_type": "markdown",
   "metadata": {},
   "source": [
    "# Rohan G CollegeBoard Writing Classes\n",
    "> Week 9 Writing Classes\n",
    "\n",
    "- toc: true \n",
    "- badges: true\n",
    "- comments: true\n",
    "- categories: [jupyter]\n",
    "- image: images/chart-preview.png"
   ]
  },
  {
   "cell_type": "code",
   "execution_count": 2,
   "metadata": {},
   "outputs": [],
   "source": [
    "public class StepTracker {\n",
    "    // initialize variables\n",
    "    private int minActiveSteps;\n",
    "    private int totalSteps;\n",
    "    private int numTotalDays;\n",
    "    private int numActiveDays;\n",
    "\n",
    "    // set default construct\n",
    "    public StepTracker(int minActiveSteps) {\n",
    "        this.minActiveSteps = minActiveSteps;\n",
    "        this.totalSteps = 0;\n",
    "        this.numTotalDays = 0;\n",
    "        this.numActiveDays = 0;\n",
    "    }\n",
    "\n",
    "    // once per day, increment steps, days, and possibly active\n",
    "    public void addDailySteps(int numSteps) {\n",
    "        this.totalSteps += numSteps;\n",
    "        this.numTotalDays++;\n",
    "\n",
    "        if (numSteps >= this.minActiveSteps) {\n",
    "            this.numActiveDays++;\n",
    "        }\n",
    "    }\n",
    "\n",
    "    // getter\n",
    "    public int activeDays() {\n",
    "        return this.numActiveDays;\n",
    "    }\n",
    "\n",
    "    // calculate\n",
    "    public double averageSteps() {\n",
    "\n",
    "        if (numTotalDays == 0) {\n",
    "            return 0.0;\n",
    "        } else {\n",
    "            return (double) this.totalSteps/this.numTotalDays;\n",
    "        }\n",
    "    }\n",
    "}"
   ]
  },
  {
   "cell_type": "code",
   "execution_count": null,
   "metadata": {},
   "outputs": [],
   "source": [
    "// FRQ #2\n",
    "public class StepTracker {\n",
    "   \n",
    "    private int totalSteps;\n",
    "    private int minimumSteps;\n",
    "    private int days;\n",
    "    private int activeDays;\n",
    "    \n",
    "    public StepTracker(int min){\n",
    "        minimumSteps = min;\n",
    "        totalSteps = 0;\n",
    "        days = 0;\n",
    "        activeDays = 0;\n",
    "    }\n",
    "\n",
    "    public void addDailySteps(int steps){\n",
    "        totalSteps += steps;\n",
    "        days++;\n",
    "        if (steps >= minSteps){\n",
    "            activeDays++;\n",
    "        }\n",
    "    }\n",
    "\n",
    "    public double averageSteps(){\n",
    "        if (days == 0){\n",
    "            return 0.0;\n",
    "        } \n",
    "\n",
    "        else{\n",
    "            return (double) totalSteps / days;\n",
    "        }\n",
    "    }\n",
    "\n",
    "\n",
    "    public int getActiveDays(){\n",
    "        return days;\n",
    "    }\n",
    "\n",
    "}"
   ]
  },
  {
   "cell_type": "markdown",
   "metadata": {},
   "source": [
    "## Hack"
   ]
  },
  {
   "cell_type": "code",
   "execution_count": 9,
   "metadata": {},
   "outputs": [
    {
     "name": "stdout",
     "output_type": "stream",
     "text": [
      "moo\n"
     ]
    }
   ],
   "source": [
    "public class Cow {\n",
    "    public String type;\n",
    "    public String sound;\n",
    "    public int milk;\n",
    "\n",
    "    \n",
    "    public Cow(String type, String sound, int milk) {\n",
    "        this.type = type;\n",
    "        this.sound = sound;\n",
    "        this.milk = milk;\n",
    "    }\n",
    "\n",
    "    public String getType() {\n",
    "        return this.type;\n",
    "    }\n",
    "\n",
    "    public String getSound() {\n",
    "        return this.sound;\n",
    "    }\n",
    "\n",
    "    public static void main(String[] args) {\n",
    "        Cow tommy = new Cow(\"white\", \"moo\", 5);\n",
    "        Cow jacky = new Cow(\"black\", \"meow\", 3);\n",
    "        System.out.println(tommy.getSound());\n",
    "    }\n",
    "}\n",
    "Cow.main(null);"
   ]
  }
 ],
 "metadata": {
  "kernelspec": {
   "display_name": "Java",
   "language": "java",
   "name": "java"
  },
  "language_info": {
   "codemirror_mode": "java",
   "file_extension": ".jshell",
   "mimetype": "text/x-java-source",
   "name": "java",
   "pygments_lexer": "java",
   "version": "11.0.16+8-post-Ubuntu-0ubuntu120.04"
  },
  "orig_nbformat": 4,
  "vscode": {
   "interpreter": {
    "hash": "916dbcbb3f70747c44a77c7bcd40155683ae19c65e1c03b4aa3499c5328201f1"
   }
  }
 },
 "nbformat": 4,
 "nbformat_minor": 2
}
