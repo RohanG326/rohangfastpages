{
 "cells": [
  {
   "attachments": {},
   "cell_type": "markdown",
   "metadata": {},
   "source": [
    "# Rohan G CollegeBoard Lightboard FRQ 4 2D Arrays\n",
    "> Week 16 CollegeBoard Lightboard FRQ 4 2D Arrays\n",
    "\n",
    "- toc: true \n",
    "- badges: true\n",
    "- comments: true\n",
    "- categories: [jupyter]\n",
    "- image: images/chart-preview.png"
   ]
  },
  {
   "cell_type": "code",
   "execution_count": 1,
   "metadata": {
    "vscode": {
     "languageId": "java"
    }
   },
   "outputs": [
    {
     "name": "stdout",
     "output_type": "stream",
     "text": [
      "false\n",
      "true\n",
      "false\n",
      "false\n"
     ]
    }
   ],
   "source": [
    "public class LightBoard{\n",
    " /** The lights on the board, where true represents on and false represents off.\n",
    " */\n",
    "private boolean[][] lights;\n",
    "\n",
    "\n",
    " /** Constructs a LightBoard object having numRows rows and numCols columns.\n",
    " * Precondition: numRows > 0, numCols > 0\n",
    " * Postcondition: each light has a 40% probability of being set to on.\n",
    " */\n",
    "public LightBoard(int numRows, int numCols){ \n",
    "    lights = new boolean[numRows][numCols];\n",
    "    for (int i = 0; i < numRows; i++) {//for loops \n",
    "        for (int j = 0; j < numCols; j++) {\n",
    "            lights[i][j] = Math.random() < 0.4;\n",
    "            // 40% chance of being on\n",
    "    }\n",
    "    }\n",
    "}\n",
    " /** Evaluates a light in row index row and column index col and returns a status\n",
    " * as described in part (b).\n",
    " * Precondition: row and col are valid indexes in lights.\n",
    " */\n",
    "public boolean evaluateLight(int row, int col){ \n",
    "    //first find out how many are on in column\n",
    "    int columnLights = 0;\n",
    "    for (int i = 0; i < lights.length; i++) {\n",
    "        if (lights[i][col]) {\n",
    "            columnLights++;\n",
    "        }\n",
    "    }\n",
    "\n",
    "    //next check conditions for light \n",
    "    if (lights[row][col] == true && columnLights % 2 == 0) {//first condition\n",
    "        return false;\n",
    "    } else if (lights[row][col] == false && columnLights % 3 == 0) {//second condition\n",
    "        return true;\n",
    "    } else {//last condition\n",
    "        return lights[row][col];\n",
    "    }\n",
    "}\n",
    "\n",
    "public static void main(String[] args) {\n",
    "    //tester method\n",
    "    LightBoard tester = new LightBoard(10,10);\n",
    "    System.out.println(tester.evaluateLight(1,6));\n",
    "    System.out.println(tester.evaluateLight(5,5));\n",
    "    System.out.println(tester.evaluateLight(4,9));\n",
    "    System.out.println(tester.evaluateLight(2,2));\n",
    "}\n",
    " \n",
    "}\n",
    "LightBoard.main(null);"
   ]
  }
 ],
 "metadata": {
  "kernelspec": {
   "display_name": "Java",
   "language": "java",
   "name": "java"
  },
  "language_info": {
   "codemirror_mode": "java",
   "file_extension": ".jshell",
   "mimetype": "text/x-java-source",
   "name": "Java",
   "pygments_lexer": "java",
   "version": "17.0.5+8-Ubuntu-2ubuntu120.04"
  },
  "orig_nbformat": 4
 },
 "nbformat": 4,
 "nbformat_minor": 2
}
