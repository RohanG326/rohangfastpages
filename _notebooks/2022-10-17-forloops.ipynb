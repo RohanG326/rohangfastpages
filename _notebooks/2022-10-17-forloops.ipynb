{
 "cells": [
  {
   "cell_type": "markdown",
   "metadata": {},
   "source": [
    "# Rohan G CollegeBoard Unit 4 For Loops\n",
    "> Week 9 Unit 4 Lesson\n",
    "\n",
    "- toc: true \n",
    "- badges: true\n",
    "- comments: true\n",
    "- categories: [jupyter]\n",
    "- image: images/chart-preview.png"
   ]
  },
  {
   "cell_type": "markdown",
   "metadata": {},
   "source": [
    "# For loops \n",
    "- One of the most tested concepts in the APCSA exam\n",
    "- Skills 3.C, 4.C, and 5.C"
   ]
  },
  {
   "cell_type": "markdown",
   "metadata": {},
   "source": [
    "## Three Parts of a For Loop\n",
    "- Initialization of a variable\n",
    "- Test condition "
   ]
  },
  {
   "cell_type": "code",
   "execution_count": null,
   "metadata": {},
   "outputs": [],
   "source": [
    "for (initialize; test condition; change)\n",
    "{\n",
    "   loop body\n",
    "}"
   ]
  },
  {
   "cell_type": "markdown",
   "metadata": {},
   "source": [
    "### Example"
   ]
  },
  {
   "cell_type": "code",
   "execution_count": 7,
   "metadata": {},
   "outputs": [
    {
     "name": "stdout",
     "output_type": "stream",
     "text": [
      "1\n",
      "2\n",
      "3\n",
      "4\n",
      "5\n"
     ]
    }
   ],
   "source": [
    "for (int x = 1; x <= 5; x++) {\n",
    "    System.out.println(x);\n",
    "}"
   ]
  },
  {
   "cell_type": "markdown",
   "metadata": {},
   "source": [
    "### Control Flow Diagram\n",
    "![image](https://runestone.academy/ns/books/published/csawesome/_images/ForLoopFlow.png)\n",
    "- The code in the initialization area is executed only one time before the loop begins \n",
    "- the test condition is checked each time through the loop and the loop continues as long as the condition is true\n",
    "- the loop control variable change is done at the end of each execution of the body of the loop\n",
    "- When the loop condition is false, execution will continue at the next statement after the body of the loop."
   ]
  },
  {
   "cell_type": "markdown",
   "metadata": {},
   "source": [
    "### Hacks\n",
    "#### - Change the code above to iterate instead from 1-5 to 10-15. (Print numbers 10-15)\n",
    "#### - Convert 10 numbers of your choice from two temperature units (F to C, C to F, C to K)"
   ]
  },
  {
   "cell_type": "code",
   "execution_count": 6,
   "metadata": {},
   "outputs": [
    {
     "name": "stdout",
     "output_type": "stream",
     "text": [
      "Volvo\n",
      "BMW\n",
      "Ford\n",
      "Mazda\n"
     ]
    }
   ],
   "source": [
    "String[] cars = {\"Volvo\", \"BMW\", \"Ford\", \"Mazda\"};\n",
    "for (int i = 0; i < cars.length; i++) {\n",
    "  System.out.println(cars[i]);\n",
    "}"
   ]
  }
 ],
 "metadata": {
  "kernelspec": {
   "display_name": "Java",
   "language": "java",
   "name": "java"
  },
  "language_info": {
   "codemirror_mode": "java",
   "file_extension": ".jshell",
   "mimetype": "text/x-java-source",
   "name": "java",
   "pygments_lexer": "java",
   "version": "11.0.16+8-post-Ubuntu-0ubuntu120.04"
  },
  "orig_nbformat": 4
 },
 "nbformat": 4,
 "nbformat_minor": 2
}
