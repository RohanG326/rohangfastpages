{
 "cells": [
  {
   "cell_type": "markdown",
   "metadata": {},
   "source": [
    "# Rohan G Bash\n",
    "> Bash for fastpages\n",
    "\n",
    "- toc: true \n",
    "- badges: true\n",
    "- comments: true\n",
    "- categories: [jupyter]\n",
    "- image: images/chart-preview.png"
   ]
  },
  {
   "cell_type": "markdown",
   "metadata": {},
   "source": [
    "# Bash"
   ]
  },
  {
   "cell_type": "code",
   "execution_count": null,
   "metadata": {
    "vscode": {
     "languageId": "shellscript"
    }
   },
   "outputs": [],
   "source": [
    "echo \"Using conditional statement to create a project directory and project\"\n",
    "\n",
    "# Variable section\n",
    "export project_dir=$HOME/monkey \n",
    "export project=$project_dir/rohangfastpages \n",
    "export project_repo=\"https://github.com/RohanG326/rohangfastpages.git\"  # change to project of choice\n",
    "\n",
    "cd ~    # start in home directory\n",
    "\n",
    "# Conditional block to make a project directory\n",
    "if [ ! -d $project_dir ]\n",
    "then \n",
    "    echo \"Directory $project_dir does not exists... makinng directory $project_dir\"\n",
    "    mkdir -p $project_dir\n",
    "fi\n",
    "echo \"Directory $project_dir exists.\" \n",
    "\n",
    "# Conditional block to git clone a project from project_repo\n",
    "if [ ! -d $project ]\n",
    "then\n",
    "    echo \"Directory $project does not exists... cloning $project_repo\"\n",
    "    cd $project_dir\n",
    "    git clone $project_repo\n",
    "    cd ~\n",
    "fi\n",
    "echo \"Directory $project exists.\""
   ]
  },
  {
   "cell_type": "code",
   "execution_count": null,
   "metadata": {
    "vscode": {
     "languageId": "shellscript"
    }
   },
   "outputs": [],
   "source": [
    "echo \"Navigate to project, then navigate to area where files were cloned\"\n",
    "cd $project\n",
    "pwd\n",
    "\n",
    "echo \"\"\n",
    "echo \"list top level or root of files with project pulled from github\"\n",
    "ls\n",
    "\n",
    "echo \"\"\n",
    "echo \"list again with hidden files pulled from github\"\n",
    "ls -a   # hidden files flag, many shell commands have flags\n",
    "\n",
    "echo \"\"\n",
    "echo \"list all files in long format\"\n",
    "ls -al   # all files and long listing"
   ]
  },
  {
   "cell_type": "code",
   "execution_count": 1,
   "metadata": {
    "vscode": {
     "languageId": "shellscript"
    }
   },
   "outputs": [
    {
     "name": "stdout",
     "output_type": "stream",
     "text": [
      "Look for posts\n",
      "bash: cd: /_posts: No such file or directory\n",
      "/home/rohang61216/vscode/rohangfastpages/_notebooks\n",
      "total 3116\n",
      "-rw-r--r-- 1 rohang61216 rohang61216 3162384 Aug 22 10:35 2020-02-20-test.ipynb\n",
      "-rw-r--r-- 1 rohang61216 rohang61216    1387 Aug 22 10:35 2022-08-20-java.ipynb\n",
      "-rw-r--r-- 1 rohang61216 rohang61216    1169 Aug 22 10:35 2022-08-20-python.ipynb\n",
      "-rw-r--r-- 1 rohang61216 rohang61216    2526 Aug 22 10:58 2022-08-22-bash.ipynb\n",
      "-rw-r--r-- 1 rohang61216 rohang61216     771 Aug 22 10:35 README.md\n",
      "drwxr-xr-x 2 rohang61216 rohang61216    4096 Aug 22 10:35 \u001b[0m\u001b[01;34mghtop_images\u001b[0m\n",
      "drwxr-xr-x 2 rohang61216 rohang61216    4096 Aug 22 10:35 \u001b[01;34mmy_icons\u001b[0m\n"
     ]
    }
   ],
   "source": [
    "echo \"Look for posts\"\n",
    "export posts=$project/_posts  # _posts inside project\n",
    "cd $posts  # this should exist per fastpages\n",
    "pwd  # present working directory\n",
    "ls -l  # list posts"
   ]
  },
  {
   "cell_type": "code",
   "execution_count": 2,
   "metadata": {
    "vscode": {
     "languageId": "shellscript"
    }
   },
   "outputs": [
    {
     "name": "stdout",
     "output_type": "stream",
     "text": [
      "Look for notebooks\n",
      "bash: cd: /_notebooks: No such file or directory\n",
      "/home/rohang61216/vscode/rohangfastpages/_notebooks\n",
      "total 3116\n",
      "-rw-r--r-- 1 rohang61216 rohang61216 3162384 Aug 22 10:35 2020-02-20-test.ipynb\n",
      "-rw-r--r-- 1 rohang61216 rohang61216    1387 Aug 22 10:35 2022-08-20-java.ipynb\n",
      "-rw-r--r-- 1 rohang61216 rohang61216    1169 Aug 22 10:35 2022-08-20-python.ipynb\n",
      "-rw-r--r-- 1 rohang61216 rohang61216    2526 Aug 22 10:58 2022-08-22-bash.ipynb\n",
      "-rw-r--r-- 1 rohang61216 rohang61216     771 Aug 22 10:35 README.md\n",
      "drwxr-xr-x 2 rohang61216 rohang61216    4096 Aug 22 10:35 \u001b[0m\u001b[01;34mghtop_images\u001b[0m\n",
      "drwxr-xr-x 2 rohang61216 rohang61216    4096 Aug 22 10:35 \u001b[01;34mmy_icons\u001b[0m\n"
     ]
    }
   ],
   "source": [
    "echo \"Look for notebooks\"\n",
    "export notebooks=$project/_notebooks  # _notebooks is inside project\n",
    "cd $notebooks   # this should exist per fastpages\n",
    "pwd  # present working directory\n",
    "ls -l  # list notebooks"
   ]
  },
  {
   "cell_type": "code",
   "execution_count": null,
   "metadata": {
    "vscode": {
     "languageId": "shellscript"
    }
   },
   "outputs": [],
   "source": [
    "echo \"Look for images in notebooks, print working directory, list files\"\n",
    "cd $notebooks/images  # this should exist per fastpages\n",
    "pwd\n",
    "ls -l"
   ]
  },
  {
   "cell_type": "code",
   "execution_count": null,
   "metadata": {
    "vscode": {
     "languageId": "shellscript"
    }
   },
   "outputs": [],
   "source": [
    "echo \"Navigate to project, then navigate to area wwhere files were cloned\"\n",
    "\n",
    "cd $project\n",
    "echo \"show the contents of README.md\"\n",
    "echo \"\"\n",
    "\n",
    "cat README.md  # show contents of file, in this case markdown\n",
    "echo \"\"\n",
    "echo \"end of README.md\""
   ]
  },
  {
   "cell_type": "code",
   "execution_count": null,
   "metadata": {
    "vscode": {
     "languageId": "shellscript"
    }
   },
   "outputs": [],
   "source": [
    "echo \"Show the shell environment variables, key on left of equal value on right\"\n",
    "echo \"\"\n",
    "\n",
    "env"
   ]
  },
  {
   "cell_type": "code",
   "execution_count": 3,
   "metadata": {
    "vscode": {
     "languageId": "shellscript"
    }
   },
   "outputs": [
    {
     "name": "stdout",
     "output_type": "stream",
     "text": [
      "\n",
      "show the secrets of .git\n",
      "bash: cd: .git: No such file or directory\n",
      "total 1352640\n",
      "-rwxrwxrwx  1 rohang61216 rohang61216 690850711 May 10 11:35 \u001b[0m\u001b[01;32mAnaconda3-2022.05-Linux-x86_64.sh\u001b[0m\n",
      "-rw-r--r--  1 rohang61216 rohang61216 690850711 May 10 11:35 Anaconda3-2022.05-Linux-x86_64.sh.1\n",
      "-rw-r--r--  1 rohang61216 rohang61216      1224 Aug 22 01:49 Untitled.ipynb\n",
      "drwxr-xr-x 28 rohang61216 rohang61216      4096 Aug 19 10:52 \u001b[01;34manaconda3\u001b[0m\n",
      "-rw-r--r--  1 rohang61216 rohang61216   3366077 Dec  6  2021 \u001b[01;31mijava-1.3.0.zip\u001b[0m\n",
      "-rw-r--r--  1 rohang61216 rohang61216      7471 May  5  2019 install.py\n",
      "drwxr-xr-x  3 rohang61216 rohang61216      4096 May  5  2019 \u001b[01;34mjava\u001b[0m\n",
      "drwxr-xr-x  6 rohang61216 rohang61216      4096 Aug 22 10:35 \u001b[01;34mvscode\u001b[0m\n",
      "\n",
      "look at config file\n",
      "cat: config: No such file or directory\n"
     ]
    },
    {
     "ename": "",
     "evalue": "1",
     "output_type": "error",
     "traceback": []
    }
   ],
   "source": [
    "cd $project\n",
    "\n",
    "echo \"\"\n",
    "echo \"show the secrets of .git\"\n",
    "cd .git\n",
    "ls -l\n",
    "\n",
    "echo \"\"\n",
    "echo \"look at config file\"\n",
    "cat config"
   ]
  }
 ],
 "metadata": {
  "kernelspec": {
   "display_name": "Bash",
   "language": "bash",
   "name": "bash"
  },
  "language_info": {
   "codemirror_mode": "shell",
   "file_extension": ".sh",
   "mimetype": "text/x-sh",
   "name": "bash"
  },
  "orig_nbformat": 4
 },
 "nbformat": 4,
 "nbformat_minor": 2
}
