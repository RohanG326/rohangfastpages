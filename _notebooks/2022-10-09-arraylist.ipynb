{
 "cells": [
  {
   "cell_type": "markdown",
   "metadata": {},
   "source": [
    "# Rohan G Array List\n",
    "> Week 7 Array List\n",
    "\n",
    "- toc: true \n",
    "- badges: true\n",
    "- comments: true\n",
    "- categories: [jupyter]\n",
    "- image: images/chart-preview.png"
   ]
  },
  {
   "cell_type": "code",
   "execution_count": 7,
   "metadata": {
    "vscode": {
     "languageId": "java"
    }
   },
   "outputs": [
    {
     "name": "stdout",
     "output_type": "stream",
     "text": [
      "[What is the capital of Chile?, What is the capital of France?, What is the capital of Brazil?]\n",
      "[1, 2]\n",
      "setting the questions at certain indexes: \n",
      "[What is the capital of England?, What is the capital of Ethiopia, What is the capital of Chile?, What is the capital of France?, What is the capital of Brazil?]\n",
      "\n",
      "Size of array list: \n",
      "5\n",
      "\n",
      "removing the third question at index 3: \n",
      "[What is the capital of England?, What is the capital of Ethiopia, What is the capital of Chile?, What is the capital of Brazil?]\n",
      "\n",
      "removing the england question: \n",
      "[What is the capital of Ethiopia, What is the capital of Chile?, What is the capital of Brazil?]\n",
      "\n",
      "Get element at index 2: \n",
      "What is the capital of Brazil?\n",
      "\n",
      "indexing the england question: \n",
      "3\n",
      "\n",
      "Hash Code: 473605997\n",
      "\n",
      "Is the arraylist empty: false\n",
      "\n",
      "Does arraylist contain What is the capital of England?: true\n",
      "\n",
      "Cleared arrayList:\n",
      "[]\n"
     ]
    }
   ],
   "source": [
    "import java.util.ArrayList;\n",
    "import java.util.Comparator;\n",
    "\n",
    "public class ArrayList1 {\n",
    "\n",
    "  public static void main(String[] args) {\n",
    "   \n",
    "    // Creating an arraylist Jeopardy\n",
    "    ArrayList<String> Jeopardy = new ArrayList<String>();\n",
    "    ArrayList<Integer> JeopardyPts = new ArrayList<Integer>();\n",
    "\n",
    "    // Adding without index\n",
    "    Jeopardy.add(\"What is the capital of Chile?\");\n",
    "    Jeopardy.add(\"What is the capital of France?\");\n",
    "    Jeopardy.add(\"What is the capital of Brazil?\");\n",
    "    for (int = i)\n",
    "    JeopardyPts.add(1);\n",
    "    JeopardyPts.add(2);\n",
    "    JeopardyPts.add(7);\n",
    "    JeopardyPts.add(9);\n",
    "    JeopardyPts.add(5);\n",
    "\n",
    "    System.out.println(Jeopardy);\n",
    "    System.out.println(JeopardyPts);\n",
    "\n",
    "    // Adding players with index\n",
    "    Jeopardy.add(0, \"What is the capital of England?\");\n",
    "    Jeopardy.add(1, \"What is the capital of Ethiopia\");\n",
    "    System.out.println(\"setting the questions at certain indexes: \" + \"\\n\" + Jeopardy + \"\\n\");\n",
    "\n",
    "    // Showing size of list\n",
    "    System.out.println(\"Size of array list: \" + \"\\n\" + Jeopardy.size() + \"\\n\");\n",
    "\n",
    "    // Remove item with index\n",
    "    Jeopardy.remove(3);\n",
    "    System.out.println(\"removing the third question at index 3: \" + \"\\n\" + Jeopardy + \"\\n\");\n",
    "\n",
    "    // Remove an item\n",
    "    Jeopardy.remove(\"What is the capital of England?\");\n",
    "    System.out.println(\"removing the england question: \" + \"\\n\" + Jeopardy + \"\\n\");\n",
    "    Jeopardy.add(\"What is the capital of England?\");\n",
    "\n",
    "    // get an iteam with index\n",
    "    System.out.println(\"Get element at index 2: \" + \"\\n\" + Jeopardy.get(2) + \"\\n\");\n",
    "\n",
    "    // find index of an item\n",
    "    System.out.println(\"indexing the england question: \" + \"\\n\" + Jeopardy.indexOf(\"What is the capital of England?\") + \"\\n\");\n",
    "    \n",
    "    // hashcode of list\n",
    "    System.out.println(\"Hash Code: \" + Jeopardy.hashCode() + \"\\n\");\n",
    "\n",
    "    // check if list is empty\n",
    "    System.out.println(\"Is the arraylist empty: \"  + Jeopardy.isEmpty() + \"\\n\");\n",
    "\n",
    "    // check if list contains an item\n",
    "    System.out.println(\"Does arraylist contain What is the capital of England?: \"  + Jeopardy.contains(\"What is the capital of England?\") + \"\\n\");\n",
    "\n",
    "    // clears list\n",
    "    Jeopardy.clear();\n",
    "    System.out.println(\"Cleared arrayList:\" + \"\\n\" + Jeopardy);\n",
    "  }\n",
    "\n",
    "}\n",
    "\n",
    "ArrayList1.main(null);\n",
    "\n"
   ]
  }
 ],
 "metadata": {
  "kernelspec": {
   "display_name": "Java",
   "language": "java",
   "name": "java"
  },
  "language_info": {
   "codemirror_mode": "java",
   "file_extension": ".jshell",
   "mimetype": "text/x-java-source",
   "name": "Java",
   "pygments_lexer": "java",
   "version": "11.0.16+8-post-Ubuntu-0ubuntu120.04"
  },
  "orig_nbformat": 4
 },
 "nbformat": 4,
 "nbformat_minor": 2
}
